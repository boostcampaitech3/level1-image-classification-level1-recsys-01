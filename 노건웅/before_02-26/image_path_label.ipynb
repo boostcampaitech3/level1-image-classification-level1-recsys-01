{
 "cells": [
  {
   "cell_type": "code",
   "execution_count": 1,
   "metadata": {},
   "outputs": [],
   "source": [
    "import os\n",
    "import numpy as np\n",
    "import pandas as pd\n",
    "import matplotlib.pyplot as plt\n",
    "import re"
   ]
  },
  {
   "cell_type": "code",
   "execution_count": 2,
   "metadata": {},
   "outputs": [],
   "source": [
    "PATH = '/opt/ml/input/data/train/train.csv'\n",
    "\n",
    "train_csv = pd.read_csv(PATH)"
   ]
  },
  {
   "cell_type": "code",
   "execution_count": 3,
   "metadata": {},
   "outputs": [],
   "source": [
    "def makeLabeling(pd,idx,name):\n",
    "    if name == 'mask':\n",
    "        if pd['gender'][idx] == 'male':\n",
    "            if pd['age'][idx] < 30: return 0\n",
    "            elif 30 <= pd['age'][idx] < 60: return 1\n",
    "            else: return 2\n",
    "        else:\n",
    "            if pd['age'][idx] < 30: return 3\n",
    "            elif 30 <= pd['age'][idx] < 60: return 4\n",
    "            else: return 5\n",
    "    elif name == 'incorrect':\n",
    "        if pd['gender'][idx] == 'male':\n",
    "            if pd['age'][idx] < 30: return 6\n",
    "            elif 30 <= pd['age'][idx] < 60: return 7\n",
    "            else: return 8\n",
    "        else:\n",
    "            if pd['age'][idx] < 30: return 9\n",
    "            elif 30 <= pd['age'][idx] < 60: return 10\n",
    "            else: return 11\n",
    "    else:\n",
    "        if pd['gender'][idx] == 'male':\n",
    "            if pd['age'][idx] < 30: return 12\n",
    "            elif 30 <= pd['age'][idx] < 60: return 13\n",
    "            else: return 14\n",
    "        else:\n",
    "            if pd['age'][idx] < 30: return 15\n",
    "            elif 30 <= pd['age'][idx] < 60: return 16\n",
    "            else: return 17"
   ]
  },
  {
   "cell_type": "code",
   "execution_count": 4,
   "metadata": {},
   "outputs": [
    {
     "name": "stdout",
     "output_type": "stream",
     "text": [
      "<class 'pandas.core.frame.DataFrame'>\n",
      "RangeIndex: 2700 entries, 0 to 2699\n",
      "Data columns (total 5 columns):\n",
      " #   Column  Non-Null Count  Dtype \n",
      "---  ------  --------------  ----- \n",
      " 0   id      2700 non-null   object\n",
      " 1   gender  2700 non-null   object\n",
      " 2   race    2700 non-null   object\n",
      " 3   age     2700 non-null   int64 \n",
      " 4   path    2700 non-null   object\n",
      "dtypes: int64(1), object(4)\n",
      "memory usage: 105.6+ KB\n"
     ]
    }
   ],
   "source": [
    "train_csv.info()"
   ]
  },
  {
   "cell_type": "code",
   "execution_count": 12,
   "metadata": {},
   "outputs": [],
   "source": [
    "file_dict = {k:[] for k in ['id','path','file_name','absolute_path','label']}"
   ]
  },
  {
   "cell_type": "code",
   "execution_count": 13,
   "metadata": {},
   "outputs": [],
   "source": [
    "IMAGE_PATH = '/opt/ml/input/data/train/images'\n",
    "\n",
    "for i in range(len(train_csv)):\n",
    "    total_path = os.path.join(IMAGE_PATH,str(train_csv['path'][i]))\n",
    "    for file_name in os.listdir(total_path):\n",
    "        # 확장자 제거, 이름만 가져오기\n",
    "        fn_split = file_name.split(\".\")\n",
    "        if len(fn_split[0]) == 0: \n",
    "            continue\n",
    "        name = re.findall(\"[a-z]+\",fn_split[0])[0]\n",
    "        \n",
    "        # labeling\n",
    "        label = makeLabeling(train_csv,i,name)\n",
    "        file_dict['id'].append(train_csv['id'][i])\n",
    "        file_dict['file_name'].append(file_name)\n",
    "        file_dict['path'].append(train_csv['path'][i])\n",
    "        file_dict['absolute_path'].append(os.path.join(total_path,file_name))\n",
    "        file_dict['label'].append(label)"
   ]
  },
  {
   "cell_type": "code",
   "execution_count": 14,
   "metadata": {},
   "outputs": [
    {
     "name": "stdout",
     "output_type": "stream",
     "text": [
      "id: 18900\n",
      "path: 18900\n",
      "file_name: 18900\n",
      "absolute_path: 18900\n",
      "label: 18900\n"
     ]
    }
   ],
   "source": [
    "for k in file_dict:\n",
    "    print(f\"{k}: {len(file_dict[k])}\")"
   ]
  },
  {
   "cell_type": "code",
   "execution_count": 15,
   "metadata": {},
   "outputs": [],
   "source": [
    "image_label = pd.DataFrame(file_dict)"
   ]
  },
  {
   "cell_type": "code",
   "execution_count": 16,
   "metadata": {},
   "outputs": [
    {
     "data": {
      "text/html": [
       "<div>\n",
       "<style scoped>\n",
       "    .dataframe tbody tr th:only-of-type {\n",
       "        vertical-align: middle;\n",
       "    }\n",
       "\n",
       "    .dataframe tbody tr th {\n",
       "        vertical-align: top;\n",
       "    }\n",
       "\n",
       "    .dataframe thead th {\n",
       "        text-align: right;\n",
       "    }\n",
       "</style>\n",
       "<table border=\"1\" class=\"dataframe\">\n",
       "  <thead>\n",
       "    <tr style=\"text-align: right;\">\n",
       "      <th></th>\n",
       "      <th>id</th>\n",
       "      <th>path</th>\n",
       "      <th>file_name</th>\n",
       "      <th>absolute_path</th>\n",
       "      <th>label</th>\n",
       "    </tr>\n",
       "  </thead>\n",
       "  <tbody>\n",
       "    <tr>\n",
       "      <th>0</th>\n",
       "      <td>000001</td>\n",
       "      <td>000001_female_Asian_45</td>\n",
       "      <td>incorrect_mask.jpg</td>\n",
       "      <td>/opt/ml/input/data/train/images/000001_female_...</td>\n",
       "      <td>10</td>\n",
       "    </tr>\n",
       "    <tr>\n",
       "      <th>1</th>\n",
       "      <td>000001</td>\n",
       "      <td>000001_female_Asian_45</td>\n",
       "      <td>mask4.jpg</td>\n",
       "      <td>/opt/ml/input/data/train/images/000001_female_...</td>\n",
       "      <td>4</td>\n",
       "    </tr>\n",
       "    <tr>\n",
       "      <th>2</th>\n",
       "      <td>000001</td>\n",
       "      <td>000001_female_Asian_45</td>\n",
       "      <td>mask2.jpg</td>\n",
       "      <td>/opt/ml/input/data/train/images/000001_female_...</td>\n",
       "      <td>4</td>\n",
       "    </tr>\n",
       "    <tr>\n",
       "      <th>3</th>\n",
       "      <td>000001</td>\n",
       "      <td>000001_female_Asian_45</td>\n",
       "      <td>mask1.jpg</td>\n",
       "      <td>/opt/ml/input/data/train/images/000001_female_...</td>\n",
       "      <td>4</td>\n",
       "    </tr>\n",
       "    <tr>\n",
       "      <th>4</th>\n",
       "      <td>000001</td>\n",
       "      <td>000001_female_Asian_45</td>\n",
       "      <td>mask3.jpg</td>\n",
       "      <td>/opt/ml/input/data/train/images/000001_female_...</td>\n",
       "      <td>4</td>\n",
       "    </tr>\n",
       "    <tr>\n",
       "      <th>5</th>\n",
       "      <td>000001</td>\n",
       "      <td>000001_female_Asian_45</td>\n",
       "      <td>normal.jpg</td>\n",
       "      <td>/opt/ml/input/data/train/images/000001_female_...</td>\n",
       "      <td>16</td>\n",
       "    </tr>\n",
       "    <tr>\n",
       "      <th>6</th>\n",
       "      <td>000001</td>\n",
       "      <td>000001_female_Asian_45</td>\n",
       "      <td>mask5.jpg</td>\n",
       "      <td>/opt/ml/input/data/train/images/000001_female_...</td>\n",
       "      <td>4</td>\n",
       "    </tr>\n",
       "  </tbody>\n",
       "</table>\n",
       "</div>"
      ],
      "text/plain": [
       "       id                    path           file_name  \\\n",
       "0  000001  000001_female_Asian_45  incorrect_mask.jpg   \n",
       "1  000001  000001_female_Asian_45           mask4.jpg   \n",
       "2  000001  000001_female_Asian_45           mask2.jpg   \n",
       "3  000001  000001_female_Asian_45           mask1.jpg   \n",
       "4  000001  000001_female_Asian_45           mask3.jpg   \n",
       "5  000001  000001_female_Asian_45          normal.jpg   \n",
       "6  000001  000001_female_Asian_45           mask5.jpg   \n",
       "\n",
       "                                       absolute_path  label  \n",
       "0  /opt/ml/input/data/train/images/000001_female_...     10  \n",
       "1  /opt/ml/input/data/train/images/000001_female_...      4  \n",
       "2  /opt/ml/input/data/train/images/000001_female_...      4  \n",
       "3  /opt/ml/input/data/train/images/000001_female_...      4  \n",
       "4  /opt/ml/input/data/train/images/000001_female_...      4  \n",
       "5  /opt/ml/input/data/train/images/000001_female_...     16  \n",
       "6  /opt/ml/input/data/train/images/000001_female_...      4  "
      ]
     },
     "execution_count": 16,
     "metadata": {},
     "output_type": "execute_result"
    }
   ],
   "source": [
    "image_label.head(7)"
   ]
  },
  {
   "cell_type": "code",
   "execution_count": 17,
   "metadata": {},
   "outputs": [
    {
     "data": {
      "text/html": [
       "<div>\n",
       "<style scoped>\n",
       "    .dataframe tbody tr th:only-of-type {\n",
       "        vertical-align: middle;\n",
       "    }\n",
       "\n",
       "    .dataframe tbody tr th {\n",
       "        vertical-align: top;\n",
       "    }\n",
       "\n",
       "    .dataframe thead th {\n",
       "        text-align: right;\n",
       "    }\n",
       "</style>\n",
       "<table border=\"1\" class=\"dataframe\">\n",
       "  <thead>\n",
       "    <tr style=\"text-align: right;\">\n",
       "      <th></th>\n",
       "      <th>id</th>\n",
       "      <th>path</th>\n",
       "      <th>file_name</th>\n",
       "      <th>absolute_path</th>\n",
       "      <th>label</th>\n",
       "    </tr>\n",
       "  </thead>\n",
       "  <tbody>\n",
       "    <tr>\n",
       "      <th>18893</th>\n",
       "      <td>006959</td>\n",
       "      <td>006959_male_Asian_19</td>\n",
       "      <td>incorrect_mask.jpg</td>\n",
       "      <td>/opt/ml/input/data/train/images/006959_male_As...</td>\n",
       "      <td>6</td>\n",
       "    </tr>\n",
       "    <tr>\n",
       "      <th>18894</th>\n",
       "      <td>006959</td>\n",
       "      <td>006959_male_Asian_19</td>\n",
       "      <td>mask4.jpg</td>\n",
       "      <td>/opt/ml/input/data/train/images/006959_male_As...</td>\n",
       "      <td>0</td>\n",
       "    </tr>\n",
       "    <tr>\n",
       "      <th>18895</th>\n",
       "      <td>006959</td>\n",
       "      <td>006959_male_Asian_19</td>\n",
       "      <td>mask2.jpg</td>\n",
       "      <td>/opt/ml/input/data/train/images/006959_male_As...</td>\n",
       "      <td>0</td>\n",
       "    </tr>\n",
       "    <tr>\n",
       "      <th>18896</th>\n",
       "      <td>006959</td>\n",
       "      <td>006959_male_Asian_19</td>\n",
       "      <td>mask1.jpg</td>\n",
       "      <td>/opt/ml/input/data/train/images/006959_male_As...</td>\n",
       "      <td>0</td>\n",
       "    </tr>\n",
       "    <tr>\n",
       "      <th>18897</th>\n",
       "      <td>006959</td>\n",
       "      <td>006959_male_Asian_19</td>\n",
       "      <td>mask3.jpg</td>\n",
       "      <td>/opt/ml/input/data/train/images/006959_male_As...</td>\n",
       "      <td>0</td>\n",
       "    </tr>\n",
       "    <tr>\n",
       "      <th>18898</th>\n",
       "      <td>006959</td>\n",
       "      <td>006959_male_Asian_19</td>\n",
       "      <td>normal.jpg</td>\n",
       "      <td>/opt/ml/input/data/train/images/006959_male_As...</td>\n",
       "      <td>12</td>\n",
       "    </tr>\n",
       "    <tr>\n",
       "      <th>18899</th>\n",
       "      <td>006959</td>\n",
       "      <td>006959_male_Asian_19</td>\n",
       "      <td>mask5.jpg</td>\n",
       "      <td>/opt/ml/input/data/train/images/006959_male_As...</td>\n",
       "      <td>0</td>\n",
       "    </tr>\n",
       "  </tbody>\n",
       "</table>\n",
       "</div>"
      ],
      "text/plain": [
       "           id                  path           file_name  \\\n",
       "18893  006959  006959_male_Asian_19  incorrect_mask.jpg   \n",
       "18894  006959  006959_male_Asian_19           mask4.jpg   \n",
       "18895  006959  006959_male_Asian_19           mask2.jpg   \n",
       "18896  006959  006959_male_Asian_19           mask1.jpg   \n",
       "18897  006959  006959_male_Asian_19           mask3.jpg   \n",
       "18898  006959  006959_male_Asian_19          normal.jpg   \n",
       "18899  006959  006959_male_Asian_19           mask5.jpg   \n",
       "\n",
       "                                           absolute_path  label  \n",
       "18893  /opt/ml/input/data/train/images/006959_male_As...      6  \n",
       "18894  /opt/ml/input/data/train/images/006959_male_As...      0  \n",
       "18895  /opt/ml/input/data/train/images/006959_male_As...      0  \n",
       "18896  /opt/ml/input/data/train/images/006959_male_As...      0  \n",
       "18897  /opt/ml/input/data/train/images/006959_male_As...      0  \n",
       "18898  /opt/ml/input/data/train/images/006959_male_As...     12  \n",
       "18899  /opt/ml/input/data/train/images/006959_male_As...      0  "
      ]
     },
     "execution_count": 17,
     "metadata": {},
     "output_type": "execute_result"
    }
   ],
   "source": [
    "image_label.tail(7)"
   ]
  },
  {
   "cell_type": "code",
   "execution_count": 18,
   "metadata": {},
   "outputs": [
    {
     "data": {
      "text/plain": [
       "array([ 0,  1,  2,  3,  4,  5,  6,  7,  8,  9, 10, 11, 12, 13, 14, 15, 16,\n",
       "       17])"
      ]
     },
     "execution_count": 18,
     "metadata": {},
     "output_type": "execute_result"
    }
   ],
   "source": [
    "np.unique(image_label['label'])"
   ]
  },
  {
   "cell_type": "code",
   "execution_count": 19,
   "metadata": {},
   "outputs": [],
   "source": [
    "image_label.to_csv('image_label.csv',index=False)"
   ]
  },
  {
   "cell_type": "code",
   "execution_count": null,
   "metadata": {},
   "outputs": [],
   "source": []
  }
 ],
 "metadata": {
  "interpreter": {
   "hash": "d4d1e4263499bec80672ea0156c357c1ee493ec2b1c70f0acce89fc37c4a6abe"
  },
  "kernelspec": {
   "display_name": "Python 3.8.5 ('base')",
   "language": "python",
   "name": "python3"
  },
  "language_info": {
   "codemirror_mode": {
    "name": "ipython",
    "version": 3
   },
   "file_extension": ".py",
   "mimetype": "text/x-python",
   "name": "python",
   "nbconvert_exporter": "python",
   "pygments_lexer": "ipython3",
   "version": "3.8.5"
  },
  "orig_nbformat": 4
 },
 "nbformat": 4,
 "nbformat_minor": 2
}
