{
 "cells": [
  {
   "cell_type": "code",
   "execution_count": 5,
   "id": "0842351a-2a97-4fd9-9b38-9b3d718b56e9",
   "metadata": {},
   "outputs": [
    {
     "name": "stdout",
     "output_type": "stream",
     "text": [
      "Namespace(augmentation='BaseAugmentation', batch_size=16, criterion='cross_entropy', data_dir='/opt/ml/input/data/train/images', dataset='MaskBaseDataset', epochs=1, log_interval=20, lr=0.001, lr_decay_step=20, model='MyModel', model_dir='./model', name='exp', optimizer='Adam', resize=[128, 96], seed=42, val_ratio=0.2, valid_batch_size=16)\n",
      "Downloading: \"https://github.com/lukemelas/EfficientNet-PyTorch/releases/download/1.0/efficientnet-b7-dcc49843.pth\" to /opt/ml/.cache/torch/hub/checkpoints/efficientnet-b7-dcc49843.pth\n",
      "100%|████████████████████████████████████████| 254M/254M [00:29<00:00, 9.01MB/s]\n",
      "Loaded pretrained weights for efficientnet-b7\n",
      "Epoch[0/1](20/945) || training loss 2.256 || training accuracy 40.00% || lr 0.001\n",
      "Epoch[0/1](40/945) || training loss 1.545 || training accuracy 58.13% || lr 0.001\n",
      "^C\n",
      "Traceback (most recent call last):\n",
      "  File \"train.py\", line 267, in <module>\n",
      "    train(data_dir, model_dir, args)\n",
      "  File \"train.py\", line 172, in train\n",
      "    optimizer.step()\n",
      "  File \"/opt/conda/lib/python3.8/site-packages/torch/optim/lr_scheduler.py\", line 67, in wrapper\n",
      "    return wrapped(*args, **kwargs)\n",
      "  File \"/opt/conda/lib/python3.8/site-packages/torch/autograd/grad_mode.py\", line 26, in decorate_context\n",
      "    return func(*args, **kwargs)\n",
      "  File \"/opt/conda/lib/python3.8/site-packages/torch/optim/adam.py\", line 108, in step\n",
      "    F.adam(params_with_grad,\n",
      "  File \"/opt/conda/lib/python3.8/site-packages/torch/optim/functional.py\", line 94, in adam\n",
      "    denom = (exp_avg_sq.sqrt() / math.sqrt(bias_correction2)).add_(eps)\n",
      "KeyboardInterrupt\n"
     ]
    }
   ],
   "source": [
    "!python train.py"
   ]
  },
  {
   "cell_type": "code",
   "execution_count": 3,
   "id": "169c9b1b-17c9-482b-9960-163aa7670523",
   "metadata": {},
   "outputs": [
    {
     "name": "stdout",
     "output_type": "stream",
     "text": [
      "Requirement already satisfied: efficientnet_pytorch in /opt/conda/lib/python3.8/site-packages (0.7.1)\n",
      "Requirement already satisfied: torch in /opt/conda/lib/python3.8/site-packages (from efficientnet_pytorch) (1.7.1)\n",
      "Requirement already satisfied: typing_extensions in /opt/conda/lib/python3.8/site-packages (from torch->efficientnet_pytorch) (3.7.4.3)\n",
      "Requirement already satisfied: numpy in /opt/conda/lib/python3.8/site-packages (from torch->efficientnet_pytorch) (1.19.2)\n"
     ]
    }
   ],
   "source": [
    "!pip install efficientnet_pytorch"
   ]
  },
  {
   "cell_type": "code",
   "execution_count": 12,
   "id": "0f6946e4-0423-4eb2-af25-bc555979811f",
   "metadata": {},
   "outputs": [
    {
     "name": "stdout",
     "output_type": "stream",
     "text": [
      "uncompress success\n"
     ]
    }
   ],
   "source": [
    "import zipfile\n",
    " \n",
    "try:\n",
    "    with zipfile.ZipFile(\"images.zip\") as zf:\n",
    "        zf.extractall()\n",
    "        print(\"uncompress success\")\n",
    " \n",
    "except:\n",
    "    print(\"uncompress fail\")\n",
    "\n"
   ]
  },
  {
   "cell_type": "code",
   "execution_count": 7,
   "id": "86cb38b3-d9f9-4907-b4ce-df9a01a6d471",
   "metadata": {},
   "outputs": [
    {
     "name": "stdout",
     "output_type": "stream",
     "text": [
      "Traceback (most recent call last):\n",
      "  File \"inference.py\", line 91, in <module>\n",
      "    inference(data_dir, model_dir, output_dir, args)\n",
      "  File \"/opt/conda/lib/python3.8/site-packages/torch/autograd/grad_mode.py\", line 26, in decorate_context\n",
      "    return func(*args, **kwargs)\n",
      "  File \"inference.py\", line 37, in inference\n",
      "    model = load_model(model_dir, num_classes, device).to(device)\n",
      "  File \"inference.py\", line 24, in load_model\n",
      "    model.load_state_dict(torch.load(model_path, map_location=device))\n",
      "  File \"/opt/conda/lib/python3.8/site-packages/torch/serialization.py\", line 581, in load\n",
      "    with _open_file_like(f, 'rb') as opened_file:\n",
      "  File \"/opt/conda/lib/python3.8/site-packages/torch/serialization.py\", line 230, in _open_file_like\n",
      "    return _open_file(name_or_buffer, mode)\n",
      "  File \"/opt/conda/lib/python3.8/site-packages/torch/serialization.py\", line 211, in __init__\n",
      "    super(_open_file, self).__init__(open(name, mode))\n",
      "FileNotFoundError: [Errno 2] No such file or directory: './model/exp/best.pth'\n"
     ]
    }
   ],
   "source": [
    "!python inference.py"
   ]
  },
  {
   "cell_type": "code",
   "execution_count": null,
   "id": "eda39a39-f5b6-4460-8a55-120db83eee21",
   "metadata": {},
   "outputs": [],
   "source": []
  }
 ],
 "metadata": {
  "kernelspec": {
   "display_name": "Python 3 (ipykernel)",
   "language": "python",
   "name": "python3"
  },
  "language_info": {
   "codemirror_mode": {
    "name": "ipython",
    "version": 3
   },
   "file_extension": ".py",
   "mimetype": "text/x-python",
   "name": "python",
   "nbconvert_exporter": "python",
   "pygments_lexer": "ipython3",
   "version": "3.8.5"
  }
 },
 "nbformat": 4,
 "nbformat_minor": 5
}
