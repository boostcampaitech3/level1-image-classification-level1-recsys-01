{
 "cells": [
  {
   "cell_type": "code",
   "execution_count": null,
   "id": "95fe8b83-f15b-45c3-818b-f915ce919f5e",
   "metadata": {},
   "outputs": [],
   "source": [
    "import csv\n",
    "import pandas as pd\n",
    "import numpy as np\n",
    "from PIL import Image\n",
    "a = pd.read_csv(\"output/a.csv\")\n",
    "b = pd.read_csv(\"output/b.csv\")\n",
    "c = pd.read_csv(\"output/c.csv\")\n",
    "num = 0\n",
    "df2 = pd.DataFrame(a)\n",
    "df = df2.copy()\n",
    "print(df['ans'][0])\n",
    "for i in range(len(a['ans'])):\n",
    "    if set((a['ans'][i], b['ans'][i], c['ans'][i])) == {1,2}:\n",
    "        df['ans'][i] = 2\n",
    "    elif set((a['ans'][i], b['ans'][i], c['ans'][i])) == {4,5}:\n",
    "        df['ans'][i] = 5\n",
    "    elif set((a['ans'][i], b['ans'][i], c['ans'][i])) == {7,8}:\n",
    "        df['ans'][i] = 8\n",
    "    elif set((a['ans'][i], b['ans'][i], c['ans'][i])) == {10,11}:\n",
    "        df['ans'][i] = 11\n",
    "    elif set((a['ans'][i], b['ans'][i], c['ans'][i])) == {13,14}:\n",
    "        df['ans'][i] = 14\n",
    "    elif set((a['ans'][i], b['ans'][i], c['ans'][i])) == {16,17}:\n",
    "        df['ans'][i] = 17\n",
    "    else:\n",
    "        if b['ans'][i] == c['ans'][i]:\n",
    "            df['ans'][i] = b['ans'][i]\n",
    "        else:\n",
    "            df['ans'][i] = a['ans'][i]"
   ]
  },
  {
   "cell_type": "code",
   "execution_count": null,
   "id": "c6454900-c443-469c-b502-19e91f9c54ee",
   "metadata": {},
   "outputs": [],
   "source": [
    "save_path = os.path.join(output_dir, '11.csv')\n",
    "df.to_csv(save_path, index=False)"
   ]
  }
 ],
 "metadata": {
  "kernelspec": {
   "display_name": "Python 3 (ipykernel)",
   "language": "python",
   "name": "python3"
  },
  "language_info": {
   "codemirror_mode": {
    "name": "ipython",
    "version": 3
   },
   "file_extension": ".py",
   "mimetype": "text/x-python",
   "name": "python",
   "nbconvert_exporter": "python",
   "pygments_lexer": "ipython3",
   "version": "3.8.5"
  }
 },
 "nbformat": 4,
 "nbformat_minor": 5
}
