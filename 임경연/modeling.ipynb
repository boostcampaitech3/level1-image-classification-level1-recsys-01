{
 "cells": [
  {
   "cell_type": "code",
   "execution_count": 1,
   "metadata": {},
   "outputs": [],
   "source": [
    "import os\n",
    "import random\n",
    "import pandas as pd\n",
    "from PIL import Image\n",
    "import numpy as np\n",
    "from torch.utils.data import Dataset, DataLoader, random_split, SubsetRandomSampler, WeightedRandomSampler\n",
    "\n",
    "import torch\n",
    "import torch.nn as nn\n",
    "import torch.nn.functional as F\n",
    "import torchvision\n",
    "from torch.utils.data import Dataset, DataLoader\n",
    "\n",
    "from torchvision import transforms\n",
    "from torchvision.transforms import Resize, ToTensor, Normalize"
   ]
  },
  {
   "cell_type": "code",
   "execution_count": 2,
   "metadata": {},
   "outputs": [],
   "source": [
    "import sys\n",
    "import gzip\n",
    "import platform\n",
    "import warnings\n",
    "import collections\n",
    "from tqdm import tqdm, tqdm_notebook\n",
    "import matplotlib as mpl"
   ]
  },
  {
   "cell_type": "code",
   "execution_count": 3,
   "metadata": {},
   "outputs": [],
   "source": [
    "# Set random seed\n",
    "\n",
    "SEED = 42\n",
    "random.seed(SEED)\n",
    "np.random.seed(SEED)\n",
    "os.environ[\"PYTHONHASHSEED\"] = str(SEED)\n",
    "torch.manual_seed(SEED)\n",
    "torch.cuda.manual_seed(SEED) # type : ignore\n",
    "torch.backends.cudnn.deterministic = True # type : ignore\n",
    "torch.backends.cudnn.benchmark = True # type : ignore\n"
   ]
  },
  {
   "cell_type": "code",
   "execution_count": 4,
   "metadata": {},
   "outputs": [
    {
     "name": "stdout",
     "output_type": "stream",
     "text": [
      "Current OS: Linux\n",
      "CUDA: True\n",
      "Python Version: 3.8.5\n",
      "torch Version: 1.10.2+cu102\n",
      "torchvision Version: 0.11.3+cu102\n"
     ]
    }
   ],
   "source": [
    "# 현재 OS 및 라이브러리 버전 체크 체크\n",
    "current_os = platform.system()\n",
    "print(f\"Current OS: {current_os}\")\n",
    "print(f\"CUDA: {torch.cuda.is_available()}\")\n",
    "print(f\"Python Version: {platform.python_version()}\")\n",
    "print(f\"torch Version: {torch.__version__}\")\n",
    "print(f\"torchvision Version: {torchvision.__version__}\")\n",
    "\n",
    "# 중요하지 않은 에러 무시\n",
    "warnings.filterwarnings(action='ignore')\n",
    "\n",
    "# 유니코드 깨짐현상 해결\n",
    "mpl.rcParams['axes.unicode_minus'] = False"
   ]
  },
  {
   "cell_type": "code",
   "execution_count": 5,
   "metadata": {},
   "outputs": [
    {
     "name": "stdout",
     "output_type": "stream",
     "text": [
      "18900 18900\n",
      "           id                                               path  label\n",
      "0      003728  /opt/ml/input/data/train/label/11/003728_femal...     11\n",
      "1      003442  /opt/ml/input/data/train/label/11/003442_femal...     11\n",
      "2      005412  /opt/ml/input/data/train/label/11/005412_femal...     11\n",
      "3      003731  /opt/ml/input/data/train/label/11/003731_femal...     11\n",
      "4      003583  /opt/ml/input/data/train/label/11/003583_femal...     11\n",
      "...       ...                                                ...    ...\n",
      "18895  003840  /opt/ml/input/data/train/label/1/003840_male_A...      1\n",
      "18896  003548  /opt/ml/input/data/train/label/1/003548_male_A...      1\n",
      "18897  004446  /opt/ml/input/data/train/label/1/004446_male_A...      1\n",
      "18898  005491  /opt/ml/input/data/train/label/1/005491_male_A...      1\n",
      "18899  003488  /opt/ml/input/data/train/label/1/003488_male_A...      1\n",
      "\n",
      "[18900 rows x 3 columns]\n"
     ]
    }
   ],
   "source": [
    "image_path = []\n",
    "image_label = []\n",
    "image_id = []\n",
    "\n",
    "for i in os.listdir('/opt/ml/input/data/train/label'):\n",
    "    for j in os.listdir('/opt/ml/input/data/train/label/' + i):\n",
    "        image_path.append('/opt/ml/input/data/train/label/' + i + '/' + j)\n",
    "        image_label.append(int(i))\n",
    "        image_id.append(str(j[:6]))\n",
    "\n",
    "print(len(image_path), len(image_label))\n",
    "\n",
    "train_path_label = pd.DataFrame()\n",
    "train_path_label['id'] = image_id\n",
    "train_path_label['path'] = image_path\n",
    "train_path_label['label'] = image_label\n",
    "\n",
    "print(train_path_label)"
   ]
  },
  {
   "cell_type": "code",
   "execution_count": null,
   "metadata": {},
   "outputs": [],
   "source": [
    "# 사람별로 분류\n"
   ]
  },
  {
   "cell_type": "code",
   "execution_count": 6,
   "metadata": {},
   "outputs": [],
   "source": [
    "# Dataset 생성\n",
    "\n",
    "class CustomDataset(Dataset):\n",
    "    def __init__(self, image_path_label, transform):\n",
    "        self.X = image_path_label['path']\n",
    "        self.y = image_path_label['label']\n",
    "        self.transform = transform\n",
    "\n",
    "    def __len__(self):\n",
    "        return len(self.X)\n",
    "    \n",
    "    def __getitem__(self, idx):\n",
    "        X, y = Image.open(self.X.iloc[idx]), self.y.iloc[idx]    \n",
    "        \n",
    "        if self.transform:\n",
    "            X = self.transform(X)\n",
    "        return X, torch.tensor(y)\n",
    "    "
   ]
  },
  {
   "cell_type": "code",
   "execution_count": 7,
   "metadata": {},
   "outputs": [],
   "source": [
    "transform = transforms.Compose([\n",
    "    Resize((512, 384), Image.BILINEAR),\n",
    "    ToTensor(),\n",
    "    Normalize(mean=(0.5, 0.5, 0.5), std=(0.2, 0.2, 0.2)), \n",
    "])"
   ]
  },
  {
   "cell_type": "code",
   "execution_count": 8,
   "metadata": {},
   "outputs": [],
   "source": [
    "train_dateset = CustomDataset(train_path_label, transform)"
   ]
  },
  {
   "cell_type": "code",
   "execution_count": 29,
   "metadata": {},
   "outputs": [
    {
     "data": {
      "text/html": [
       "<div>\n",
       "<style scoped>\n",
       "    .dataframe tbody tr th:only-of-type {\n",
       "        vertical-align: middle;\n",
       "    }\n",
       "\n",
       "    .dataframe tbody tr th {\n",
       "        vertical-align: top;\n",
       "    }\n",
       "\n",
       "    .dataframe thead th {\n",
       "        text-align: right;\n",
       "    }\n",
       "</style>\n",
       "<table border=\"1\" class=\"dataframe\">\n",
       "  <thead>\n",
       "    <tr style=\"text-align: right;\">\n",
       "      <th></th>\n",
       "      <th>id</th>\n",
       "      <th>path</th>\n",
       "      <th>label</th>\n",
       "    </tr>\n",
       "  </thead>\n",
       "  <tbody>\n",
       "    <tr>\n",
       "      <th>0</th>\n",
       "      <td>003728</td>\n",
       "      <td>/opt/ml/input/data/train/label/11/003728_femal...</td>\n",
       "      <td>11</td>\n",
       "    </tr>\n",
       "    <tr>\n",
       "      <th>1</th>\n",
       "      <td>003442</td>\n",
       "      <td>/opt/ml/input/data/train/label/11/003442_femal...</td>\n",
       "      <td>11</td>\n",
       "    </tr>\n",
       "    <tr>\n",
       "      <th>2</th>\n",
       "      <td>005412</td>\n",
       "      <td>/opt/ml/input/data/train/label/11/005412_femal...</td>\n",
       "      <td>11</td>\n",
       "    </tr>\n",
       "    <tr>\n",
       "      <th>3</th>\n",
       "      <td>003731</td>\n",
       "      <td>/opt/ml/input/data/train/label/11/003731_femal...</td>\n",
       "      <td>11</td>\n",
       "    </tr>\n",
       "    <tr>\n",
       "      <th>4</th>\n",
       "      <td>003583</td>\n",
       "      <td>/opt/ml/input/data/train/label/11/003583_femal...</td>\n",
       "      <td>11</td>\n",
       "    </tr>\n",
       "    <tr>\n",
       "      <th>...</th>\n",
       "      <td>...</td>\n",
       "      <td>...</td>\n",
       "      <td>...</td>\n",
       "    </tr>\n",
       "    <tr>\n",
       "      <th>18895</th>\n",
       "      <td>003840</td>\n",
       "      <td>/opt/ml/input/data/train/label/1/003840_male_A...</td>\n",
       "      <td>1</td>\n",
       "    </tr>\n",
       "    <tr>\n",
       "      <th>18896</th>\n",
       "      <td>003548</td>\n",
       "      <td>/opt/ml/input/data/train/label/1/003548_male_A...</td>\n",
       "      <td>1</td>\n",
       "    </tr>\n",
       "    <tr>\n",
       "      <th>18897</th>\n",
       "      <td>004446</td>\n",
       "      <td>/opt/ml/input/data/train/label/1/004446_male_A...</td>\n",
       "      <td>1</td>\n",
       "    </tr>\n",
       "    <tr>\n",
       "      <th>18898</th>\n",
       "      <td>005491</td>\n",
       "      <td>/opt/ml/input/data/train/label/1/005491_male_A...</td>\n",
       "      <td>1</td>\n",
       "    </tr>\n",
       "    <tr>\n",
       "      <th>18899</th>\n",
       "      <td>003488</td>\n",
       "      <td>/opt/ml/input/data/train/label/1/003488_male_A...</td>\n",
       "      <td>1</td>\n",
       "    </tr>\n",
       "  </tbody>\n",
       "</table>\n",
       "<p>18900 rows × 3 columns</p>\n",
       "</div>"
      ],
      "text/plain": [
       "           id                                               path  label\n",
       "0      003728  /opt/ml/input/data/train/label/11/003728_femal...     11\n",
       "1      003442  /opt/ml/input/data/train/label/11/003442_femal...     11\n",
       "2      005412  /opt/ml/input/data/train/label/11/005412_femal...     11\n",
       "3      003731  /opt/ml/input/data/train/label/11/003731_femal...     11\n",
       "4      003583  /opt/ml/input/data/train/label/11/003583_femal...     11\n",
       "...       ...                                                ...    ...\n",
       "18895  003840  /opt/ml/input/data/train/label/1/003840_male_A...      1\n",
       "18896  003548  /opt/ml/input/data/train/label/1/003548_male_A...      1\n",
       "18897  004446  /opt/ml/input/data/train/label/1/004446_male_A...      1\n",
       "18898  005491  /opt/ml/input/data/train/label/1/005491_male_A...      1\n",
       "18899  003488  /opt/ml/input/data/train/label/1/003488_male_A...      1\n",
       "\n",
       "[18900 rows x 3 columns]"
      ]
     },
     "execution_count": 29,
     "metadata": {},
     "output_type": "execute_result"
    }
   ],
   "source": [
    "train_path_label"
   ]
  },
  {
   "cell_type": "code",
   "execution_count": 9,
   "metadata": {},
   "outputs": [],
   "source": [
    "BATCH_SIZE = 8\n",
    "train_size = int(0.8 * len(train_path_label))\n",
    "test_size = len(train_path_label) - train_size\n",
    "\n",
    "train_dset, test_dset = random_split(train_dateset, [train_size, test_size], generator=torch.Generator().manual_seed(42))\n",
    "\n",
    "train_loader = DataLoader(train_dset, batch_size = BATCH_SIZE, shuffle=True)\n",
    "valid_loader = DataLoader(test_dset, batch_size=BATCH_SIZE, shuffle=True)"
   ]
  },
  {
   "cell_type": "code",
   "execution_count": 10,
   "metadata": {},
   "outputs": [
    {
     "data": {
      "text/plain": [
       "torch.Size([8, 3, 512, 384])"
      ]
     },
     "execution_count": 10,
     "metadata": {},
     "output_type": "execute_result"
    }
   ],
   "source": [
    "# batchsize, channel, height, width\n",
    "\n",
    "next(iter(train_loader))[0].shape"
   ]
  },
  {
   "cell_type": "code",
   "execution_count": 11,
   "metadata": {},
   "outputs": [],
   "source": [
    "efficientnet = torchvision.models.efficientnet_b5(pretrained = True)"
   ]
  },
  {
   "cell_type": "code",
   "execution_count": 12,
   "metadata": {},
   "outputs": [
    {
     "data": {
      "text/plain": [
       "18"
      ]
     },
     "execution_count": 12,
     "metadata": {},
     "output_type": "execute_result"
    }
   ],
   "source": [
    "import math\n",
    "\n",
    "OUTPUT_CLASS_NUM = 18\n",
    "\n",
    "efficientnet.fc = torch.nn.Linear(in_features=512, out_features=OUTPUT_CLASS_NUM, bias = True)\n",
    "\n",
    "torch.nn.init.xavier_uniform_(efficientnet.fc.weight)\n",
    "stdv = 1./math.sqrt(efficientnet.fc.weight.size(1))\n",
    "efficientnet.fc.bias.data.uniform_(-stdv, stdv)\n",
    "\n",
    "efficientnet.fc.weight.shape[0]"
   ]
  },
  {
   "cell_type": "code",
   "execution_count": 13,
   "metadata": {},
   "outputs": [
    {
     "data": {
      "text/plain": [
       "device(type='cuda', index=0)"
      ]
     },
     "execution_count": 13,
     "metadata": {},
     "output_type": "execute_result"
    }
   ],
   "source": [
    "device = torch.device(\"cuda:0\" if torch.cuda.is_available() else \"cpu\")\n",
    "device"
   ]
  },
  {
   "cell_type": "code",
   "execution_count": 14,
   "metadata": {},
   "outputs": [],
   "source": [
    "efficientnet.to(device)\n",
    "\n",
    "LEARNING_RATE = 0.0001\n",
    "NUM_EPOCH = 5\n",
    "\n",
    "loss_fn = torch.nn.CrossEntropyLoss()\n",
    "optimizer = torch.optim.Adam(efficientnet.parameters(), lr = LEARNING_RATE)\n",
    "\n",
    "dataloaders = {\n",
    "    \"train\" : train_loader,\n",
    "    \"test\" : valid_loader\n",
    "}"
   ]
  },
  {
   "cell_type": "code",
   "execution_count": 15,
   "metadata": {},
   "outputs": [],
   "source": [
    "import gc\n",
    "gc.collect()\n",
    "torch.cuda.empty_cache()"
   ]
  },
  {
   "cell_type": "code",
   "execution_count": 16,
   "metadata": {},
   "outputs": [
    {
     "name": "stdout",
     "output_type": "stream",
     "text": [
      "현재 epoch.0의 train-데이터 셋에서 평균 Loss : 0.072, 평균 Accuracy : 0.842\n",
      "현재 epoch.0의 test-데이터 셋에서 평균 Loss : 0.024, 평균 Accuracy : 0.931\n",
      "현재 epoch.1의 train-데이터 셋에서 평균 Loss : 0.018, 평균 Accuracy : 0.953\n",
      "현재 epoch.1의 test-데이터 셋에서 평균 Loss : 0.009, 평균 Accuracy : 0.974\n",
      "현재 epoch.2의 train-데이터 셋에서 평균 Loss : 0.009, 평균 Accuracy : 0.978\n",
      "현재 epoch.2의 test-데이터 셋에서 평균 Loss : 0.006, 평균 Accuracy : 0.986\n",
      "현재 epoch.3의 train-데이터 셋에서 평균 Loss : 0.006, 평균 Accuracy : 0.985\n",
      "현재 epoch.3의 test-데이터 셋에서 평균 Loss : 0.006, 평균 Accuracy : 0.987\n",
      "현재 epoch.4의 train-데이터 셋에서 평균 Loss : 0.004, 평균 Accuracy : 0.990\n",
      "현재 epoch.4의 test-데이터 셋에서 평균 Loss : 0.004, 평균 Accuracy : 0.991\n",
      "finished\n",
      "Best Accuracy : 0.0, Lowest Loss : 0.0038238652484203816\n"
     ]
    }
   ],
   "source": [
    "best_test_accuracy = 0.\n",
    "best_test_loss = 9999.\n",
    "\n",
    "for epoch in range(NUM_EPOCH):\n",
    "    for phase in [\"train\", \"test\"]:\n",
    "        running_loss=  0.\n",
    "        running_acc = 0.\n",
    "        if phase == 'train':\n",
    "            efficientnet.train()\n",
    "        elif phase == 'test':\n",
    "            efficientnet.eval()\n",
    "\n",
    "        for ind, (images, labels) in enumerate(dataloaders[phase]):\n",
    "            images = images.to(device)\n",
    "            labels = labels.to(device)\n",
    "\n",
    "            optimizer.zero_grad()\n",
    "\n",
    "            with torch.set_grad_enabled(phase == \"train\"):\n",
    "                logits = efficientnet(images)\n",
    "                _, preds = torch.max(logits, 1)\n",
    "                loss = loss_fn(logits, labels)\n",
    "\n",
    "                if phase == 'train':\n",
    "                    loss.backward()\n",
    "                    optimizer.step()\n",
    "\n",
    "            running_loss += loss.item()\n",
    "            running_acc += torch.sum(preds == labels.data)\n",
    "\n",
    "        epoch_loss = running_loss / len(dataloaders[phase].dataset)\n",
    "        epoch_acc = running_acc / len(dataloaders[phase].dataset)\n",
    "\n",
    "        print(f\"현재 epoch.{epoch}의 {phase}-데이터 셋에서 평균 Loss : {epoch_loss:.3f}, 평균 Accuracy : {epoch_acc:.3f}\")\n",
    "\n",
    "        if phase == \"test\" and best_test_loss < epoch_loss:\n",
    "            best_test_accuracy = epoch_acc\n",
    "        if phase == \"test\" and best_test_loss > epoch_loss:\n",
    "            best_test_loss = epoch_loss\n",
    "\n",
    "print(\"finished\")\n",
    "print(f\"Best Accuracy : {best_test_accuracy}, Lowest Loss : {best_test_loss}\")"
   ]
  },
  {
   "cell_type": "code",
   "execution_count": 17,
   "metadata": {},
   "outputs": [],
   "source": [
    "def func_eval(model, data_iter, device):\n",
    "    with torch.no_grad():\n",
    "        n_total, n_correct = 0, 0\n",
    "        model.eval()\n",
    "        for batch_in, batch_out in data_iter:\n",
    "            y_trgt = batch_out.to(device)\n",
    "            model_pred = model.forward(batch_in.to(device))\n",
    "            _, y_pred = torch.max(model_pred, 1)\n",
    "            n_correct += (y_pred == y_trgt).sum().item()\n",
    "            n_total += batch_in.size(0)\n",
    "        val_accr = (n_correct/n_total)\n",
    "    return val_accr"
   ]
  },
  {
   "cell_type": "code",
   "execution_count": 18,
   "metadata": {},
   "outputs": [
    {
     "data": {
      "text/plain": [
       "0.9907407407407407"
      ]
     },
     "execution_count": 18,
     "metadata": {},
     "output_type": "execute_result"
    }
   ],
   "source": [
    "func_eval(efficientnet, valid_loader, device)"
   ]
  },
  {
   "cell_type": "code",
   "execution_count": 19,
   "metadata": {},
   "outputs": [
    {
     "data": {
      "text/plain": [
       "0.9896825396825397"
      ]
     },
     "execution_count": 19,
     "metadata": {},
     "output_type": "execute_result"
    }
   ],
   "source": [
    "from pytz import timezone\n",
    "import datetime as dt\n",
    "\n",
    "now = (dt.datetime.now().astimezone(timezone(\"Asia/Seoul\")).strftime(\"%Y-%m-%d-%H-%M\"))\n",
    "\n",
    "torch.save(model, f\"save_model/{now}.pth\")\n"
   ]
  }
 ],
 "metadata": {
  "interpreter": {
   "hash": "d4d1e4263499bec80672ea0156c357c1ee493ec2b1c70f0acce89fc37c4a6abe"
  },
  "kernelspec": {
   "display_name": "Python 3.8.5 ('base')",
   "language": "python",
   "name": "python3"
  },
  "language_info": {
   "codemirror_mode": {
    "name": "ipython",
    "version": 3
   },
   "file_extension": ".py",
   "mimetype": "text/x-python",
   "name": "python",
   "nbconvert_exporter": "python",
   "pygments_lexer": "ipython3",
   "version": "3.8.5"
  },
  "orig_nbformat": 4
 },
 "nbformat": 4,
 "nbformat_minor": 2
}
