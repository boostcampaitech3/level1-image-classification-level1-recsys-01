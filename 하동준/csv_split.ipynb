{
 "cells": [
  {
   "cell_type": "code",
   "execution_count": 1,
   "metadata": {},
   "outputs": [],
   "source": [
    "import os\n",
    "import pandas as pd\n",
    "from PIL import Image\n",
    "\n",
    "import torch\n",
    "import torch.nn as nn\n",
    "import torch.nn.functional as F\n",
    "from torch.utils.data import Dataset, DataLoader\n",
    "\n",
    "from torchvision.transforms import Resize, ToTensor, Normalize\n",
    "\n",
    "from tqdm import tqdm"
   ]
  },
  {
   "cell_type": "code",
   "execution_count": 2,
   "metadata": {},
   "outputs": [],
   "source": [
    "import sys\n",
    "import gzip\n",
    "import random\n",
    "import platform\n",
    "import warnings\n",
    "import collections\n",
    "\n",
    "import re\n",
    "import requests\n",
    "import numpy as np\n",
    "import matplotlib as mpl\n",
    "import matplotlib.pyplot as plt\n",
    "\n",
    "import torchvision\n",
    "import torch.optim as optim\n",
    "from torchvision import transforms, utils\n",
    "\n",
    "from torch.utils.data import Dataset, DataLoader, random_split, SubsetRandomSampler, WeightedRandomSampler\n",
    "from torchvision.transforms.functional import to_pil_image\n"
   ]
  },
  {
   "cell_type": "code",
   "execution_count": 3,
   "metadata": {},
   "outputs": [],
   "source": [
    "import pandas as pd\n",
    "import numpy as np\n",
    "import matplotlib as mpl\n",
    "import matplotlib.pyplot as plt\n",
    "import seaborn as sns\n",
    "from PIL import Image\n",
    "import os\n",
    "import glob\n",
    "from tqdm import tqdm\n",
    "\n",
    "import pandas as pd\n",
    "import numpy as np\n",
    "import matplotlib as mpl\n",
    "import matplotlib.pyplot as plt\n",
    "import seaborn as sns\n",
    "from PIL import Image\n",
    "import os\n",
    "import glob\n",
    "from tqdm import tqdm"
   ]
  },
  {
   "cell_type": "code",
   "execution_count": 4,
   "metadata": {},
   "outputs": [],
   "source": [
    "def makeLabeling(pd,idx,name):\n",
    "    if name == 'mask':\n",
    "        if pd['gender'][idx] == 'male':\n",
    "            if pd['age'][idx] < 30: return 0\n",
    "            elif 30 <= pd['age'][idx] < 60: return 1\n",
    "            else: return 2\n",
    "        else:\n",
    "            if pd['age'][idx] < 30: return 3\n",
    "            elif 30 <= pd['age'][idx] < 60: return 4\n",
    "            else: return 5\n",
    "    elif name == 'incorrect':\n",
    "        if pd['gender'][idx] == 'male':\n",
    "            if pd['age'][idx] < 30: return 6\n",
    "            elif 30 <= pd['age'][idx] < 60: return 7\n",
    "            else: return 8\n",
    "        else:\n",
    "            if pd['age'][idx] < 30: return 9\n",
    "            elif 30 <= pd['age'][idx] < 60: return 10\n",
    "            else: return 11\n",
    "    else:\n",
    "        if pd['gender'][idx] == 'male':\n",
    "            if pd['age'][idx] < 30: return 12\n",
    "            elif 30 <= pd['age'][idx] < 60: return 13\n",
    "            else: return 14\n",
    "        else:\n",
    "            if pd['age'][idx] < 30: return 15\n",
    "            elif 30 <= pd['age'][idx] < 60: return 16\n",
    "            else: return 17"
   ]
  },
  {
   "cell_type": "code",
   "execution_count": 5,
   "metadata": {},
   "outputs": [
    {
     "name": "stdout",
     "output_type": "stream",
     "text": [
      "540\n",
      "540\n",
      "1620\n"
     ]
    }
   ],
   "source": [
    "original_csv = pd.read_csv('/opt/ml/input/data/train/train.csv')\n",
    "\n",
    "# val train split 할 기준 세우기\n",
    "import random\n",
    "total = list(range(2700))\n",
    "testidx = random.sample(total,int(2700*0.2))\n",
    "testidx.sort()\n",
    "print(len(testidx))\n",
    "# 테스트용 2\n",
    "\n",
    "tempidx = total\n",
    "for i in testidx:\n",
    "    tempidx.remove(i)\n",
    "\n",
    "total = tempidx\n",
    "validx = random.sample(total,int(2700*0.2))\n",
    "validx.sort()\n",
    "print(len(validx))\n",
    "# valid용 2\n",
    "\n",
    "trainidx = total\n",
    "for i in validx:\n",
    "    trainidx.remove(i)\n",
    "print(len(trainidx))"
   ]
  },
  {
   "cell_type": "code",
   "execution_count": 11,
   "metadata": {},
   "outputs": [
    {
     "name": "stdout",
     "output_type": "stream",
     "text": [
      "id: 3780\n",
      "path: 3780\n",
      "file_name: 3780\n",
      "absolute_path: 3780\n",
      "label: 3780\n"
     ]
    }
   ],
   "source": [
    "test_file_dict = {k:[] for k in ['id','path','file_name','absolute_path','label']}\n",
    "\n",
    "IMAGE_PATH = '/opt/ml/input/data/train/images'\n",
    "\n",
    "# val_img_label\n",
    "for i in testidx:\n",
    "    total_path = os.path.join(IMAGE_PATH,str(original_csv['path'][i]))\n",
    "    for file_name in os.listdir(total_path):\n",
    "        # 확장자 제거, 이름만 가져오기\n",
    "        fn_split = file_name.split(\".\")\n",
    "        if len(fn_split[0]) == 0: \n",
    "            continue\n",
    "        name = re.findall(\"[a-z]+\",fn_split[0])[0]\n",
    "        \n",
    "        # labeling\n",
    "        label = makeLabeling(original_csv,i,name)\n",
    "        test_file_dict['id'].append(original_csv['id'][i])\n",
    "        test_file_dict['file_name'].append(file_name)\n",
    "        test_file_dict['path'].append(original_csv['path'][i])\n",
    "        test_file_dict['absolute_path'].append(os.path.join(total_path,file_name))\n",
    "        test_file_dict['label'].append(label)\n",
    "\n",
    "for k in test_file_dict:\n",
    "    print(f\"{k}: {len(test_file_dict[k])}\")\n"
   ]
  },
  {
   "cell_type": "code",
   "execution_count": 12,
   "metadata": {},
   "outputs": [],
   "source": [
    "image_label = pd.DataFrame(test_file_dict)\n",
    "np.unique(image_label['label'])\n",
    "image_label.to_csv('test_image_label.csv',index=False)"
   ]
  },
  {
   "cell_type": "code",
   "execution_count": null,
   "metadata": {},
   "outputs": [],
   "source": []
  },
  {
   "cell_type": "code",
   "execution_count": 13,
   "metadata": {},
   "outputs": [
    {
     "name": "stdout",
     "output_type": "stream",
     "text": [
      "id: 3780\n",
      "path: 3780\n",
      "file_name: 3780\n",
      "absolute_path: 3780\n",
      "label: 3780\n"
     ]
    }
   ],
   "source": [
    "val_file_dict = {k:[] for k in ['id','path','file_name','absolute_path','label']}\n",
    "\n",
    "IMAGE_PATH = '/opt/ml/input/data/train/images'\n",
    "\n",
    "# val_img_label\n",
    "for i in validx:\n",
    "    total_path = os.path.join(IMAGE_PATH,str(original_csv['path'][i]))\n",
    "    for file_name in os.listdir(total_path):\n",
    "        # 확장자 제거, 이름만 가져오기\n",
    "        fn_split = file_name.split(\".\")\n",
    "        if len(fn_split[0]) == 0: \n",
    "            continue\n",
    "        name = re.findall(\"[a-z]+\",fn_split[0])[0]\n",
    "        \n",
    "        # labeling\n",
    "        label = makeLabeling(original_csv,i,name)\n",
    "        val_file_dict['id'].append(original_csv['id'][i])\n",
    "        val_file_dict['file_name'].append(file_name)\n",
    "        val_file_dict['path'].append(original_csv['path'][i])\n",
    "        val_file_dict['absolute_path'].append(os.path.join(total_path,file_name))\n",
    "        val_file_dict['label'].append(label)\n",
    "\n",
    "for k in val_file_dict:\n",
    "    print(f\"{k}: {len(val_file_dict[k])}\")\n"
   ]
  },
  {
   "cell_type": "code",
   "execution_count": 14,
   "metadata": {},
   "outputs": [],
   "source": [
    "image_label = pd.DataFrame(val_file_dict)\n",
    "np.unique(image_label['label'])\n",
    "image_label.to_csv('val_image_label.csv',index=False)"
   ]
  },
  {
   "cell_type": "code",
   "execution_count": null,
   "metadata": {},
   "outputs": [],
   "source": []
  },
  {
   "cell_type": "code",
   "execution_count": 15,
   "metadata": {},
   "outputs": [
    {
     "name": "stdout",
     "output_type": "stream",
     "text": [
      "id: 11340\n",
      "path: 11340\n",
      "file_name: 11340\n",
      "absolute_path: 11340\n",
      "label: 11340\n"
     ]
    }
   ],
   "source": [
    "train_file_dict = {k:[] for k in ['id','path','file_name','absolute_path','label']}\n",
    "\n",
    "IMAGE_PATH = '/opt/ml/input/data/train/images'\n",
    "\n",
    "# val_img_label\n",
    "for i in trainidx:\n",
    "    total_path = os.path.join(IMAGE_PATH,str(original_csv['path'][i]))\n",
    "    for file_name in os.listdir(total_path):\n",
    "        # 확장자 제거, 이름만 가져오기\n",
    "        fn_split = file_name.split(\".\")\n",
    "        if len(fn_split[0]) == 0: \n",
    "            continue\n",
    "        name = re.findall(\"[a-z]+\",fn_split[0])[0]\n",
    "        \n",
    "        # labeling\n",
    "        label = makeLabeling(original_csv,i,name)\n",
    "        train_file_dict['id'].append(original_csv['id'][i])\n",
    "        train_file_dict['file_name'].append(file_name)\n",
    "        train_file_dict['path'].append(original_csv['path'][i])\n",
    "        train_file_dict['absolute_path'].append(os.path.join(total_path,file_name))\n",
    "        train_file_dict['label'].append(label)\n",
    "\n",
    "for k in train_file_dict:\n",
    "    print(f\"{k}: {len(train_file_dict[k])}\")\n"
   ]
  },
  {
   "cell_type": "code",
   "execution_count": 16,
   "metadata": {},
   "outputs": [],
   "source": [
    "image_label = pd.DataFrame(train_file_dict)\n",
    "np.unique(image_label['label'])\n",
    "image_label.to_csv('train_image_label.csv',index=False)"
   ]
  },
  {
   "cell_type": "code",
   "execution_count": null,
   "metadata": {},
   "outputs": [],
   "source": []
  },
  {
   "cell_type": "code",
   "execution_count": null,
   "metadata": {},
   "outputs": [],
   "source": []
  },
  {
   "cell_type": "code",
   "execution_count": null,
   "metadata": {},
   "outputs": [],
   "source": []
  },
  {
   "cell_type": "code",
   "execution_count": null,
   "metadata": {},
   "outputs": [],
   "source": []
  },
  {
   "cell_type": "code",
   "execution_count": null,
   "metadata": {},
   "outputs": [],
   "source": []
  }
 ],
 "metadata": {
  "interpreter": {
   "hash": "d4d1e4263499bec80672ea0156c357c1ee493ec2b1c70f0acce89fc37c4a6abe"
  },
  "kernelspec": {
   "display_name": "Python 3.8.5 ('base')",
   "language": "python",
   "name": "python3"
  },
  "language_info": {
   "codemirror_mode": {
    "name": "ipython",
    "version": 3
   },
   "file_extension": ".py",
   "mimetype": "text/x-python",
   "name": "python",
   "nbconvert_exporter": "python",
   "pygments_lexer": "ipython3",
   "version": "3.8.5"
  },
  "orig_nbformat": 4
 },
 "nbformat": 4,
 "nbformat_minor": 2
}
