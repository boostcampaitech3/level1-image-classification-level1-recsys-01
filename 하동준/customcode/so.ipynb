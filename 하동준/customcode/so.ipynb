{
 "cells": [
  {
   "cell_type": "code",
   "execution_count": 1,
   "metadata": {},
   "outputs": [],
   "source": [
    "import os\n",
    "import sys\n",
    "from glob import glob\n",
    "import numpy as np\n",
    "import pandas as pd\n",
    "#import cv2\n",
    "from PIL import Image\n",
    "from tqdm.notebook import tqdm\n",
    "from time import time\n",
    "import math\n",
    "\n",
    "import matplotlib.pyplot as plt\n",
    "import seaborn as sns\n",
    "import multiprocessing as mp\n",
    "\n",
    "from sklearn.metrics import f1_score\n",
    "\n",
    "import torch\n",
    "from torch import nn\n",
    "import torch.nn.functional as F\n",
    "import torch.utils.data as data\n",
    "from torch.utils.data import Dataset, DataLoader\n",
    "import torchvision\n",
    "from torchvision import transforms\n",
    "from torchvision.transforms import Resize, ToTensor, Normalize, GaussianBlur, RandomRotation, ColorJitter\n",
    "from efficientnet_pytorch import EfficientNet\n",
    "from torch.utils.tensorboard import SummaryWriter # 학습 중 실시간으로 acc와 loss 같은 값들을 그래프에 찍어서 보여주는 역할\n",
    "from torch.optim import lr_scheduler # validation dataset을 학습시킬 때 조정해주는 scheduler\n",
    "#import dataset_hs\n",
    "\n",
    "from torchvision.transforms import Resize, ToTensor, Normalize, Compose, CenterCrop, ColorJitter, RandomHorizontalFlip, RandomRotation, RandomPerspective, Grayscale, Pad\n"
   ]
  },
  {
   "cell_type": "code",
   "execution_count": 2,
   "metadata": {},
   "outputs": [
    {
     "data": {
      "text/plain": [
       "'Tesla V100-PCIE-32GB'"
      ]
     },
     "execution_count": 2,
     "metadata": {},
     "output_type": "execute_result"
    }
   ],
   "source": [
    "#torch.cuda.is_available()\n",
    "torch.cuda.get_device_name(0)"
   ]
  },
  {
   "cell_type": "code",
   "execution_count": 3,
   "metadata": {},
   "outputs": [],
   "source": [
    "# Set random seed\n",
    "import random\n",
    "SEED = 2021\n",
    "random.seed(SEED)\n",
    "np.random.seed(SEED)\n",
    "os.environ[\"PYTHONHASHSEED\"] = str(SEED)\n",
    "torch.manual_seed(SEED)\n",
    "torch.cuda.manual_seed(SEED)  # type: ignore\n",
    "torch.backends.cudnn.deterministic = True  # type: ignore\n",
    "torch.backends.cudnn.benchmark = True  # type: ignore"
   ]
  },
  {
   "cell_type": "code",
   "execution_count": 4,
   "metadata": {},
   "outputs": [],
   "source": [
    "class MaskDataset(Dataset):\n",
    "    def __init__(self, table, transform):\n",
    "        self.table = table\n",
    "        self.transform = transform\n",
    "\n",
    "        self.X, self.y = self.read_data()\n",
    "        \n",
    "    def read_data(self):\n",
    "        X,y = [],[]\n",
    "        for i in tqdm(range(len(self.table))):\n",
    "            img = Image.open(self.table['absolute_path'][i])\n",
    "            if self.transform:\n",
    "                img = self.transform(img)\n",
    "            X.append(img)\n",
    "            y.append(torch.tensor(self.table['label'][i]))\n",
    "        return X,y\n",
    "\n",
    "    def __len__(self):\n",
    "        return len(self.y)\n",
    "    \n",
    "    def __getitem__(self, idx):\n",
    "        return self.X[idx], self.y[idx]\n",
    "        "
   ]
  },
  {
   "cell_type": "code",
   "execution_count": null,
   "metadata": {},
   "outputs": [],
   "source": [
    "val_transform = transforms.Compose([\n",
    "    Resize((int(224), int(224)), Image.BILINEAR),\n",
    "    ToTensor(),\n",
    "    # Normalize(mean=(0.548, 0.504, 0.479), std=(0.237, 0.247, 0.246)),\n",
    "    ])"
   ]
  },
  {
   "cell_type": "code",
   "execution_count": 5,
   "metadata": {},
   "outputs": [],
   "source": [
    "t_label = pd.read_csv('/opt/ml/tmp/train_image_label.csv')\n",
    "v_label = pd.read_csv('/opt/ml/tmp/val_image_label.csv')"
   ]
  },
  {
   "cell_type": "code",
   "execution_count": 6,
   "metadata": {},
   "outputs": [
    {
     "name": "stderr",
     "output_type": "stream",
     "text": [
      "/opt/conda/lib/python3.8/site-packages/torchvision/transforms/transforms.py:287: UserWarning: Argument interpolation should be of type InterpolationMode instead of int. Please, use InterpolationMode enum.\n",
      "  warnings.warn(\n"
     ]
    },
    {
     "data": {
      "application/vnd.jupyter.widget-view+json": {
       "model_id": "3c500a0cbe5b4fd48a809ebadb10d690",
       "version_major": 2,
       "version_minor": 0
      },
      "text/plain": [
       "HBox(children=(HTML(value=''), FloatProgress(value=0.0, max=15120.0), HTML(value='')))"
      ]
     },
     "metadata": {},
     "output_type": "display_data"
    },
    {
     "name": "stdout",
     "output_type": "stream",
     "text": [
      "\n"
     ]
    },
    {
     "data": {
      "application/vnd.jupyter.widget-view+json": {
       "model_id": "05b3b0fd27fd4d2f94d8d669730afe7c",
       "version_major": 2,
       "version_minor": 0
      },
      "text/plain": [
       "HBox(children=(HTML(value=''), FloatProgress(value=0.0, max=3780.0), HTML(value='')))"
      ]
     },
     "metadata": {},
     "output_type": "display_data"
    },
    {
     "name": "stdout",
     "output_type": "stream",
     "text": [
      "\n"
     ]
    }
   ],
   "source": [
    "# transform = transforms.Compose([\n",
    "#         Resize((int(224), int(224))),\n",
    "#         ToTensor(),\n",
    "#         Normalize(mean=(0.548, 0.504, 0.479), std=(0.237, 0.247, 0.246)),\n",
    "#     ])\n",
    "\n",
    "transform = transforms.Compose([\n",
    "    CenterCrop((int(423), int(292))),\n",
    "    ColorJitter(brightness=0.5, contrast=0.5, hue=0.5),\n",
    "    RandomHorizontalFlip(p=0.5),\n",
    "    RandomRotation(10),\n",
    "    RandomPerspective(p=0.25, distortion_scale=0.25 ),\n",
    "    Resize((int(224), int(224)), Image.BILINEAR),\n",
    "    ToTensor(),\n",
    "    Normalize(mean=(0.548, 0.504, 0.479), std=(0.237, 0.247, 0.246)),\n",
    "    ])\n",
    "\n",
    "train_dataset = MaskDataset(\n",
    "    table=t_label,\n",
    "    transform=transform\n",
    ")\n",
    "\n",
    "valid_dataset = MaskDataset(\n",
    "    table=v_label,\n",
    "    transform=val_transform\n",
    ")"
   ]
  },
  {
   "cell_type": "code",
   "execution_count": 7,
   "metadata": {},
   "outputs": [],
   "source": [
    "\n",
    "train_loader = data.DataLoader(\n",
    "    train_dataset,\n",
    "    batch_size=32,\n",
    "    num_workers=4, \n",
    "#     cuda설정이안돼서 num_workers 설정하면 안돌아감\n",
    "    shuffle=True\n",
    ")\n",
    "\n",
    "val_loader = data.DataLoader(\n",
    "    valid_dataset,\n",
    "    batch_size=32,\n",
    "    num_workers=4,\n",
    "    shuffle=False\n",
    ")\n",
    "loader={'train':train_loader,\n",
    "       'val':val_loader}"
   ]
  },
  {
   "cell_type": "code",
   "execution_count": 8,
   "metadata": {},
   "outputs": [
    {
     "name": "stdout",
     "output_type": "stream",
     "text": [
      "images shape: torch.Size([32, 3, 224, 224])\n",
      "labels shape: torch.Size([32])\n"
     ]
    }
   ],
   "source": [
    "images, labels = next(iter(train_loader))\n",
    "print(f'images shape: {images.shape}')\n",
    "print(f'labels shape: {labels.shape}')"
   ]
  },
  {
   "cell_type": "code",
   "execution_count": 9,
   "metadata": {},
   "outputs": [
    {
     "data": {
      "text/plain": [
       "device(type='cuda', index=0)"
      ]
     },
     "execution_count": 9,
     "metadata": {},
     "output_type": "execute_result"
    }
   ],
   "source": [
    "device = torch.device(\"cuda:0\" if torch.cuda.is_available() else \"cpu\")\n",
    "device"
   ]
  },
  {
   "cell_type": "code",
   "execution_count": 10,
   "metadata": {},
   "outputs": [
    {
     "name": "stdout",
     "output_type": "stream",
     "text": [
      "Loaded pretrained weights for efficientnet-b7\n",
      "----------------------------------------------------------------\n",
      "        Layer (type)               Output Shape         Param #\n",
      "================================================================\n",
      "         ZeroPad2d-1          [-1, 3, 257, 193]               0\n",
      "Conv2dStaticSamePadding-2          [-1, 64, 128, 96]           1,728\n",
      "       BatchNorm2d-3          [-1, 64, 128, 96]             128\n",
      "MemoryEfficientSwish-4          [-1, 64, 128, 96]               0\n",
      "         ZeroPad2d-5          [-1, 64, 130, 98]               0\n",
      "Conv2dStaticSamePadding-6          [-1, 64, 128, 96]             576\n",
      "       BatchNorm2d-7          [-1, 64, 128, 96]             128\n",
      "MemoryEfficientSwish-8          [-1, 64, 128, 96]               0\n",
      "          Identity-9             [-1, 64, 1, 1]               0\n",
      "Conv2dStaticSamePadding-10             [-1, 16, 1, 1]           1,040\n",
      "MemoryEfficientSwish-11             [-1, 16, 1, 1]               0\n",
      "         Identity-12             [-1, 16, 1, 1]               0\n",
      "Conv2dStaticSamePadding-13             [-1, 64, 1, 1]           1,088\n",
      "         Identity-14          [-1, 64, 128, 96]               0\n",
      "Conv2dStaticSamePadding-15          [-1, 32, 128, 96]           2,048\n",
      "      BatchNorm2d-16          [-1, 32, 128, 96]              64\n",
      "      MBConvBlock-17          [-1, 32, 128, 96]               0\n",
      "        ZeroPad2d-18          [-1, 32, 130, 98]               0\n",
      "Conv2dStaticSamePadding-19          [-1, 32, 128, 96]             288\n",
      "      BatchNorm2d-20          [-1, 32, 128, 96]              64\n",
      "MemoryEfficientSwish-21          [-1, 32, 128, 96]               0\n",
      "         Identity-22             [-1, 32, 1, 1]               0\n",
      "Conv2dStaticSamePadding-23              [-1, 8, 1, 1]             264\n",
      "MemoryEfficientSwish-24              [-1, 8, 1, 1]               0\n",
      "         Identity-25              [-1, 8, 1, 1]               0\n",
      "Conv2dStaticSamePadding-26             [-1, 32, 1, 1]             288\n",
      "         Identity-27          [-1, 32, 128, 96]               0\n",
      "Conv2dStaticSamePadding-28          [-1, 32, 128, 96]           1,024\n",
      "      BatchNorm2d-29          [-1, 32, 128, 96]              64\n",
      "      MBConvBlock-30          [-1, 32, 128, 96]               0\n",
      "        ZeroPad2d-31          [-1, 32, 130, 98]               0\n",
      "Conv2dStaticSamePadding-32          [-1, 32, 128, 96]             288\n",
      "      BatchNorm2d-33          [-1, 32, 128, 96]              64\n",
      "MemoryEfficientSwish-34          [-1, 32, 128, 96]               0\n",
      "         Identity-35             [-1, 32, 1, 1]               0\n",
      "Conv2dStaticSamePadding-36              [-1, 8, 1, 1]             264\n",
      "MemoryEfficientSwish-37              [-1, 8, 1, 1]               0\n",
      "         Identity-38              [-1, 8, 1, 1]               0\n",
      "Conv2dStaticSamePadding-39             [-1, 32, 1, 1]             288\n",
      "         Identity-40          [-1, 32, 128, 96]               0\n",
      "Conv2dStaticSamePadding-41          [-1, 32, 128, 96]           1,024\n",
      "      BatchNorm2d-42          [-1, 32, 128, 96]              64\n",
      "      MBConvBlock-43          [-1, 32, 128, 96]               0\n",
      "        ZeroPad2d-44          [-1, 32, 130, 98]               0\n",
      "Conv2dStaticSamePadding-45          [-1, 32, 128, 96]             288\n",
      "      BatchNorm2d-46          [-1, 32, 128, 96]              64\n",
      "MemoryEfficientSwish-47          [-1, 32, 128, 96]               0\n",
      "         Identity-48             [-1, 32, 1, 1]               0\n",
      "Conv2dStaticSamePadding-49              [-1, 8, 1, 1]             264\n",
      "MemoryEfficientSwish-50              [-1, 8, 1, 1]               0\n",
      "         Identity-51              [-1, 8, 1, 1]               0\n",
      "Conv2dStaticSamePadding-52             [-1, 32, 1, 1]             288\n",
      "         Identity-53          [-1, 32, 128, 96]               0\n",
      "Conv2dStaticSamePadding-54          [-1, 32, 128, 96]           1,024\n",
      "      BatchNorm2d-55          [-1, 32, 128, 96]              64\n",
      "      MBConvBlock-56          [-1, 32, 128, 96]               0\n",
      "         Identity-57          [-1, 32, 128, 96]               0\n",
      "Conv2dStaticSamePadding-58         [-1, 192, 128, 96]           6,144\n",
      "      BatchNorm2d-59         [-1, 192, 128, 96]             384\n",
      "MemoryEfficientSwish-60         [-1, 192, 128, 96]               0\n",
      "        ZeroPad2d-61         [-1, 192, 129, 97]               0\n",
      "Conv2dStaticSamePadding-62          [-1, 192, 64, 48]           1,728\n",
      "      BatchNorm2d-63          [-1, 192, 64, 48]             384\n",
      "MemoryEfficientSwish-64          [-1, 192, 64, 48]               0\n",
      "         Identity-65            [-1, 192, 1, 1]               0\n",
      "Conv2dStaticSamePadding-66              [-1, 8, 1, 1]           1,544\n",
      "MemoryEfficientSwish-67              [-1, 8, 1, 1]               0\n",
      "         Identity-68              [-1, 8, 1, 1]               0\n",
      "Conv2dStaticSamePadding-69            [-1, 192, 1, 1]           1,728\n",
      "         Identity-70          [-1, 192, 64, 48]               0\n",
      "Conv2dStaticSamePadding-71           [-1, 48, 64, 48]           9,216\n",
      "      BatchNorm2d-72           [-1, 48, 64, 48]              96\n",
      "      MBConvBlock-73           [-1, 48, 64, 48]               0\n",
      "         Identity-74           [-1, 48, 64, 48]               0\n",
      "Conv2dStaticSamePadding-75          [-1, 288, 64, 48]          13,824\n",
      "      BatchNorm2d-76          [-1, 288, 64, 48]             576\n",
      "MemoryEfficientSwish-77          [-1, 288, 64, 48]               0\n",
      "        ZeroPad2d-78          [-1, 288, 66, 50]               0\n",
      "Conv2dStaticSamePadding-79          [-1, 288, 64, 48]           2,592\n",
      "      BatchNorm2d-80          [-1, 288, 64, 48]             576\n",
      "MemoryEfficientSwish-81          [-1, 288, 64, 48]               0\n",
      "         Identity-82            [-1, 288, 1, 1]               0\n",
      "Conv2dStaticSamePadding-83             [-1, 12, 1, 1]           3,468\n",
      "MemoryEfficientSwish-84             [-1, 12, 1, 1]               0\n",
      "         Identity-85             [-1, 12, 1, 1]               0\n",
      "Conv2dStaticSamePadding-86            [-1, 288, 1, 1]           3,744\n",
      "         Identity-87          [-1, 288, 64, 48]               0\n",
      "Conv2dStaticSamePadding-88           [-1, 48, 64, 48]          13,824\n",
      "      BatchNorm2d-89           [-1, 48, 64, 48]              96\n",
      "      MBConvBlock-90           [-1, 48, 64, 48]               0\n",
      "         Identity-91           [-1, 48, 64, 48]               0\n",
      "Conv2dStaticSamePadding-92          [-1, 288, 64, 48]          13,824\n",
      "      BatchNorm2d-93          [-1, 288, 64, 48]             576\n",
      "MemoryEfficientSwish-94          [-1, 288, 64, 48]               0\n",
      "        ZeroPad2d-95          [-1, 288, 66, 50]               0\n",
      "Conv2dStaticSamePadding-96          [-1, 288, 64, 48]           2,592\n",
      "      BatchNorm2d-97          [-1, 288, 64, 48]             576\n",
      "MemoryEfficientSwish-98          [-1, 288, 64, 48]               0\n",
      "         Identity-99            [-1, 288, 1, 1]               0\n",
      "Conv2dStaticSamePadding-100             [-1, 12, 1, 1]           3,468\n",
      "MemoryEfficientSwish-101             [-1, 12, 1, 1]               0\n",
      "        Identity-102             [-1, 12, 1, 1]               0\n",
      "Conv2dStaticSamePadding-103            [-1, 288, 1, 1]           3,744\n",
      "        Identity-104          [-1, 288, 64, 48]               0\n",
      "Conv2dStaticSamePadding-105           [-1, 48, 64, 48]          13,824\n",
      "     BatchNorm2d-106           [-1, 48, 64, 48]              96\n",
      "     MBConvBlock-107           [-1, 48, 64, 48]               0\n",
      "        Identity-108           [-1, 48, 64, 48]               0\n",
      "Conv2dStaticSamePadding-109          [-1, 288, 64, 48]          13,824\n",
      "     BatchNorm2d-110          [-1, 288, 64, 48]             576\n",
      "MemoryEfficientSwish-111          [-1, 288, 64, 48]               0\n",
      "       ZeroPad2d-112          [-1, 288, 66, 50]               0\n",
      "Conv2dStaticSamePadding-113          [-1, 288, 64, 48]           2,592\n",
      "     BatchNorm2d-114          [-1, 288, 64, 48]             576\n",
      "MemoryEfficientSwish-115          [-1, 288, 64, 48]               0\n",
      "        Identity-116            [-1, 288, 1, 1]               0\n",
      "Conv2dStaticSamePadding-117             [-1, 12, 1, 1]           3,468\n",
      "MemoryEfficientSwish-118             [-1, 12, 1, 1]               0\n",
      "        Identity-119             [-1, 12, 1, 1]               0\n",
      "Conv2dStaticSamePadding-120            [-1, 288, 1, 1]           3,744\n",
      "        Identity-121          [-1, 288, 64, 48]               0\n",
      "Conv2dStaticSamePadding-122           [-1, 48, 64, 48]          13,824\n",
      "     BatchNorm2d-123           [-1, 48, 64, 48]              96\n",
      "     MBConvBlock-124           [-1, 48, 64, 48]               0\n",
      "        Identity-125           [-1, 48, 64, 48]               0\n",
      "Conv2dStaticSamePadding-126          [-1, 288, 64, 48]          13,824\n",
      "     BatchNorm2d-127          [-1, 288, 64, 48]             576\n",
      "MemoryEfficientSwish-128          [-1, 288, 64, 48]               0\n",
      "       ZeroPad2d-129          [-1, 288, 66, 50]               0\n",
      "Conv2dStaticSamePadding-130          [-1, 288, 64, 48]           2,592\n",
      "     BatchNorm2d-131          [-1, 288, 64, 48]             576\n",
      "MemoryEfficientSwish-132          [-1, 288, 64, 48]               0\n",
      "        Identity-133            [-1, 288, 1, 1]               0\n",
      "Conv2dStaticSamePadding-134             [-1, 12, 1, 1]           3,468\n",
      "MemoryEfficientSwish-135             [-1, 12, 1, 1]               0\n",
      "        Identity-136             [-1, 12, 1, 1]               0\n",
      "Conv2dStaticSamePadding-137            [-1, 288, 1, 1]           3,744\n",
      "        Identity-138          [-1, 288, 64, 48]               0\n",
      "Conv2dStaticSamePadding-139           [-1, 48, 64, 48]          13,824\n",
      "     BatchNorm2d-140           [-1, 48, 64, 48]              96\n",
      "     MBConvBlock-141           [-1, 48, 64, 48]               0\n",
      "        Identity-142           [-1, 48, 64, 48]               0\n",
      "Conv2dStaticSamePadding-143          [-1, 288, 64, 48]          13,824\n",
      "     BatchNorm2d-144          [-1, 288, 64, 48]             576\n",
      "MemoryEfficientSwish-145          [-1, 288, 64, 48]               0\n",
      "       ZeroPad2d-146          [-1, 288, 66, 50]               0\n",
      "Conv2dStaticSamePadding-147          [-1, 288, 64, 48]           2,592\n",
      "     BatchNorm2d-148          [-1, 288, 64, 48]             576\n",
      "MemoryEfficientSwish-149          [-1, 288, 64, 48]               0\n",
      "        Identity-150            [-1, 288, 1, 1]               0\n",
      "Conv2dStaticSamePadding-151             [-1, 12, 1, 1]           3,468\n",
      "MemoryEfficientSwish-152             [-1, 12, 1, 1]               0\n",
      "        Identity-153             [-1, 12, 1, 1]               0\n",
      "Conv2dStaticSamePadding-154            [-1, 288, 1, 1]           3,744\n",
      "        Identity-155          [-1, 288, 64, 48]               0\n",
      "Conv2dStaticSamePadding-156           [-1, 48, 64, 48]          13,824\n",
      "     BatchNorm2d-157           [-1, 48, 64, 48]              96\n",
      "     MBConvBlock-158           [-1, 48, 64, 48]               0\n",
      "        Identity-159           [-1, 48, 64, 48]               0\n",
      "Conv2dStaticSamePadding-160          [-1, 288, 64, 48]          13,824\n",
      "     BatchNorm2d-161          [-1, 288, 64, 48]             576\n",
      "MemoryEfficientSwish-162          [-1, 288, 64, 48]               0\n",
      "       ZeroPad2d-163          [-1, 288, 66, 50]               0\n",
      "Conv2dStaticSamePadding-164          [-1, 288, 64, 48]           2,592\n",
      "     BatchNorm2d-165          [-1, 288, 64, 48]             576\n",
      "MemoryEfficientSwish-166          [-1, 288, 64, 48]               0\n",
      "        Identity-167            [-1, 288, 1, 1]               0\n",
      "Conv2dStaticSamePadding-168             [-1, 12, 1, 1]           3,468\n",
      "MemoryEfficientSwish-169             [-1, 12, 1, 1]               0\n",
      "        Identity-170             [-1, 12, 1, 1]               0\n",
      "Conv2dStaticSamePadding-171            [-1, 288, 1, 1]           3,744\n",
      "        Identity-172          [-1, 288, 64, 48]               0\n",
      "Conv2dStaticSamePadding-173           [-1, 48, 64, 48]          13,824\n",
      "     BatchNorm2d-174           [-1, 48, 64, 48]              96\n",
      "     MBConvBlock-175           [-1, 48, 64, 48]               0\n",
      "        Identity-176           [-1, 48, 64, 48]               0\n",
      "Conv2dStaticSamePadding-177          [-1, 288, 64, 48]          13,824\n",
      "     BatchNorm2d-178          [-1, 288, 64, 48]             576\n",
      "MemoryEfficientSwish-179          [-1, 288, 64, 48]               0\n",
      "       ZeroPad2d-180          [-1, 288, 67, 51]               0\n",
      "Conv2dStaticSamePadding-181          [-1, 288, 32, 24]           7,200\n",
      "     BatchNorm2d-182          [-1, 288, 32, 24]             576\n",
      "MemoryEfficientSwish-183          [-1, 288, 32, 24]               0\n",
      "        Identity-184            [-1, 288, 1, 1]               0\n",
      "Conv2dStaticSamePadding-185             [-1, 12, 1, 1]           3,468\n",
      "MemoryEfficientSwish-186             [-1, 12, 1, 1]               0\n",
      "        Identity-187             [-1, 12, 1, 1]               0\n",
      "Conv2dStaticSamePadding-188            [-1, 288, 1, 1]           3,744\n",
      "        Identity-189          [-1, 288, 32, 24]               0\n",
      "Conv2dStaticSamePadding-190           [-1, 80, 32, 24]          23,040\n",
      "     BatchNorm2d-191           [-1, 80, 32, 24]             160\n",
      "     MBConvBlock-192           [-1, 80, 32, 24]               0\n",
      "        Identity-193           [-1, 80, 32, 24]               0\n",
      "Conv2dStaticSamePadding-194          [-1, 480, 32, 24]          38,400\n",
      "     BatchNorm2d-195          [-1, 480, 32, 24]             960\n",
      "MemoryEfficientSwish-196          [-1, 480, 32, 24]               0\n",
      "       ZeroPad2d-197          [-1, 480, 36, 28]               0\n",
      "Conv2dStaticSamePadding-198          [-1, 480, 32, 24]          12,000\n",
      "     BatchNorm2d-199          [-1, 480, 32, 24]             960\n",
      "MemoryEfficientSwish-200          [-1, 480, 32, 24]               0\n",
      "        Identity-201            [-1, 480, 1, 1]               0\n",
      "Conv2dStaticSamePadding-202             [-1, 20, 1, 1]           9,620\n",
      "MemoryEfficientSwish-203             [-1, 20, 1, 1]               0\n",
      "        Identity-204             [-1, 20, 1, 1]               0\n",
      "Conv2dStaticSamePadding-205            [-1, 480, 1, 1]          10,080\n",
      "        Identity-206          [-1, 480, 32, 24]               0\n",
      "Conv2dStaticSamePadding-207           [-1, 80, 32, 24]          38,400\n",
      "     BatchNorm2d-208           [-1, 80, 32, 24]             160\n",
      "     MBConvBlock-209           [-1, 80, 32, 24]               0\n",
      "        Identity-210           [-1, 80, 32, 24]               0\n",
      "Conv2dStaticSamePadding-211          [-1, 480, 32, 24]          38,400\n",
      "     BatchNorm2d-212          [-1, 480, 32, 24]             960\n",
      "MemoryEfficientSwish-213          [-1, 480, 32, 24]               0\n",
      "       ZeroPad2d-214          [-1, 480, 36, 28]               0\n",
      "Conv2dStaticSamePadding-215          [-1, 480, 32, 24]          12,000\n",
      "     BatchNorm2d-216          [-1, 480, 32, 24]             960\n",
      "MemoryEfficientSwish-217          [-1, 480, 32, 24]               0\n",
      "        Identity-218            [-1, 480, 1, 1]               0\n",
      "Conv2dStaticSamePadding-219             [-1, 20, 1, 1]           9,620\n",
      "MemoryEfficientSwish-220             [-1, 20, 1, 1]               0\n",
      "        Identity-221             [-1, 20, 1, 1]               0\n",
      "Conv2dStaticSamePadding-222            [-1, 480, 1, 1]          10,080\n",
      "        Identity-223          [-1, 480, 32, 24]               0\n",
      "Conv2dStaticSamePadding-224           [-1, 80, 32, 24]          38,400\n",
      "     BatchNorm2d-225           [-1, 80, 32, 24]             160\n",
      "     MBConvBlock-226           [-1, 80, 32, 24]               0\n",
      "        Identity-227           [-1, 80, 32, 24]               0\n",
      "Conv2dStaticSamePadding-228          [-1, 480, 32, 24]          38,400\n",
      "     BatchNorm2d-229          [-1, 480, 32, 24]             960\n",
      "MemoryEfficientSwish-230          [-1, 480, 32, 24]               0\n",
      "       ZeroPad2d-231          [-1, 480, 36, 28]               0\n",
      "Conv2dStaticSamePadding-232          [-1, 480, 32, 24]          12,000\n",
      "     BatchNorm2d-233          [-1, 480, 32, 24]             960\n",
      "MemoryEfficientSwish-234          [-1, 480, 32, 24]               0\n",
      "        Identity-235            [-1, 480, 1, 1]               0\n",
      "Conv2dStaticSamePadding-236             [-1, 20, 1, 1]           9,620\n",
      "MemoryEfficientSwish-237             [-1, 20, 1, 1]               0\n",
      "        Identity-238             [-1, 20, 1, 1]               0\n",
      "Conv2dStaticSamePadding-239            [-1, 480, 1, 1]          10,080\n",
      "        Identity-240          [-1, 480, 32, 24]               0\n",
      "Conv2dStaticSamePadding-241           [-1, 80, 32, 24]          38,400\n",
      "     BatchNorm2d-242           [-1, 80, 32, 24]             160\n",
      "     MBConvBlock-243           [-1, 80, 32, 24]               0\n",
      "        Identity-244           [-1, 80, 32, 24]               0\n",
      "Conv2dStaticSamePadding-245          [-1, 480, 32, 24]          38,400\n",
      "     BatchNorm2d-246          [-1, 480, 32, 24]             960\n",
      "MemoryEfficientSwish-247          [-1, 480, 32, 24]               0\n",
      "       ZeroPad2d-248          [-1, 480, 36, 28]               0\n",
      "Conv2dStaticSamePadding-249          [-1, 480, 32, 24]          12,000\n",
      "     BatchNorm2d-250          [-1, 480, 32, 24]             960\n",
      "MemoryEfficientSwish-251          [-1, 480, 32, 24]               0\n",
      "        Identity-252            [-1, 480, 1, 1]               0\n",
      "Conv2dStaticSamePadding-253             [-1, 20, 1, 1]           9,620\n",
      "MemoryEfficientSwish-254             [-1, 20, 1, 1]               0\n",
      "        Identity-255             [-1, 20, 1, 1]               0\n",
      "Conv2dStaticSamePadding-256            [-1, 480, 1, 1]          10,080\n",
      "        Identity-257          [-1, 480, 32, 24]               0\n",
      "Conv2dStaticSamePadding-258           [-1, 80, 32, 24]          38,400\n",
      "     BatchNorm2d-259           [-1, 80, 32, 24]             160\n",
      "     MBConvBlock-260           [-1, 80, 32, 24]               0\n",
      "        Identity-261           [-1, 80, 32, 24]               0\n",
      "Conv2dStaticSamePadding-262          [-1, 480, 32, 24]          38,400\n",
      "     BatchNorm2d-263          [-1, 480, 32, 24]             960\n",
      "MemoryEfficientSwish-264          [-1, 480, 32, 24]               0\n",
      "       ZeroPad2d-265          [-1, 480, 36, 28]               0\n",
      "Conv2dStaticSamePadding-266          [-1, 480, 32, 24]          12,000\n",
      "     BatchNorm2d-267          [-1, 480, 32, 24]             960\n",
      "MemoryEfficientSwish-268          [-1, 480, 32, 24]               0\n",
      "        Identity-269            [-1, 480, 1, 1]               0\n",
      "Conv2dStaticSamePadding-270             [-1, 20, 1, 1]           9,620\n",
      "MemoryEfficientSwish-271             [-1, 20, 1, 1]               0\n",
      "        Identity-272             [-1, 20, 1, 1]               0\n",
      "Conv2dStaticSamePadding-273            [-1, 480, 1, 1]          10,080\n",
      "        Identity-274          [-1, 480, 32, 24]               0\n",
      "Conv2dStaticSamePadding-275           [-1, 80, 32, 24]          38,400\n",
      "     BatchNorm2d-276           [-1, 80, 32, 24]             160\n",
      "     MBConvBlock-277           [-1, 80, 32, 24]               0\n",
      "        Identity-278           [-1, 80, 32, 24]               0\n",
      "Conv2dStaticSamePadding-279          [-1, 480, 32, 24]          38,400\n",
      "     BatchNorm2d-280          [-1, 480, 32, 24]             960\n",
      "MemoryEfficientSwish-281          [-1, 480, 32, 24]               0\n",
      "       ZeroPad2d-282          [-1, 480, 36, 28]               0\n",
      "Conv2dStaticSamePadding-283          [-1, 480, 32, 24]          12,000\n",
      "     BatchNorm2d-284          [-1, 480, 32, 24]             960\n",
      "MemoryEfficientSwish-285          [-1, 480, 32, 24]               0\n",
      "        Identity-286            [-1, 480, 1, 1]               0\n",
      "Conv2dStaticSamePadding-287             [-1, 20, 1, 1]           9,620\n",
      "MemoryEfficientSwish-288             [-1, 20, 1, 1]               0\n",
      "        Identity-289             [-1, 20, 1, 1]               0\n",
      "Conv2dStaticSamePadding-290            [-1, 480, 1, 1]          10,080\n",
      "        Identity-291          [-1, 480, 32, 24]               0\n",
      "Conv2dStaticSamePadding-292           [-1, 80, 32, 24]          38,400\n",
      "     BatchNorm2d-293           [-1, 80, 32, 24]             160\n",
      "     MBConvBlock-294           [-1, 80, 32, 24]               0\n",
      "        Identity-295           [-1, 80, 32, 24]               0\n",
      "Conv2dStaticSamePadding-296          [-1, 480, 32, 24]          38,400\n",
      "     BatchNorm2d-297          [-1, 480, 32, 24]             960\n",
      "MemoryEfficientSwish-298          [-1, 480, 32, 24]               0\n",
      "       ZeroPad2d-299          [-1, 480, 34, 26]               0\n",
      "Conv2dStaticSamePadding-300          [-1, 480, 16, 12]           4,320\n",
      "     BatchNorm2d-301          [-1, 480, 16, 12]             960\n",
      "MemoryEfficientSwish-302          [-1, 480, 16, 12]               0\n",
      "        Identity-303            [-1, 480, 1, 1]               0\n",
      "Conv2dStaticSamePadding-304             [-1, 20, 1, 1]           9,620\n",
      "MemoryEfficientSwish-305             [-1, 20, 1, 1]               0\n",
      "        Identity-306             [-1, 20, 1, 1]               0\n",
      "Conv2dStaticSamePadding-307            [-1, 480, 1, 1]          10,080\n",
      "        Identity-308          [-1, 480, 16, 12]               0\n",
      "Conv2dStaticSamePadding-309          [-1, 160, 16, 12]          76,800\n",
      "     BatchNorm2d-310          [-1, 160, 16, 12]             320\n",
      "     MBConvBlock-311          [-1, 160, 16, 12]               0\n",
      "        Identity-312          [-1, 160, 16, 12]               0\n",
      "Conv2dStaticSamePadding-313          [-1, 960, 16, 12]         153,600\n",
      "     BatchNorm2d-314          [-1, 960, 16, 12]           1,920\n",
      "MemoryEfficientSwish-315          [-1, 960, 16, 12]               0\n",
      "       ZeroPad2d-316          [-1, 960, 18, 14]               0\n",
      "Conv2dStaticSamePadding-317          [-1, 960, 16, 12]           8,640\n",
      "     BatchNorm2d-318          [-1, 960, 16, 12]           1,920\n",
      "MemoryEfficientSwish-319          [-1, 960, 16, 12]               0\n",
      "        Identity-320            [-1, 960, 1, 1]               0\n",
      "Conv2dStaticSamePadding-321             [-1, 40, 1, 1]          38,440\n",
      "MemoryEfficientSwish-322             [-1, 40, 1, 1]               0\n",
      "        Identity-323             [-1, 40, 1, 1]               0\n",
      "Conv2dStaticSamePadding-324            [-1, 960, 1, 1]          39,360\n",
      "        Identity-325          [-1, 960, 16, 12]               0\n",
      "Conv2dStaticSamePadding-326          [-1, 160, 16, 12]         153,600\n",
      "     BatchNorm2d-327          [-1, 160, 16, 12]             320\n",
      "     MBConvBlock-328          [-1, 160, 16, 12]               0\n",
      "        Identity-329          [-1, 160, 16, 12]               0\n",
      "Conv2dStaticSamePadding-330          [-1, 960, 16, 12]         153,600\n",
      "     BatchNorm2d-331          [-1, 960, 16, 12]           1,920\n",
      "MemoryEfficientSwish-332          [-1, 960, 16, 12]               0\n",
      "       ZeroPad2d-333          [-1, 960, 18, 14]               0\n",
      "Conv2dStaticSamePadding-334          [-1, 960, 16, 12]           8,640\n",
      "     BatchNorm2d-335          [-1, 960, 16, 12]           1,920\n",
      "MemoryEfficientSwish-336          [-1, 960, 16, 12]               0\n",
      "        Identity-337            [-1, 960, 1, 1]               0\n",
      "Conv2dStaticSamePadding-338             [-1, 40, 1, 1]          38,440\n",
      "MemoryEfficientSwish-339             [-1, 40, 1, 1]               0\n",
      "        Identity-340             [-1, 40, 1, 1]               0\n",
      "Conv2dStaticSamePadding-341            [-1, 960, 1, 1]          39,360\n",
      "        Identity-342          [-1, 960, 16, 12]               0\n",
      "Conv2dStaticSamePadding-343          [-1, 160, 16, 12]         153,600\n",
      "     BatchNorm2d-344          [-1, 160, 16, 12]             320\n",
      "     MBConvBlock-345          [-1, 160, 16, 12]               0\n",
      "        Identity-346          [-1, 160, 16, 12]               0\n",
      "Conv2dStaticSamePadding-347          [-1, 960, 16, 12]         153,600\n",
      "     BatchNorm2d-348          [-1, 960, 16, 12]           1,920\n",
      "MemoryEfficientSwish-349          [-1, 960, 16, 12]               0\n",
      "       ZeroPad2d-350          [-1, 960, 18, 14]               0\n",
      "Conv2dStaticSamePadding-351          [-1, 960, 16, 12]           8,640\n",
      "     BatchNorm2d-352          [-1, 960, 16, 12]           1,920\n",
      "MemoryEfficientSwish-353          [-1, 960, 16, 12]               0\n",
      "        Identity-354            [-1, 960, 1, 1]               0\n",
      "Conv2dStaticSamePadding-355             [-1, 40, 1, 1]          38,440\n",
      "MemoryEfficientSwish-356             [-1, 40, 1, 1]               0\n",
      "        Identity-357             [-1, 40, 1, 1]               0\n",
      "Conv2dStaticSamePadding-358            [-1, 960, 1, 1]          39,360\n",
      "        Identity-359          [-1, 960, 16, 12]               0\n",
      "Conv2dStaticSamePadding-360          [-1, 160, 16, 12]         153,600\n",
      "     BatchNorm2d-361          [-1, 160, 16, 12]             320\n",
      "     MBConvBlock-362          [-1, 160, 16, 12]               0\n",
      "        Identity-363          [-1, 160, 16, 12]               0\n",
      "Conv2dStaticSamePadding-364          [-1, 960, 16, 12]         153,600\n",
      "     BatchNorm2d-365          [-1, 960, 16, 12]           1,920\n",
      "MemoryEfficientSwish-366          [-1, 960, 16, 12]               0\n",
      "       ZeroPad2d-367          [-1, 960, 18, 14]               0\n",
      "Conv2dStaticSamePadding-368          [-1, 960, 16, 12]           8,640\n",
      "     BatchNorm2d-369          [-1, 960, 16, 12]           1,920\n",
      "MemoryEfficientSwish-370          [-1, 960, 16, 12]               0\n",
      "        Identity-371            [-1, 960, 1, 1]               0\n",
      "Conv2dStaticSamePadding-372             [-1, 40, 1, 1]          38,440\n",
      "MemoryEfficientSwish-373             [-1, 40, 1, 1]               0\n",
      "        Identity-374             [-1, 40, 1, 1]               0\n",
      "Conv2dStaticSamePadding-375            [-1, 960, 1, 1]          39,360\n",
      "        Identity-376          [-1, 960, 16, 12]               0\n",
      "Conv2dStaticSamePadding-377          [-1, 160, 16, 12]         153,600\n",
      "     BatchNorm2d-378          [-1, 160, 16, 12]             320\n",
      "     MBConvBlock-379          [-1, 160, 16, 12]               0\n",
      "        Identity-380          [-1, 160, 16, 12]               0\n",
      "Conv2dStaticSamePadding-381          [-1, 960, 16, 12]         153,600\n",
      "     BatchNorm2d-382          [-1, 960, 16, 12]           1,920\n",
      "MemoryEfficientSwish-383          [-1, 960, 16, 12]               0\n",
      "       ZeroPad2d-384          [-1, 960, 18, 14]               0\n",
      "Conv2dStaticSamePadding-385          [-1, 960, 16, 12]           8,640\n",
      "     BatchNorm2d-386          [-1, 960, 16, 12]           1,920\n",
      "MemoryEfficientSwish-387          [-1, 960, 16, 12]               0\n",
      "        Identity-388            [-1, 960, 1, 1]               0\n",
      "Conv2dStaticSamePadding-389             [-1, 40, 1, 1]          38,440\n",
      "MemoryEfficientSwish-390             [-1, 40, 1, 1]               0\n",
      "        Identity-391             [-1, 40, 1, 1]               0\n",
      "Conv2dStaticSamePadding-392            [-1, 960, 1, 1]          39,360\n",
      "        Identity-393          [-1, 960, 16, 12]               0\n",
      "Conv2dStaticSamePadding-394          [-1, 160, 16, 12]         153,600\n",
      "     BatchNorm2d-395          [-1, 160, 16, 12]             320\n",
      "     MBConvBlock-396          [-1, 160, 16, 12]               0\n",
      "        Identity-397          [-1, 160, 16, 12]               0\n",
      "Conv2dStaticSamePadding-398          [-1, 960, 16, 12]         153,600\n",
      "     BatchNorm2d-399          [-1, 960, 16, 12]           1,920\n",
      "MemoryEfficientSwish-400          [-1, 960, 16, 12]               0\n",
      "       ZeroPad2d-401          [-1, 960, 18, 14]               0\n",
      "Conv2dStaticSamePadding-402          [-1, 960, 16, 12]           8,640\n",
      "     BatchNorm2d-403          [-1, 960, 16, 12]           1,920\n",
      "MemoryEfficientSwish-404          [-1, 960, 16, 12]               0\n",
      "        Identity-405            [-1, 960, 1, 1]               0\n",
      "Conv2dStaticSamePadding-406             [-1, 40, 1, 1]          38,440\n",
      "MemoryEfficientSwish-407             [-1, 40, 1, 1]               0\n",
      "        Identity-408             [-1, 40, 1, 1]               0\n",
      "Conv2dStaticSamePadding-409            [-1, 960, 1, 1]          39,360\n",
      "        Identity-410          [-1, 960, 16, 12]               0\n",
      "Conv2dStaticSamePadding-411          [-1, 160, 16, 12]         153,600\n",
      "     BatchNorm2d-412          [-1, 160, 16, 12]             320\n",
      "     MBConvBlock-413          [-1, 160, 16, 12]               0\n",
      "        Identity-414          [-1, 160, 16, 12]               0\n",
      "Conv2dStaticSamePadding-415          [-1, 960, 16, 12]         153,600\n",
      "     BatchNorm2d-416          [-1, 960, 16, 12]           1,920\n",
      "MemoryEfficientSwish-417          [-1, 960, 16, 12]               0\n",
      "       ZeroPad2d-418          [-1, 960, 18, 14]               0\n",
      "Conv2dStaticSamePadding-419          [-1, 960, 16, 12]           8,640\n",
      "     BatchNorm2d-420          [-1, 960, 16, 12]           1,920\n",
      "MemoryEfficientSwish-421          [-1, 960, 16, 12]               0\n",
      "        Identity-422            [-1, 960, 1, 1]               0\n",
      "Conv2dStaticSamePadding-423             [-1, 40, 1, 1]          38,440\n",
      "MemoryEfficientSwish-424             [-1, 40, 1, 1]               0\n",
      "        Identity-425             [-1, 40, 1, 1]               0\n",
      "Conv2dStaticSamePadding-426            [-1, 960, 1, 1]          39,360\n",
      "        Identity-427          [-1, 960, 16, 12]               0\n",
      "Conv2dStaticSamePadding-428          [-1, 160, 16, 12]         153,600\n",
      "     BatchNorm2d-429          [-1, 160, 16, 12]             320\n",
      "     MBConvBlock-430          [-1, 160, 16, 12]               0\n",
      "        Identity-431          [-1, 160, 16, 12]               0\n",
      "Conv2dStaticSamePadding-432          [-1, 960, 16, 12]         153,600\n",
      "     BatchNorm2d-433          [-1, 960, 16, 12]           1,920\n",
      "MemoryEfficientSwish-434          [-1, 960, 16, 12]               0\n",
      "       ZeroPad2d-435          [-1, 960, 18, 14]               0\n",
      "Conv2dStaticSamePadding-436          [-1, 960, 16, 12]           8,640\n",
      "     BatchNorm2d-437          [-1, 960, 16, 12]           1,920\n",
      "MemoryEfficientSwish-438          [-1, 960, 16, 12]               0\n",
      "        Identity-439            [-1, 960, 1, 1]               0\n",
      "Conv2dStaticSamePadding-440             [-1, 40, 1, 1]          38,440\n",
      "MemoryEfficientSwish-441             [-1, 40, 1, 1]               0\n",
      "        Identity-442             [-1, 40, 1, 1]               0\n",
      "Conv2dStaticSamePadding-443            [-1, 960, 1, 1]          39,360\n",
      "        Identity-444          [-1, 960, 16, 12]               0\n",
      "Conv2dStaticSamePadding-445          [-1, 160, 16, 12]         153,600\n",
      "     BatchNorm2d-446          [-1, 160, 16, 12]             320\n",
      "     MBConvBlock-447          [-1, 160, 16, 12]               0\n",
      "        Identity-448          [-1, 160, 16, 12]               0\n",
      "Conv2dStaticSamePadding-449          [-1, 960, 16, 12]         153,600\n",
      "     BatchNorm2d-450          [-1, 960, 16, 12]           1,920\n",
      "MemoryEfficientSwish-451          [-1, 960, 16, 12]               0\n",
      "       ZeroPad2d-452          [-1, 960, 18, 14]               0\n",
      "Conv2dStaticSamePadding-453          [-1, 960, 16, 12]           8,640\n",
      "     BatchNorm2d-454          [-1, 960, 16, 12]           1,920\n",
      "MemoryEfficientSwish-455          [-1, 960, 16, 12]               0\n",
      "        Identity-456            [-1, 960, 1, 1]               0\n",
      "Conv2dStaticSamePadding-457             [-1, 40, 1, 1]          38,440\n",
      "MemoryEfficientSwish-458             [-1, 40, 1, 1]               0\n",
      "        Identity-459             [-1, 40, 1, 1]               0\n",
      "Conv2dStaticSamePadding-460            [-1, 960, 1, 1]          39,360\n",
      "        Identity-461          [-1, 960, 16, 12]               0\n",
      "Conv2dStaticSamePadding-462          [-1, 160, 16, 12]         153,600\n",
      "     BatchNorm2d-463          [-1, 160, 16, 12]             320\n",
      "     MBConvBlock-464          [-1, 160, 16, 12]               0\n",
      "        Identity-465          [-1, 160, 16, 12]               0\n",
      "Conv2dStaticSamePadding-466          [-1, 960, 16, 12]         153,600\n",
      "     BatchNorm2d-467          [-1, 960, 16, 12]           1,920\n",
      "MemoryEfficientSwish-468          [-1, 960, 16, 12]               0\n",
      "       ZeroPad2d-469          [-1, 960, 20, 16]               0\n",
      "Conv2dStaticSamePadding-470          [-1, 960, 16, 12]          24,000\n",
      "     BatchNorm2d-471          [-1, 960, 16, 12]           1,920\n",
      "MemoryEfficientSwish-472          [-1, 960, 16, 12]               0\n",
      "        Identity-473            [-1, 960, 1, 1]               0\n",
      "Conv2dStaticSamePadding-474             [-1, 40, 1, 1]          38,440\n",
      "MemoryEfficientSwish-475             [-1, 40, 1, 1]               0\n",
      "        Identity-476             [-1, 40, 1, 1]               0\n",
      "Conv2dStaticSamePadding-477            [-1, 960, 1, 1]          39,360\n",
      "        Identity-478          [-1, 960, 16, 12]               0\n",
      "Conv2dStaticSamePadding-479          [-1, 224, 16, 12]         215,040\n",
      "     BatchNorm2d-480          [-1, 224, 16, 12]             448\n",
      "     MBConvBlock-481          [-1, 224, 16, 12]               0\n",
      "        Identity-482          [-1, 224, 16, 12]               0\n",
      "Conv2dStaticSamePadding-483         [-1, 1344, 16, 12]         301,056\n",
      "     BatchNorm2d-484         [-1, 1344, 16, 12]           2,688\n",
      "MemoryEfficientSwish-485         [-1, 1344, 16, 12]               0\n",
      "       ZeroPad2d-486         [-1, 1344, 20, 16]               0\n",
      "Conv2dStaticSamePadding-487         [-1, 1344, 16, 12]          33,600\n",
      "     BatchNorm2d-488         [-1, 1344, 16, 12]           2,688\n",
      "MemoryEfficientSwish-489         [-1, 1344, 16, 12]               0\n",
      "        Identity-490           [-1, 1344, 1, 1]               0\n",
      "Conv2dStaticSamePadding-491             [-1, 56, 1, 1]          75,320\n",
      "MemoryEfficientSwish-492             [-1, 56, 1, 1]               0\n",
      "        Identity-493             [-1, 56, 1, 1]               0\n",
      "Conv2dStaticSamePadding-494           [-1, 1344, 1, 1]          76,608\n",
      "        Identity-495         [-1, 1344, 16, 12]               0\n",
      "Conv2dStaticSamePadding-496          [-1, 224, 16, 12]         301,056\n",
      "     BatchNorm2d-497          [-1, 224, 16, 12]             448\n",
      "     MBConvBlock-498          [-1, 224, 16, 12]               0\n",
      "        Identity-499          [-1, 224, 16, 12]               0\n",
      "Conv2dStaticSamePadding-500         [-1, 1344, 16, 12]         301,056\n",
      "     BatchNorm2d-501         [-1, 1344, 16, 12]           2,688\n",
      "MemoryEfficientSwish-502         [-1, 1344, 16, 12]               0\n",
      "       ZeroPad2d-503         [-1, 1344, 20, 16]               0\n",
      "Conv2dStaticSamePadding-504         [-1, 1344, 16, 12]          33,600\n",
      "     BatchNorm2d-505         [-1, 1344, 16, 12]           2,688\n",
      "MemoryEfficientSwish-506         [-1, 1344, 16, 12]               0\n",
      "        Identity-507           [-1, 1344, 1, 1]               0\n",
      "Conv2dStaticSamePadding-508             [-1, 56, 1, 1]          75,320\n",
      "MemoryEfficientSwish-509             [-1, 56, 1, 1]               0\n",
      "        Identity-510             [-1, 56, 1, 1]               0\n",
      "Conv2dStaticSamePadding-511           [-1, 1344, 1, 1]          76,608\n",
      "        Identity-512         [-1, 1344, 16, 12]               0\n",
      "Conv2dStaticSamePadding-513          [-1, 224, 16, 12]         301,056\n",
      "     BatchNorm2d-514          [-1, 224, 16, 12]             448\n",
      "     MBConvBlock-515          [-1, 224, 16, 12]               0\n",
      "        Identity-516          [-1, 224, 16, 12]               0\n",
      "Conv2dStaticSamePadding-517         [-1, 1344, 16, 12]         301,056\n",
      "     BatchNorm2d-518         [-1, 1344, 16, 12]           2,688\n",
      "MemoryEfficientSwish-519         [-1, 1344, 16, 12]               0\n",
      "       ZeroPad2d-520         [-1, 1344, 20, 16]               0\n",
      "Conv2dStaticSamePadding-521         [-1, 1344, 16, 12]          33,600\n",
      "     BatchNorm2d-522         [-1, 1344, 16, 12]           2,688\n",
      "MemoryEfficientSwish-523         [-1, 1344, 16, 12]               0\n",
      "        Identity-524           [-1, 1344, 1, 1]               0\n",
      "Conv2dStaticSamePadding-525             [-1, 56, 1, 1]          75,320\n",
      "MemoryEfficientSwish-526             [-1, 56, 1, 1]               0\n",
      "        Identity-527             [-1, 56, 1, 1]               0\n",
      "Conv2dStaticSamePadding-528           [-1, 1344, 1, 1]          76,608\n",
      "        Identity-529         [-1, 1344, 16, 12]               0\n",
      "Conv2dStaticSamePadding-530          [-1, 224, 16, 12]         301,056\n",
      "     BatchNorm2d-531          [-1, 224, 16, 12]             448\n",
      "     MBConvBlock-532          [-1, 224, 16, 12]               0\n",
      "        Identity-533          [-1, 224, 16, 12]               0\n",
      "Conv2dStaticSamePadding-534         [-1, 1344, 16, 12]         301,056\n",
      "     BatchNorm2d-535         [-1, 1344, 16, 12]           2,688\n",
      "MemoryEfficientSwish-536         [-1, 1344, 16, 12]               0\n",
      "       ZeroPad2d-537         [-1, 1344, 20, 16]               0\n",
      "Conv2dStaticSamePadding-538         [-1, 1344, 16, 12]          33,600\n",
      "     BatchNorm2d-539         [-1, 1344, 16, 12]           2,688\n",
      "MemoryEfficientSwish-540         [-1, 1344, 16, 12]               0\n",
      "        Identity-541           [-1, 1344, 1, 1]               0\n",
      "Conv2dStaticSamePadding-542             [-1, 56, 1, 1]          75,320\n",
      "MemoryEfficientSwish-543             [-1, 56, 1, 1]               0\n",
      "        Identity-544             [-1, 56, 1, 1]               0\n",
      "Conv2dStaticSamePadding-545           [-1, 1344, 1, 1]          76,608\n",
      "        Identity-546         [-1, 1344, 16, 12]               0\n",
      "Conv2dStaticSamePadding-547          [-1, 224, 16, 12]         301,056\n",
      "     BatchNorm2d-548          [-1, 224, 16, 12]             448\n",
      "     MBConvBlock-549          [-1, 224, 16, 12]               0\n",
      "        Identity-550          [-1, 224, 16, 12]               0\n",
      "Conv2dStaticSamePadding-551         [-1, 1344, 16, 12]         301,056\n",
      "     BatchNorm2d-552         [-1, 1344, 16, 12]           2,688\n",
      "MemoryEfficientSwish-553         [-1, 1344, 16, 12]               0\n",
      "       ZeroPad2d-554         [-1, 1344, 20, 16]               0\n",
      "Conv2dStaticSamePadding-555         [-1, 1344, 16, 12]          33,600\n",
      "     BatchNorm2d-556         [-1, 1344, 16, 12]           2,688\n",
      "MemoryEfficientSwish-557         [-1, 1344, 16, 12]               0\n",
      "        Identity-558           [-1, 1344, 1, 1]               0\n",
      "Conv2dStaticSamePadding-559             [-1, 56, 1, 1]          75,320\n",
      "MemoryEfficientSwish-560             [-1, 56, 1, 1]               0\n",
      "        Identity-561             [-1, 56, 1, 1]               0\n",
      "Conv2dStaticSamePadding-562           [-1, 1344, 1, 1]          76,608\n",
      "        Identity-563         [-1, 1344, 16, 12]               0\n",
      "Conv2dStaticSamePadding-564          [-1, 224, 16, 12]         301,056\n",
      "     BatchNorm2d-565          [-1, 224, 16, 12]             448\n",
      "     MBConvBlock-566          [-1, 224, 16, 12]               0\n",
      "        Identity-567          [-1, 224, 16, 12]               0\n",
      "Conv2dStaticSamePadding-568         [-1, 1344, 16, 12]         301,056\n",
      "     BatchNorm2d-569         [-1, 1344, 16, 12]           2,688\n",
      "MemoryEfficientSwish-570         [-1, 1344, 16, 12]               0\n",
      "       ZeroPad2d-571         [-1, 1344, 20, 16]               0\n",
      "Conv2dStaticSamePadding-572         [-1, 1344, 16, 12]          33,600\n",
      "     BatchNorm2d-573         [-1, 1344, 16, 12]           2,688\n",
      "MemoryEfficientSwish-574         [-1, 1344, 16, 12]               0\n",
      "        Identity-575           [-1, 1344, 1, 1]               0\n",
      "Conv2dStaticSamePadding-576             [-1, 56, 1, 1]          75,320\n",
      "MemoryEfficientSwish-577             [-1, 56, 1, 1]               0\n",
      "        Identity-578             [-1, 56, 1, 1]               0\n",
      "Conv2dStaticSamePadding-579           [-1, 1344, 1, 1]          76,608\n",
      "        Identity-580         [-1, 1344, 16, 12]               0\n",
      "Conv2dStaticSamePadding-581          [-1, 224, 16, 12]         301,056\n",
      "     BatchNorm2d-582          [-1, 224, 16, 12]             448\n",
      "     MBConvBlock-583          [-1, 224, 16, 12]               0\n",
      "        Identity-584          [-1, 224, 16, 12]               0\n",
      "Conv2dStaticSamePadding-585         [-1, 1344, 16, 12]         301,056\n",
      "     BatchNorm2d-586         [-1, 1344, 16, 12]           2,688\n",
      "MemoryEfficientSwish-587         [-1, 1344, 16, 12]               0\n",
      "       ZeroPad2d-588         [-1, 1344, 20, 16]               0\n",
      "Conv2dStaticSamePadding-589         [-1, 1344, 16, 12]          33,600\n",
      "     BatchNorm2d-590         [-1, 1344, 16, 12]           2,688\n",
      "MemoryEfficientSwish-591         [-1, 1344, 16, 12]               0\n",
      "        Identity-592           [-1, 1344, 1, 1]               0\n",
      "Conv2dStaticSamePadding-593             [-1, 56, 1, 1]          75,320\n",
      "MemoryEfficientSwish-594             [-1, 56, 1, 1]               0\n",
      "        Identity-595             [-1, 56, 1, 1]               0\n",
      "Conv2dStaticSamePadding-596           [-1, 1344, 1, 1]          76,608\n",
      "        Identity-597         [-1, 1344, 16, 12]               0\n",
      "Conv2dStaticSamePadding-598          [-1, 224, 16, 12]         301,056\n",
      "     BatchNorm2d-599          [-1, 224, 16, 12]             448\n",
      "     MBConvBlock-600          [-1, 224, 16, 12]               0\n",
      "        Identity-601          [-1, 224, 16, 12]               0\n",
      "Conv2dStaticSamePadding-602         [-1, 1344, 16, 12]         301,056\n",
      "     BatchNorm2d-603         [-1, 1344, 16, 12]           2,688\n",
      "MemoryEfficientSwish-604         [-1, 1344, 16, 12]               0\n",
      "       ZeroPad2d-605         [-1, 1344, 20, 16]               0\n",
      "Conv2dStaticSamePadding-606         [-1, 1344, 16, 12]          33,600\n",
      "     BatchNorm2d-607         [-1, 1344, 16, 12]           2,688\n",
      "MemoryEfficientSwish-608         [-1, 1344, 16, 12]               0\n",
      "        Identity-609           [-1, 1344, 1, 1]               0\n",
      "Conv2dStaticSamePadding-610             [-1, 56, 1, 1]          75,320\n",
      "MemoryEfficientSwish-611             [-1, 56, 1, 1]               0\n",
      "        Identity-612             [-1, 56, 1, 1]               0\n",
      "Conv2dStaticSamePadding-613           [-1, 1344, 1, 1]          76,608\n",
      "        Identity-614         [-1, 1344, 16, 12]               0\n",
      "Conv2dStaticSamePadding-615          [-1, 224, 16, 12]         301,056\n",
      "     BatchNorm2d-616          [-1, 224, 16, 12]             448\n",
      "     MBConvBlock-617          [-1, 224, 16, 12]               0\n",
      "        Identity-618          [-1, 224, 16, 12]               0\n",
      "Conv2dStaticSamePadding-619         [-1, 1344, 16, 12]         301,056\n",
      "     BatchNorm2d-620         [-1, 1344, 16, 12]           2,688\n",
      "MemoryEfficientSwish-621         [-1, 1344, 16, 12]               0\n",
      "       ZeroPad2d-622         [-1, 1344, 20, 16]               0\n",
      "Conv2dStaticSamePadding-623         [-1, 1344, 16, 12]          33,600\n",
      "     BatchNorm2d-624         [-1, 1344, 16, 12]           2,688\n",
      "MemoryEfficientSwish-625         [-1, 1344, 16, 12]               0\n",
      "        Identity-626           [-1, 1344, 1, 1]               0\n",
      "Conv2dStaticSamePadding-627             [-1, 56, 1, 1]          75,320\n",
      "MemoryEfficientSwish-628             [-1, 56, 1, 1]               0\n",
      "        Identity-629             [-1, 56, 1, 1]               0\n",
      "Conv2dStaticSamePadding-630           [-1, 1344, 1, 1]          76,608\n",
      "        Identity-631         [-1, 1344, 16, 12]               0\n",
      "Conv2dStaticSamePadding-632          [-1, 224, 16, 12]         301,056\n",
      "     BatchNorm2d-633          [-1, 224, 16, 12]             448\n",
      "     MBConvBlock-634          [-1, 224, 16, 12]               0\n",
      "        Identity-635          [-1, 224, 16, 12]               0\n",
      "Conv2dStaticSamePadding-636         [-1, 1344, 16, 12]         301,056\n",
      "     BatchNorm2d-637         [-1, 1344, 16, 12]           2,688\n",
      "MemoryEfficientSwish-638         [-1, 1344, 16, 12]               0\n",
      "       ZeroPad2d-639         [-1, 1344, 19, 15]               0\n",
      "Conv2dStaticSamePadding-640           [-1, 1344, 8, 6]          33,600\n",
      "     BatchNorm2d-641           [-1, 1344, 8, 6]           2,688\n",
      "MemoryEfficientSwish-642           [-1, 1344, 8, 6]               0\n",
      "        Identity-643           [-1, 1344, 1, 1]               0\n",
      "Conv2dStaticSamePadding-644             [-1, 56, 1, 1]          75,320\n",
      "MemoryEfficientSwish-645             [-1, 56, 1, 1]               0\n",
      "        Identity-646             [-1, 56, 1, 1]               0\n",
      "Conv2dStaticSamePadding-647           [-1, 1344, 1, 1]          76,608\n",
      "        Identity-648           [-1, 1344, 8, 6]               0\n",
      "Conv2dStaticSamePadding-649            [-1, 384, 8, 6]         516,096\n",
      "     BatchNorm2d-650            [-1, 384, 8, 6]             768\n",
      "     MBConvBlock-651            [-1, 384, 8, 6]               0\n",
      "        Identity-652            [-1, 384, 8, 6]               0\n",
      "Conv2dStaticSamePadding-653           [-1, 2304, 8, 6]         884,736\n",
      "     BatchNorm2d-654           [-1, 2304, 8, 6]           4,608\n",
      "MemoryEfficientSwish-655           [-1, 2304, 8, 6]               0\n",
      "       ZeroPad2d-656         [-1, 2304, 12, 10]               0\n",
      "Conv2dStaticSamePadding-657           [-1, 2304, 8, 6]          57,600\n",
      "     BatchNorm2d-658           [-1, 2304, 8, 6]           4,608\n",
      "MemoryEfficientSwish-659           [-1, 2304, 8, 6]               0\n",
      "        Identity-660           [-1, 2304, 1, 1]               0\n",
      "Conv2dStaticSamePadding-661             [-1, 96, 1, 1]         221,280\n",
      "MemoryEfficientSwish-662             [-1, 96, 1, 1]               0\n",
      "        Identity-663             [-1, 96, 1, 1]               0\n",
      "Conv2dStaticSamePadding-664           [-1, 2304, 1, 1]         223,488\n",
      "        Identity-665           [-1, 2304, 8, 6]               0\n",
      "Conv2dStaticSamePadding-666            [-1, 384, 8, 6]         884,736\n",
      "     BatchNorm2d-667            [-1, 384, 8, 6]             768\n",
      "     MBConvBlock-668            [-1, 384, 8, 6]               0\n",
      "        Identity-669            [-1, 384, 8, 6]               0\n",
      "Conv2dStaticSamePadding-670           [-1, 2304, 8, 6]         884,736\n",
      "     BatchNorm2d-671           [-1, 2304, 8, 6]           4,608\n",
      "MemoryEfficientSwish-672           [-1, 2304, 8, 6]               0\n",
      "       ZeroPad2d-673         [-1, 2304, 12, 10]               0\n",
      "Conv2dStaticSamePadding-674           [-1, 2304, 8, 6]          57,600\n",
      "     BatchNorm2d-675           [-1, 2304, 8, 6]           4,608\n",
      "MemoryEfficientSwish-676           [-1, 2304, 8, 6]               0\n",
      "        Identity-677           [-1, 2304, 1, 1]               0\n",
      "Conv2dStaticSamePadding-678             [-1, 96, 1, 1]         221,280\n",
      "MemoryEfficientSwish-679             [-1, 96, 1, 1]               0\n",
      "        Identity-680             [-1, 96, 1, 1]               0\n",
      "Conv2dStaticSamePadding-681           [-1, 2304, 1, 1]         223,488\n",
      "        Identity-682           [-1, 2304, 8, 6]               0\n",
      "Conv2dStaticSamePadding-683            [-1, 384, 8, 6]         884,736\n",
      "     BatchNorm2d-684            [-1, 384, 8, 6]             768\n",
      "     MBConvBlock-685            [-1, 384, 8, 6]               0\n",
      "        Identity-686            [-1, 384, 8, 6]               0\n",
      "Conv2dStaticSamePadding-687           [-1, 2304, 8, 6]         884,736\n",
      "     BatchNorm2d-688           [-1, 2304, 8, 6]           4,608\n",
      "MemoryEfficientSwish-689           [-1, 2304, 8, 6]               0\n",
      "       ZeroPad2d-690         [-1, 2304, 12, 10]               0\n",
      "Conv2dStaticSamePadding-691           [-1, 2304, 8, 6]          57,600\n",
      "     BatchNorm2d-692           [-1, 2304, 8, 6]           4,608\n",
      "MemoryEfficientSwish-693           [-1, 2304, 8, 6]               0\n",
      "        Identity-694           [-1, 2304, 1, 1]               0\n",
      "Conv2dStaticSamePadding-695             [-1, 96, 1, 1]         221,280\n",
      "MemoryEfficientSwish-696             [-1, 96, 1, 1]               0\n",
      "        Identity-697             [-1, 96, 1, 1]               0\n",
      "Conv2dStaticSamePadding-698           [-1, 2304, 1, 1]         223,488\n",
      "        Identity-699           [-1, 2304, 8, 6]               0\n",
      "Conv2dStaticSamePadding-700            [-1, 384, 8, 6]         884,736\n",
      "     BatchNorm2d-701            [-1, 384, 8, 6]             768\n",
      "     MBConvBlock-702            [-1, 384, 8, 6]               0\n",
      "        Identity-703            [-1, 384, 8, 6]               0\n",
      "Conv2dStaticSamePadding-704           [-1, 2304, 8, 6]         884,736\n",
      "     BatchNorm2d-705           [-1, 2304, 8, 6]           4,608\n",
      "MemoryEfficientSwish-706           [-1, 2304, 8, 6]               0\n",
      "       ZeroPad2d-707         [-1, 2304, 12, 10]               0\n",
      "Conv2dStaticSamePadding-708           [-1, 2304, 8, 6]          57,600\n",
      "     BatchNorm2d-709           [-1, 2304, 8, 6]           4,608\n",
      "MemoryEfficientSwish-710           [-1, 2304, 8, 6]               0\n",
      "        Identity-711           [-1, 2304, 1, 1]               0\n",
      "Conv2dStaticSamePadding-712             [-1, 96, 1, 1]         221,280\n",
      "MemoryEfficientSwish-713             [-1, 96, 1, 1]               0\n",
      "        Identity-714             [-1, 96, 1, 1]               0\n",
      "Conv2dStaticSamePadding-715           [-1, 2304, 1, 1]         223,488\n",
      "        Identity-716           [-1, 2304, 8, 6]               0\n",
      "Conv2dStaticSamePadding-717            [-1, 384, 8, 6]         884,736\n",
      "     BatchNorm2d-718            [-1, 384, 8, 6]             768\n",
      "     MBConvBlock-719            [-1, 384, 8, 6]               0\n",
      "        Identity-720            [-1, 384, 8, 6]               0\n",
      "Conv2dStaticSamePadding-721           [-1, 2304, 8, 6]         884,736\n",
      "     BatchNorm2d-722           [-1, 2304, 8, 6]           4,608\n",
      "MemoryEfficientSwish-723           [-1, 2304, 8, 6]               0\n",
      "       ZeroPad2d-724         [-1, 2304, 12, 10]               0\n",
      "Conv2dStaticSamePadding-725           [-1, 2304, 8, 6]          57,600\n",
      "     BatchNorm2d-726           [-1, 2304, 8, 6]           4,608\n",
      "MemoryEfficientSwish-727           [-1, 2304, 8, 6]               0\n",
      "        Identity-728           [-1, 2304, 1, 1]               0\n",
      "Conv2dStaticSamePadding-729             [-1, 96, 1, 1]         221,280\n",
      "MemoryEfficientSwish-730             [-1, 96, 1, 1]               0\n",
      "        Identity-731             [-1, 96, 1, 1]               0\n",
      "Conv2dStaticSamePadding-732           [-1, 2304, 1, 1]         223,488\n",
      "        Identity-733           [-1, 2304, 8, 6]               0\n",
      "Conv2dStaticSamePadding-734            [-1, 384, 8, 6]         884,736\n",
      "     BatchNorm2d-735            [-1, 384, 8, 6]             768\n",
      "     MBConvBlock-736            [-1, 384, 8, 6]               0\n",
      "        Identity-737            [-1, 384, 8, 6]               0\n",
      "Conv2dStaticSamePadding-738           [-1, 2304, 8, 6]         884,736\n",
      "     BatchNorm2d-739           [-1, 2304, 8, 6]           4,608\n",
      "MemoryEfficientSwish-740           [-1, 2304, 8, 6]               0\n",
      "       ZeroPad2d-741         [-1, 2304, 12, 10]               0\n",
      "Conv2dStaticSamePadding-742           [-1, 2304, 8, 6]          57,600\n",
      "     BatchNorm2d-743           [-1, 2304, 8, 6]           4,608\n",
      "MemoryEfficientSwish-744           [-1, 2304, 8, 6]               0\n",
      "        Identity-745           [-1, 2304, 1, 1]               0\n",
      "Conv2dStaticSamePadding-746             [-1, 96, 1, 1]         221,280\n",
      "MemoryEfficientSwish-747             [-1, 96, 1, 1]               0\n",
      "        Identity-748             [-1, 96, 1, 1]               0\n",
      "Conv2dStaticSamePadding-749           [-1, 2304, 1, 1]         223,488\n",
      "        Identity-750           [-1, 2304, 8, 6]               0\n",
      "Conv2dStaticSamePadding-751            [-1, 384, 8, 6]         884,736\n",
      "     BatchNorm2d-752            [-1, 384, 8, 6]             768\n",
      "     MBConvBlock-753            [-1, 384, 8, 6]               0\n",
      "        Identity-754            [-1, 384, 8, 6]               0\n",
      "Conv2dStaticSamePadding-755           [-1, 2304, 8, 6]         884,736\n",
      "     BatchNorm2d-756           [-1, 2304, 8, 6]           4,608\n",
      "MemoryEfficientSwish-757           [-1, 2304, 8, 6]               0\n",
      "       ZeroPad2d-758         [-1, 2304, 12, 10]               0\n",
      "Conv2dStaticSamePadding-759           [-1, 2304, 8, 6]          57,600\n",
      "     BatchNorm2d-760           [-1, 2304, 8, 6]           4,608\n",
      "MemoryEfficientSwish-761           [-1, 2304, 8, 6]               0\n",
      "        Identity-762           [-1, 2304, 1, 1]               0\n",
      "Conv2dStaticSamePadding-763             [-1, 96, 1, 1]         221,280\n",
      "MemoryEfficientSwish-764             [-1, 96, 1, 1]               0\n",
      "        Identity-765             [-1, 96, 1, 1]               0\n",
      "Conv2dStaticSamePadding-766           [-1, 2304, 1, 1]         223,488\n",
      "        Identity-767           [-1, 2304, 8, 6]               0\n",
      "Conv2dStaticSamePadding-768            [-1, 384, 8, 6]         884,736\n",
      "     BatchNorm2d-769            [-1, 384, 8, 6]             768\n",
      "     MBConvBlock-770            [-1, 384, 8, 6]               0\n",
      "        Identity-771            [-1, 384, 8, 6]               0\n",
      "Conv2dStaticSamePadding-772           [-1, 2304, 8, 6]         884,736\n",
      "     BatchNorm2d-773           [-1, 2304, 8, 6]           4,608\n",
      "MemoryEfficientSwish-774           [-1, 2304, 8, 6]               0\n",
      "       ZeroPad2d-775         [-1, 2304, 12, 10]               0\n",
      "Conv2dStaticSamePadding-776           [-1, 2304, 8, 6]          57,600\n",
      "     BatchNorm2d-777           [-1, 2304, 8, 6]           4,608\n",
      "MemoryEfficientSwish-778           [-1, 2304, 8, 6]               0\n",
      "        Identity-779           [-1, 2304, 1, 1]               0\n",
      "Conv2dStaticSamePadding-780             [-1, 96, 1, 1]         221,280\n",
      "MemoryEfficientSwish-781             [-1, 96, 1, 1]               0\n",
      "        Identity-782             [-1, 96, 1, 1]               0\n",
      "Conv2dStaticSamePadding-783           [-1, 2304, 1, 1]         223,488\n",
      "        Identity-784           [-1, 2304, 8, 6]               0\n",
      "Conv2dStaticSamePadding-785            [-1, 384, 8, 6]         884,736\n",
      "     BatchNorm2d-786            [-1, 384, 8, 6]             768\n",
      "     MBConvBlock-787            [-1, 384, 8, 6]               0\n",
      "        Identity-788            [-1, 384, 8, 6]               0\n",
      "Conv2dStaticSamePadding-789           [-1, 2304, 8, 6]         884,736\n",
      "     BatchNorm2d-790           [-1, 2304, 8, 6]           4,608\n",
      "MemoryEfficientSwish-791           [-1, 2304, 8, 6]               0\n",
      "       ZeroPad2d-792         [-1, 2304, 12, 10]               0\n",
      "Conv2dStaticSamePadding-793           [-1, 2304, 8, 6]          57,600\n",
      "     BatchNorm2d-794           [-1, 2304, 8, 6]           4,608\n",
      "MemoryEfficientSwish-795           [-1, 2304, 8, 6]               0\n",
      "        Identity-796           [-1, 2304, 1, 1]               0\n",
      "Conv2dStaticSamePadding-797             [-1, 96, 1, 1]         221,280\n",
      "MemoryEfficientSwish-798             [-1, 96, 1, 1]               0\n",
      "        Identity-799             [-1, 96, 1, 1]               0\n",
      "Conv2dStaticSamePadding-800           [-1, 2304, 1, 1]         223,488\n",
      "        Identity-801           [-1, 2304, 8, 6]               0\n",
      "Conv2dStaticSamePadding-802            [-1, 384, 8, 6]         884,736\n",
      "     BatchNorm2d-803            [-1, 384, 8, 6]             768\n",
      "     MBConvBlock-804            [-1, 384, 8, 6]               0\n",
      "        Identity-805            [-1, 384, 8, 6]               0\n",
      "Conv2dStaticSamePadding-806           [-1, 2304, 8, 6]         884,736\n",
      "     BatchNorm2d-807           [-1, 2304, 8, 6]           4,608\n",
      "MemoryEfficientSwish-808           [-1, 2304, 8, 6]               0\n",
      "       ZeroPad2d-809         [-1, 2304, 12, 10]               0\n",
      "Conv2dStaticSamePadding-810           [-1, 2304, 8, 6]          57,600\n",
      "     BatchNorm2d-811           [-1, 2304, 8, 6]           4,608\n",
      "MemoryEfficientSwish-812           [-1, 2304, 8, 6]               0\n",
      "        Identity-813           [-1, 2304, 1, 1]               0\n",
      "Conv2dStaticSamePadding-814             [-1, 96, 1, 1]         221,280\n",
      "MemoryEfficientSwish-815             [-1, 96, 1, 1]               0\n",
      "        Identity-816             [-1, 96, 1, 1]               0\n",
      "Conv2dStaticSamePadding-817           [-1, 2304, 1, 1]         223,488\n",
      "        Identity-818           [-1, 2304, 8, 6]               0\n",
      "Conv2dStaticSamePadding-819            [-1, 384, 8, 6]         884,736\n",
      "     BatchNorm2d-820            [-1, 384, 8, 6]             768\n",
      "     MBConvBlock-821            [-1, 384, 8, 6]               0\n",
      "        Identity-822            [-1, 384, 8, 6]               0\n",
      "Conv2dStaticSamePadding-823           [-1, 2304, 8, 6]         884,736\n",
      "     BatchNorm2d-824           [-1, 2304, 8, 6]           4,608\n",
      "MemoryEfficientSwish-825           [-1, 2304, 8, 6]               0\n",
      "       ZeroPad2d-826         [-1, 2304, 12, 10]               0\n",
      "Conv2dStaticSamePadding-827           [-1, 2304, 8, 6]          57,600\n",
      "     BatchNorm2d-828           [-1, 2304, 8, 6]           4,608\n",
      "MemoryEfficientSwish-829           [-1, 2304, 8, 6]               0\n",
      "        Identity-830           [-1, 2304, 1, 1]               0\n",
      "Conv2dStaticSamePadding-831             [-1, 96, 1, 1]         221,280\n",
      "MemoryEfficientSwish-832             [-1, 96, 1, 1]               0\n",
      "        Identity-833             [-1, 96, 1, 1]               0\n",
      "Conv2dStaticSamePadding-834           [-1, 2304, 1, 1]         223,488\n",
      "        Identity-835           [-1, 2304, 8, 6]               0\n",
      "Conv2dStaticSamePadding-836            [-1, 384, 8, 6]         884,736\n",
      "     BatchNorm2d-837            [-1, 384, 8, 6]             768\n",
      "     MBConvBlock-838            [-1, 384, 8, 6]               0\n",
      "        Identity-839            [-1, 384, 8, 6]               0\n",
      "Conv2dStaticSamePadding-840           [-1, 2304, 8, 6]         884,736\n",
      "     BatchNorm2d-841           [-1, 2304, 8, 6]           4,608\n",
      "MemoryEfficientSwish-842           [-1, 2304, 8, 6]               0\n",
      "       ZeroPad2d-843         [-1, 2304, 12, 10]               0\n",
      "Conv2dStaticSamePadding-844           [-1, 2304, 8, 6]          57,600\n",
      "     BatchNorm2d-845           [-1, 2304, 8, 6]           4,608\n",
      "MemoryEfficientSwish-846           [-1, 2304, 8, 6]               0\n",
      "        Identity-847           [-1, 2304, 1, 1]               0\n",
      "Conv2dStaticSamePadding-848             [-1, 96, 1, 1]         221,280\n",
      "MemoryEfficientSwish-849             [-1, 96, 1, 1]               0\n",
      "        Identity-850             [-1, 96, 1, 1]               0\n",
      "Conv2dStaticSamePadding-851           [-1, 2304, 1, 1]         223,488\n",
      "        Identity-852           [-1, 2304, 8, 6]               0\n",
      "Conv2dStaticSamePadding-853            [-1, 384, 8, 6]         884,736\n",
      "     BatchNorm2d-854            [-1, 384, 8, 6]             768\n",
      "     MBConvBlock-855            [-1, 384, 8, 6]               0\n",
      "        Identity-856            [-1, 384, 8, 6]               0\n",
      "Conv2dStaticSamePadding-857           [-1, 2304, 8, 6]         884,736\n",
      "     BatchNorm2d-858           [-1, 2304, 8, 6]           4,608\n",
      "MemoryEfficientSwish-859           [-1, 2304, 8, 6]               0\n",
      "       ZeroPad2d-860          [-1, 2304, 10, 8]               0\n",
      "Conv2dStaticSamePadding-861           [-1, 2304, 8, 6]          20,736\n",
      "     BatchNorm2d-862           [-1, 2304, 8, 6]           4,608\n",
      "MemoryEfficientSwish-863           [-1, 2304, 8, 6]               0\n",
      "        Identity-864           [-1, 2304, 1, 1]               0\n",
      "Conv2dStaticSamePadding-865             [-1, 96, 1, 1]         221,280\n",
      "MemoryEfficientSwish-866             [-1, 96, 1, 1]               0\n",
      "        Identity-867             [-1, 96, 1, 1]               0\n",
      "Conv2dStaticSamePadding-868           [-1, 2304, 1, 1]         223,488\n",
      "        Identity-869           [-1, 2304, 8, 6]               0\n",
      "Conv2dStaticSamePadding-870            [-1, 640, 8, 6]       1,474,560\n",
      "     BatchNorm2d-871            [-1, 640, 8, 6]           1,280\n",
      "     MBConvBlock-872            [-1, 640, 8, 6]               0\n",
      "        Identity-873            [-1, 640, 8, 6]               0\n",
      "Conv2dStaticSamePadding-874           [-1, 3840, 8, 6]       2,457,600\n",
      "     BatchNorm2d-875           [-1, 3840, 8, 6]           7,680\n",
      "MemoryEfficientSwish-876           [-1, 3840, 8, 6]               0\n",
      "       ZeroPad2d-877          [-1, 3840, 10, 8]               0\n",
      "Conv2dStaticSamePadding-878           [-1, 3840, 8, 6]          34,560\n",
      "     BatchNorm2d-879           [-1, 3840, 8, 6]           7,680\n",
      "MemoryEfficientSwish-880           [-1, 3840, 8, 6]               0\n",
      "        Identity-881           [-1, 3840, 1, 1]               0\n",
      "Conv2dStaticSamePadding-882            [-1, 160, 1, 1]         614,560\n",
      "MemoryEfficientSwish-883            [-1, 160, 1, 1]               0\n",
      "        Identity-884            [-1, 160, 1, 1]               0\n",
      "Conv2dStaticSamePadding-885           [-1, 3840, 1, 1]         618,240\n",
      "        Identity-886           [-1, 3840, 8, 6]               0\n",
      "Conv2dStaticSamePadding-887            [-1, 640, 8, 6]       2,457,600\n",
      "     BatchNorm2d-888            [-1, 640, 8, 6]           1,280\n",
      "     MBConvBlock-889            [-1, 640, 8, 6]               0\n",
      "        Identity-890            [-1, 640, 8, 6]               0\n",
      "Conv2dStaticSamePadding-891           [-1, 3840, 8, 6]       2,457,600\n",
      "     BatchNorm2d-892           [-1, 3840, 8, 6]           7,680\n",
      "MemoryEfficientSwish-893           [-1, 3840, 8, 6]               0\n",
      "       ZeroPad2d-894          [-1, 3840, 10, 8]               0\n",
      "Conv2dStaticSamePadding-895           [-1, 3840, 8, 6]          34,560\n",
      "     BatchNorm2d-896           [-1, 3840, 8, 6]           7,680\n",
      "MemoryEfficientSwish-897           [-1, 3840, 8, 6]               0\n",
      "        Identity-898           [-1, 3840, 1, 1]               0\n",
      "Conv2dStaticSamePadding-899            [-1, 160, 1, 1]         614,560\n",
      "MemoryEfficientSwish-900            [-1, 160, 1, 1]               0\n",
      "        Identity-901            [-1, 160, 1, 1]               0\n",
      "Conv2dStaticSamePadding-902           [-1, 3840, 1, 1]         618,240\n",
      "        Identity-903           [-1, 3840, 8, 6]               0\n",
      "Conv2dStaticSamePadding-904            [-1, 640, 8, 6]       2,457,600\n",
      "     BatchNorm2d-905            [-1, 640, 8, 6]           1,280\n",
      "     MBConvBlock-906            [-1, 640, 8, 6]               0\n",
      "        Identity-907            [-1, 640, 8, 6]               0\n",
      "Conv2dStaticSamePadding-908           [-1, 3840, 8, 6]       2,457,600\n",
      "     BatchNorm2d-909           [-1, 3840, 8, 6]           7,680\n",
      "MemoryEfficientSwish-910           [-1, 3840, 8, 6]               0\n",
      "       ZeroPad2d-911          [-1, 3840, 10, 8]               0\n",
      "Conv2dStaticSamePadding-912           [-1, 3840, 8, 6]          34,560\n",
      "     BatchNorm2d-913           [-1, 3840, 8, 6]           7,680\n",
      "MemoryEfficientSwish-914           [-1, 3840, 8, 6]               0\n",
      "        Identity-915           [-1, 3840, 1, 1]               0\n",
      "Conv2dStaticSamePadding-916            [-1, 160, 1, 1]         614,560\n",
      "MemoryEfficientSwish-917            [-1, 160, 1, 1]               0\n",
      "        Identity-918            [-1, 160, 1, 1]               0\n",
      "Conv2dStaticSamePadding-919           [-1, 3840, 1, 1]         618,240\n",
      "        Identity-920           [-1, 3840, 8, 6]               0\n",
      "Conv2dStaticSamePadding-921            [-1, 640, 8, 6]       2,457,600\n",
      "     BatchNorm2d-922            [-1, 640, 8, 6]           1,280\n",
      "     MBConvBlock-923            [-1, 640, 8, 6]               0\n",
      "        Identity-924            [-1, 640, 8, 6]               0\n",
      "Conv2dStaticSamePadding-925           [-1, 2560, 8, 6]       1,638,400\n",
      "     BatchNorm2d-926           [-1, 2560, 8, 6]           5,120\n",
      "MemoryEfficientSwish-927           [-1, 2560, 8, 6]               0\n",
      "AdaptiveAvgPool2d-928           [-1, 2560, 1, 1]               0\n",
      "         Dropout-929                 [-1, 2560]               0\n",
      "          Linear-930                   [-1, 18]          46,098\n",
      "================================================================\n",
      "Total params: 63,833,058\n",
      "Trainable params: 63,833,058\n",
      "Non-trainable params: 0\n",
      "----------------------------------------------------------------\n",
      "Input size (MB): 0.56\n",
      "Forward/backward pass size (MB): 1244.28\n",
      "Params size (MB): 243.50\n",
      "Estimated Total Size (MB): 1488.35\n",
      "----------------------------------------------------------------\n"
     ]
    }
   ],
   "source": [
    "from torchsummary import summary\n",
    "model = EfficientNet.from_pretrained('efficientnet-b7', num_classes=18) # b0~b8호출 가능, 학습시키는 데이터에 대한 num_classes\n",
    "                                                                        #gpu memory가 8g 아래면 b3을 추천\n",
    "model.to(device)\n",
    "summary(model, input_size=(3,256,192))"
   ]
  },
  {
   "cell_type": "code",
   "execution_count": 11,
   "metadata": {},
   "outputs": [
    {
     "name": "stdout",
     "output_type": "stream",
     "text": [
      "입력 채널 개수 3\n",
      "출력 채널(예측 class type 개수) 18\n"
     ]
    }
   ],
   "source": [
    "print(\"입력 채널 개수\", model._conv_stem.weight.shape[1])\n",
    "print(\"출력 채널(예측 class type 개수)\", model._fc.weight.shape[0])"
   ]
  },
  {
   "cell_type": "code",
   "execution_count": 12,
   "metadata": {},
   "outputs": [],
   "source": [
    "learning_rate = 0.0001\n",
    "num_epoch = 9\n",
    "loss_fn = torch.nn.CrossEntropyLoss()\n",
    "optimizer = torch.optim.Adam(model.parameters(), lr=learning_rate)\n",
    "scheduler = torch.optim.lr_scheduler.ReduceLROnPlateau(optimizer,'min') \n",
    "# ReduceLROnPlateau: val_loss가 향상되지 않고 정체되어 있으면 learning rate를 factor배로 감소시킴(factor 디폴트값:0.1)\n",
    "# 'min' mode에서는 val_loss가 감소를 멈줬을 때 감소, 'max' mode에서는 val_loss가 증가를 멈췄을 때 감소 (mode 디폴트값:'min')"
   ]
  },
  {
   "cell_type": "code",
   "execution_count": 13,
   "metadata": {},
   "outputs": [
    {
     "data": {
      "application/vnd.jupyter.widget-view+json": {
       "model_id": "fff4793b46ae493a80b2bd8dc38a2897",
       "version_major": 2,
       "version_minor": 0
      },
      "text/plain": [
       "HBox(children=(HTML(value=''), FloatProgress(value=0.0, max=473.0), HTML(value='')))"
      ]
     },
     "metadata": {},
     "output_type": "display_data"
    },
    {
     "name": "stdout",
     "output_type": "stream",
     "text": [
      "\n"
     ]
    },
    {
     "data": {
      "application/vnd.jupyter.widget-view+json": {
       "model_id": "1d13644adb4c4e378fd99247bfe91c1d",
       "version_major": 2,
       "version_minor": 0
      },
      "text/plain": [
       "HBox(children=(HTML(value=''), FloatProgress(value=0.0, max=119.0), HTML(value='')))"
      ]
     },
     "metadata": {},
     "output_type": "display_data"
    },
    {
     "name": "stdout",
     "output_type": "stream",
     "text": [
      "\n",
      "epoch-0의 val-데이터 평균 Loss : 0.296, 평균 Accuracy : 0.896, 평균 f1:0.8213277139288462\n"
     ]
    },
    {
     "data": {
      "application/vnd.jupyter.widget-view+json": {
       "model_id": "84493c5677d74e4c972324a8a8426847",
       "version_major": 2,
       "version_minor": 0
      },
      "text/plain": [
       "HBox(children=(HTML(value=''), FloatProgress(value=0.0, max=473.0), HTML(value='')))"
      ]
     },
     "metadata": {},
     "output_type": "display_data"
    },
    {
     "name": "stdout",
     "output_type": "stream",
     "text": [
      "\n"
     ]
    },
    {
     "data": {
      "application/vnd.jupyter.widget-view+json": {
       "model_id": "7300c340d92e4d9a8b024d2eda158893",
       "version_major": 2,
       "version_minor": 0
      },
      "text/plain": [
       "HBox(children=(HTML(value=''), FloatProgress(value=0.0, max=119.0), HTML(value='')))"
      ]
     },
     "metadata": {},
     "output_type": "display_data"
    },
    {
     "name": "stdout",
     "output_type": "stream",
     "text": [
      "\n",
      "epoch-1의 val-데이터 평균 Loss : 0.346, 평균 Accuracy : 0.891, 평균 f1:0.7970813934848014\n"
     ]
    },
    {
     "data": {
      "application/vnd.jupyter.widget-view+json": {
       "model_id": "42a73266fcbe4b70b74a2a129c87125d",
       "version_major": 2,
       "version_minor": 0
      },
      "text/plain": [
       "HBox(children=(HTML(value=''), FloatProgress(value=0.0, max=473.0), HTML(value='')))"
      ]
     },
     "metadata": {},
     "output_type": "display_data"
    },
    {
     "name": "stdout",
     "output_type": "stream",
     "text": [
      "\n"
     ]
    },
    {
     "data": {
      "application/vnd.jupyter.widget-view+json": {
       "model_id": "a733f9799d284c648b696ff68f9ae1c6",
       "version_major": 2,
       "version_minor": 0
      },
      "text/plain": [
       "HBox(children=(HTML(value=''), FloatProgress(value=0.0, max=119.0), HTML(value='')))"
      ]
     },
     "metadata": {},
     "output_type": "display_data"
    },
    {
     "name": "stdout",
     "output_type": "stream",
     "text": [
      "\n",
      "epoch-2의 val-데이터 평균 Loss : 0.364, 평균 Accuracy : 0.903, 평균 f1:0.803766459357486\n"
     ]
    },
    {
     "data": {
      "application/vnd.jupyter.widget-view+json": {
       "model_id": "397e04ce6fd94fdda490f111ccfec2db",
       "version_major": 2,
       "version_minor": 0
      },
      "text/plain": [
       "HBox(children=(HTML(value=''), FloatProgress(value=0.0, max=473.0), HTML(value='')))"
      ]
     },
     "metadata": {},
     "output_type": "display_data"
    },
    {
     "name": "stdout",
     "output_type": "stream",
     "text": [
      "\n"
     ]
    },
    {
     "data": {
      "application/vnd.jupyter.widget-view+json": {
       "model_id": "74603476284a44a69beeceb51d0d6592",
       "version_major": 2,
       "version_minor": 0
      },
      "text/plain": [
       "HBox(children=(HTML(value=''), FloatProgress(value=0.0, max=119.0), HTML(value='')))"
      ]
     },
     "metadata": {},
     "output_type": "display_data"
    },
    {
     "name": "stdout",
     "output_type": "stream",
     "text": [
      "\n",
      "epoch-3의 val-데이터 평균 Loss : 0.411, 평균 Accuracy : 0.898, 평균 f1:0.8173924053452928\n"
     ]
    },
    {
     "data": {
      "application/vnd.jupyter.widget-view+json": {
       "model_id": "0e17f807f8284d4b8de8649a4ee069f3",
       "version_major": 2,
       "version_minor": 0
      },
      "text/plain": [
       "HBox(children=(HTML(value=''), FloatProgress(value=0.0, max=473.0), HTML(value='')))"
      ]
     },
     "metadata": {},
     "output_type": "display_data"
    },
    {
     "name": "stdout",
     "output_type": "stream",
     "text": [
      "\n"
     ]
    },
    {
     "data": {
      "application/vnd.jupyter.widget-view+json": {
       "model_id": "a5acb2c0962a4a108c0996a6409bb293",
       "version_major": 2,
       "version_minor": 0
      },
      "text/plain": [
       "HBox(children=(HTML(value=''), FloatProgress(value=0.0, max=119.0), HTML(value='')))"
      ]
     },
     "metadata": {},
     "output_type": "display_data"
    },
    {
     "name": "stdout",
     "output_type": "stream",
     "text": [
      "\n",
      "epoch-4의 val-데이터 평균 Loss : 0.459, 평균 Accuracy : 0.902, 평균 f1:0.8249578469222582\n"
     ]
    },
    {
     "data": {
      "application/vnd.jupyter.widget-view+json": {
       "model_id": "6613e0296ce44405bb7575cdb93de118",
       "version_major": 2,
       "version_minor": 0
      },
      "text/plain": [
       "HBox(children=(HTML(value=''), FloatProgress(value=0.0, max=473.0), HTML(value='')))"
      ]
     },
     "metadata": {},
     "output_type": "display_data"
    },
    {
     "name": "stdout",
     "output_type": "stream",
     "text": [
      "\n"
     ]
    },
    {
     "data": {
      "application/vnd.jupyter.widget-view+json": {
       "model_id": "04bf7385aaff4538be0b4b31f4cc023b",
       "version_major": 2,
       "version_minor": 0
      },
      "text/plain": [
       "HBox(children=(HTML(value=''), FloatProgress(value=0.0, max=119.0), HTML(value='')))"
      ]
     },
     "metadata": {},
     "output_type": "display_data"
    },
    {
     "name": "stdout",
     "output_type": "stream",
     "text": [
      "\n",
      "epoch-5의 val-데이터 평균 Loss : 0.444, 평균 Accuracy : 0.899, 평균 f1:0.8217331083798449\n"
     ]
    },
    {
     "data": {
      "application/vnd.jupyter.widget-view+json": {
       "model_id": "59e5d46f7da943b581d55ceec9146c4b",
       "version_major": 2,
       "version_minor": 0
      },
      "text/plain": [
       "HBox(children=(HTML(value=''), FloatProgress(value=0.0, max=473.0), HTML(value='')))"
      ]
     },
     "metadata": {},
     "output_type": "display_data"
    },
    {
     "name": "stdout",
     "output_type": "stream",
     "text": [
      "\n"
     ]
    },
    {
     "data": {
      "application/vnd.jupyter.widget-view+json": {
       "model_id": "1b2bc33e045842c39a838bb44d26c575",
       "version_major": 2,
       "version_minor": 0
      },
      "text/plain": [
       "HBox(children=(HTML(value=''), FloatProgress(value=0.0, max=119.0), HTML(value='')))"
      ]
     },
     "metadata": {},
     "output_type": "display_data"
    },
    {
     "name": "stdout",
     "output_type": "stream",
     "text": [
      "\n",
      "epoch-6의 val-데이터 평균 Loss : 0.485, 평균 Accuracy : 0.895, 평균 f1:0.793459395466976\n"
     ]
    },
    {
     "data": {
      "application/vnd.jupyter.widget-view+json": {
       "model_id": "f8710167362949d1b30fef873937105e",
       "version_major": 2,
       "version_minor": 0
      },
      "text/plain": [
       "HBox(children=(HTML(value=''), FloatProgress(value=0.0, max=473.0), HTML(value='')))"
      ]
     },
     "metadata": {},
     "output_type": "display_data"
    },
    {
     "name": "stdout",
     "output_type": "stream",
     "text": [
      "\n"
     ]
    },
    {
     "data": {
      "application/vnd.jupyter.widget-view+json": {
       "model_id": "20ec54bb4f6e4fe19dd8b0a6185354cd",
       "version_major": 2,
       "version_minor": 0
      },
      "text/plain": [
       "HBox(children=(HTML(value=''), FloatProgress(value=0.0, max=119.0), HTML(value='')))"
      ]
     },
     "metadata": {},
     "output_type": "display_data"
    },
    {
     "name": "stdout",
     "output_type": "stream",
     "text": [
      "\n",
      "epoch-7의 val-데이터 평균 Loss : 0.594, 평균 Accuracy : 0.879, 평균 f1:0.776898050820034\n"
     ]
    },
    {
     "data": {
      "application/vnd.jupyter.widget-view+json": {
       "model_id": "9551ddfaf7554d8abea3c39e1c72367b",
       "version_major": 2,
       "version_minor": 0
      },
      "text/plain": [
       "HBox(children=(HTML(value=''), FloatProgress(value=0.0, max=473.0), HTML(value='')))"
      ]
     },
     "metadata": {},
     "output_type": "display_data"
    },
    {
     "name": "stdout",
     "output_type": "stream",
     "text": [
      "\n"
     ]
    },
    {
     "data": {
      "application/vnd.jupyter.widget-view+json": {
       "model_id": "449dffcee71740f189bb3730b30e19b8",
       "version_major": 2,
       "version_minor": 0
      },
      "text/plain": [
       "HBox(children=(HTML(value=''), FloatProgress(value=0.0, max=119.0), HTML(value='')))"
      ]
     },
     "metadata": {},
     "output_type": "display_data"
    },
    {
     "name": "stdout",
     "output_type": "stream",
     "text": [
      "\n",
      "epoch-8의 val-데이터 평균 Loss : 0.482, 평균 Accuracy : 0.897, 평균 f1:0.8100778099722625\n",
      "학습 종료!\n",
      "최고 accuracy : 0.903175, 최고 낮은 loss : 0.296088\n"
     ]
    }
   ],
   "source": [
    "best_val_accuracy = 0.\n",
    "best_val_loss = 9999.\n",
    "\n",
    "torch.cuda.empty_cache()\n",
    "\n",
    "for epoch in range(num_epoch):\n",
    "    for phase in [\"train\", \"val\"]:\n",
    "        running_loss = 0.\n",
    "        running_acc = 0.\n",
    "        n_iter = 0\n",
    "        epoch_f1 = 0\n",
    "        if  phase == \"val\":\n",
    "            confusion_matrix = np.zeros((18, 18))\n",
    "\n",
    "        if phase == \"train\":\n",
    "            model.train()\n",
    "        elif phase == \"val\":\n",
    "            model.eval()\n",
    "\n",
    "        for ind, data in enumerate(tqdm(loader[phase])):\n",
    "            try:\n",
    "                images = data[0].to(device)\n",
    "                labels = data[1].to(device)\n",
    "\n",
    "                optimizer.zero_grad() # parameter gradient를 업데이트 전 초기화함\n",
    "\n",
    "                with torch.set_grad_enabled(phase == \"train\"): # train 모드일 시에는 gradient를 계산\n",
    "                    logits = model(images)\n",
    "                    _, preds = torch.max(logits, 1)\n",
    "                    loss = loss_fn(logits, labels)\n",
    "\n",
    "                    if phase == \"train\":\n",
    "                        loss.backward() \n",
    "                        optimizer.step()\n",
    "                # Metrics 계산 부분 ==============================================================================\n",
    "                epoch_f1 += f1_score(labels.cpu().numpy(), preds.cpu().numpy(), average='macro')\n",
    "                n_iter += 1\n",
    "                if  phase == \"val\":\n",
    "                    for t, p in zip(labels.view(-1), preds.view(-1)): # confusion matrix에 값 입력, 언제가 최적일 지 몰라 매 epoch돌아감\n",
    "                        confusion_matrix[t.long(), p.long()] += 1    \n",
    "                running_loss += loss.item() * images.size(0) # 한 Batch에서의 loss 값, images.size(0) = batch size\n",
    "                running_acc += torch.sum(preds == labels.data) # 한 Batch에서의 Accuracy 값\n",
    "            except:\n",
    "                continue\n",
    "            \n",
    "            \n",
    "    # 한 epoch이 모두 종료\n",
    "    epoch_loss = running_loss / len(loader[phase].dataset)\n",
    "    epoch_acc = running_acc / len(loader[phase].dataset)\n",
    "    epoch_f1 = epoch_f1/n_iter\n",
    "\n",
    "    print(f\"epoch-{epoch}의 {phase}-데이터 평균 Loss : {epoch_loss:.3f}, 평균 Accuracy : {epoch_acc:.3f}, 평균 f1:{epoch_f1}\")\n",
    "    if phase == \"val\" and best_val_accuracy < epoch_acc: \n",
    "        best_val_accuracy = epoch_acc\n",
    "    if phase == \"val\" and best_val_loss > epoch_loss: \n",
    "        best_val_loss = epoch_loss\n",
    "print(\"학습 종료!\")\n",
    "print(f\"최고 accuracy : {best_val_accuracy:3f}, 최고 낮은 loss : {best_val_loss:3f}\")"
   ]
  },
  {
   "cell_type": "code",
   "execution_count": 14,
   "metadata": {},
   "outputs": [
    {
     "name": "stdout",
     "output_type": "stream",
     "text": [
      "Requirement already satisfied: datetime in /opt/conda/lib/python3.8/site-packages (4.4)\n",
      "Requirement already satisfied: pytz in /opt/conda/lib/python3.8/site-packages (from datetime) (2020.5)\n",
      "Requirement already satisfied: zope.interface in /opt/conda/lib/python3.8/site-packages (from datetime) (5.4.0)\n",
      "Requirement already satisfied: setuptools in /opt/conda/lib/python3.8/site-packages (from zope.interface->datetime) (50.3.1.post20201107)\n",
      "\u001b[33mWARNING: Running pip as the 'root' user can result in broken permissions and conflicting behaviour with the system package manager. It is recommended to use a virtual environment instead: https://pip.pypa.io/warnings/venv\u001b[0m\u001b[33m\n",
      "\u001b[0m"
     ]
    }
   ],
   "source": [
    "!pip install datetime"
   ]
  },
  {
   "cell_type": "code",
   "execution_count": 16,
   "metadata": {},
   "outputs": [],
   "source": [
    "# 파일을 저장\n",
    "from pytz import timezone\n",
    "import datetime as dt\n",
    "\n",
    "now = (dt.datetime.now().astimezone(timezone(\"Asia/Seoul\")).strftime(\"%Y-%m-%d-%H-%M\"))\n",
    "#now\n",
    "torch.save(model,f\"/opt/ml/tmp/save_model/{now}.pth\")"
   ]
  },
  {
   "cell_type": "code",
   "execution_count": 17,
   "metadata": {},
   "outputs": [],
   "source": [
    "now = (dt.datetime.now().astimezone(timezone(\"Asia/Seoul\")).strftime(\"%Y-%m-%d-%H-%M\"))\n",
    "model = torch.load(f'/opt/ml/tmp/save_model/{now}.pth')"
   ]
  },
  {
   "cell_type": "code",
   "execution_count": 18,
   "metadata": {},
   "outputs": [],
   "source": [
    "class TestDataset(Dataset):\n",
    "    def __init__(self, img_paths, transform):\n",
    "        self.img_paths = img_paths\n",
    "        self.transform = transform\n",
    "\n",
    "    def __getitem__(self, index):\n",
    "        image = Image.open(self.img_paths[index])\n",
    "\n",
    "        if self.transform:\n",
    "            image = self.transform(image)\n",
    "        return image\n",
    "\n",
    "    def __len__(self):\n",
    "        return len(self.img_paths)"
   ]
  },
  {
   "cell_type": "code",
   "execution_count": 20,
   "metadata": {},
   "outputs": [],
   "source": [
    "test_dir = '/opt/ml/input/data/eval'\n",
    "submission = pd.read_csv(os.path.join(test_dir, 'info.csv'))\n",
    "image_dir = os.path.join(test_dir, 'images')\n",
    "image_paths = [os.path.join(image_dir, img_id) for img_id in submission.ImageID]\n",
    "\n",
    "transform = transforms.Compose([\n",
    "            Resize((int(224), int(224))),\n",
    "            ToTensor(),\n",
    "            #Normalize(mean=mean, std=std),\n",
    "        ])\n",
    "dataset = TestDataset(image_paths, transform)\n",
    "loader = DataLoader(\n",
    "    dataset,\n",
    "    shuffle=False\n",
    ")"
   ]
  },
  {
   "cell_type": "code",
   "execution_count": 21,
   "metadata": {},
   "outputs": [],
   "source": [
    "# 모델을 정의합니다. (학습한 모델이 있다면 torch.load로 모델을 불러주세요!)\n",
    "device = torch.device('cuda')\n",
    "model = model.to(device)\n",
    "model.eval()\n",
    "\n",
    "all_predictions = []\n",
    "for images in loader:\n",
    "    with torch.no_grad():\n",
    "        images = images.to(device)\n",
    "        pred = model(images)\n",
    "        pred = pred.argmax(dim=-1)\n",
    "        all_predictions.extend(pred.cpu().numpy())\n",
    "submission['ans'] = all_predictions"
   ]
  },
  {
   "cell_type": "code",
   "execution_count": 23,
   "metadata": {},
   "outputs": [
    {
     "name": "stdout",
     "output_type": "stream",
     "text": [
      "test inference is done!\n"
     ]
    }
   ],
   "source": [
    "submission.to_csv(f'/opt/ml/tmp/submission/b7customsubmission.csv', index=False)\n",
    "print('test inference is done!')"
   ]
  },
  {
   "cell_type": "code",
   "execution_count": null,
   "metadata": {},
   "outputs": [],
   "source": []
  }
 ],
 "metadata": {
  "interpreter": {
   "hash": "d4d1e4263499bec80672ea0156c357c1ee493ec2b1c70f0acce89fc37c4a6abe"
  },
  "kernelspec": {
   "display_name": "Python 3.8.5 ('base')",
   "language": "python",
   "name": "python3"
  },
  "language_info": {
   "codemirror_mode": {
    "name": "ipython",
    "version": 3
   },
   "file_extension": ".py",
   "mimetype": "text/x-python",
   "name": "python",
   "nbconvert_exporter": "python",
   "pygments_lexer": "ipython3",
   "version": "3.8.5"
  },
  "orig_nbformat": 4
 },
 "nbformat": 4,
 "nbformat_minor": 2
}
