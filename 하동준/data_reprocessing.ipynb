{
 "cells": [
  {
   "cell_type": "code",
   "execution_count": null,
   "id": "1baaadb3-fbf8-46f0-afb1-36cf5e4ff67d",
   "metadata": {},
   "outputs": [],
   "source": [
    "# https://aistages-prod-server-public.s3.amazonaws.com/app/Competitions/000102/data/train.tar.gz\n",
    "# https://aistages-prod-server-public.s3.amazonaws.com/app/Competitions/000102/data/code.tar.gz\n",
    "\n",
    "# download link"
   ]
  },
  {
   "cell_type": "code",
   "execution_count": 26,
   "id": "31b2729b-92eb-4236-9511-51f5520f328c",
   "metadata": {},
   "outputs": [],
   "source": [
    "import pandas as pd\n",
    "import numpy as np\n",
    "import matplotlib as mpl\n",
    "import matplotlib.pyplot as plt\n",
    "import seaborn as sns\n",
    "from PIL import Image\n",
    "import os\n",
    "import glob\n"
   ]
  },
  {
   "cell_type": "code",
   "execution_count": 27,
   "id": "736952ee-e30d-4227-aad8-c33f35905af2",
   "metadata": {},
   "outputs": [],
   "source": [
    "train = pd.read_csv('input/data/train/train.csv')\n",
    "# train"
   ]
  },
  {
   "cell_type": "code",
   "execution_count": 28,
   "id": "54d1961c-a91e-43d9-ae09-2a6e202cb328",
   "metadata": {},
   "outputs": [],
   "source": [
    "f_path = list(train['path'])\n",
    "# 폴더이름 리스트화\n",
    "img_root = 'input/data/train/images/'"
   ]
  },
  {
   "cell_type": "code",
   "execution_count": 29,
   "id": "119fa0f3-d1ef-464e-85ef-82ba3be2eb3f",
   "metadata": {},
   "outputs": [],
   "source": [
    "# 폴더 생성\n",
    "tmp = 'data_gz/image_labeled/'\n",
    "for i in range(18):\n",
    "#     print(tmp + str(i))\n",
    "    try:\n",
    "        if not os.path.exists(tmp + 'class_' + str(i)):\n",
    "            os.makedirs(tmp + 'class_' + str(i))\n",
    "    except OSError:\n",
    "        print('Error: Creating directory.')\n",
    "\n",
    "        \n"
   ]
  },
  {
   "cell_type": "code",
   "execution_count": 30,
   "id": "6b98ce04-01e3-4b85-8cee-9a6f3e501db2",
   "metadata": {},
   "outputs": [],
   "source": [
    "# 분류 룰\n",
    "def classify_rule(path, name):\n",
    "    features = path.split('_')\n",
    "#     id|gender|race|age \n",
    "    result = -1\n",
    "    \n",
    "#     wear\n",
    "    if(name[0] == 'm'):\n",
    "        if(features[1] == 'male'):\n",
    "            if(int(features[3]) < 30):\n",
    "                result=0\n",
    "                \n",
    "            if(30 <= int(features[3]) and int(features[3]) < 60):\n",
    "                result=1\n",
    "\n",
    "            if(int(features[3]) >= 60):\n",
    "                result=2\n",
    "            \n",
    "        if(features[1] == 'female'):\n",
    "            if(int(features[3]) < 30):\n",
    "                result=3\n",
    "                \n",
    "            if(30 <= int(features[3]) and int(features[3]) < 60):\n",
    "                result=4\n",
    "\n",
    "            if(int(features[3]) >= 60):\n",
    "                result=5\n",
    "\n",
    "#     incorrect\n",
    "    if(name[0] == 'i'):\n",
    "        if(features[1] == 'male'):\n",
    "            if(int(features[3]) < 30):\n",
    "                result=6\n",
    "                \n",
    "            if(30 <= int(features[3]) and int(features[3]) < 60):\n",
    "                result=7\n",
    "\n",
    "            if(int(features[3]) >= 60):\n",
    "                result=8\n",
    "            \n",
    "        if(features[1] == 'female'):\n",
    "            if(int(features[3]) < 30):\n",
    "                result=9\n",
    "                \n",
    "            if(30 <= int(features[3]) and int(features[3]) < 60):\n",
    "                result=10\n",
    "\n",
    "            if(int(features[3]) >= 60):\n",
    "                result=11\n",
    "    \n",
    "#     not wear\n",
    "    if(name[0] == 'n'):\n",
    "        if(features[1] == 'male'):\n",
    "            if(int(features[3]) < 30):\n",
    "                result=12\n",
    "                \n",
    "            if(30 <= int(features[3]) and int(features[3]) < 60):\n",
    "                result=13\n",
    "\n",
    "            if(int(features[3]) >= 60):\n",
    "                result=14\n",
    "            \n",
    "        if(features[1] == 'female'):\n",
    "            if(int(features[3]) < 30):\n",
    "                result=15\n",
    "                \n",
    "            if(30 <= int(features[3]) and int(features[3]) < 60):\n",
    "                result=16\n",
    "\n",
    "            if(int(features[3]) >= 60):\n",
    "                result=17\n",
    "                \n",
    "    return result\n",
    "        \n",
    "\n",
    "    "
   ]
  },
  {
   "cell_type": "code",
   "execution_count": 35,
   "id": "3f28a302-14c8-4108-b580-6b77539d33b4",
   "metadata": {},
   "outputs": [],
   "source": [
    "#폴더 지우기\n",
    "\n",
    "# for i in range(5000):\n",
    "#     if os.path.exists(str(i)+'.jpg'):\n",
    "#         os.remove(str(i)+'.jpg')"
   ]
  },
  {
   "cell_type": "code",
   "execution_count": 36,
   "id": "e61b0110-a246-4f09-8e07-860cba257d01",
   "metadata": {},
   "outputs": [],
   "source": [
    "# main code\n",
    "format_list = ['m', 'i', 'n']\n",
    "idx=0\n",
    "for i in f_path:\n",
    "    a_folder = img_root + i\n",
    "    files = os.listdir(a_folder)\n",
    "    for file in files:\n",
    "        for f in format_list:\n",
    "            if(file[0] == f):\n",
    "                basket_num = classify_rule(path = i, name = file)\n",
    "#                 print(basket_num)\n",
    "                img = Image.open(a_folder + '/' + file)\n",
    "                img.save(tmp + 'class_' + str(basket_num) + '/' + str(idx)+'.jpg')\n",
    "                idx += 1\n",
    "    \n"
   ]
  },
  {
   "cell_type": "code",
   "execution_count": null,
   "id": "acb98418-9220-42f5-a7b0-3c3f3118c7b3",
   "metadata": {},
   "outputs": [],
   "source": []
  }
 ],
 "metadata": {
  "kernelspec": {
   "display_name": "Python 3 (ipykernel)",
   "language": "python",
   "name": "python3"
  },
  "language_info": {
   "codemirror_mode": {
    "name": "ipython",
    "version": 3
   },
   "file_extension": ".py",
   "mimetype": "text/x-python",
   "name": "python",
   "nbconvert_exporter": "python",
   "pygments_lexer": "ipython3",
   "version": "3.8.5"
  }
 },
 "nbformat": 4,
 "nbformat_minor": 5
}
