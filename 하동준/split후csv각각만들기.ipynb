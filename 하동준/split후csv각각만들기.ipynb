{
 "cells": [
  {
   "cell_type": "code",
   "execution_count": 1,
   "metadata": {},
   "outputs": [],
   "source": [
    "import gc\n",
    "import torch\n",
    "\n",
    "gc.collect()\n",
    "torch.cuda.empty_cache()"
   ]
  },
  {
   "cell_type": "code",
   "execution_count": 2,
   "metadata": {},
   "outputs": [],
   "source": [
    "import os\n",
    "import pandas as pd\n",
    "from PIL import Image\n",
    "\n",
    "import torch\n",
    "import torch.nn as nn\n",
    "import torch.nn.functional as F\n",
    "from torch.utils.data import Dataset, DataLoader\n",
    "\n",
    "from torchvision.transforms import Resize, ToTensor, Normalize\n",
    "\n",
    "from tqdm import tqdm"
   ]
  },
  {
   "cell_type": "code",
   "execution_count": 3,
   "metadata": {},
   "outputs": [],
   "source": [
    "import sys\n",
    "import gzip\n",
    "import random\n",
    "import platform\n",
    "import warnings\n",
    "import collections\n",
    "\n",
    "import re\n",
    "import requests\n",
    "import numpy as np\n",
    "import matplotlib as mpl\n",
    "import matplotlib.pyplot as plt\n",
    "\n",
    "import torchvision\n",
    "import torch.optim as optim\n",
    "from torchvision import transforms, utils\n",
    "\n",
    "from torch.utils.data import Dataset, DataLoader, random_split, SubsetRandomSampler, WeightedRandomSampler\n",
    "from torchvision.transforms.functional import to_pil_image\n"
   ]
  },
  {
   "cell_type": "markdown",
   "metadata": {},
   "source": [
    "# Train 과 Val split 해서 각자의 labeled된 csv 생성"
   ]
  },
  {
   "cell_type": "code",
   "execution_count": 4,
   "metadata": {},
   "outputs": [],
   "source": [
    "import pandas as pd\n",
    "import numpy as np\n",
    "import matplotlib as mpl\n",
    "import matplotlib.pyplot as plt\n",
    "import seaborn as sns\n",
    "from PIL import Image\n",
    "import os\n",
    "import glob\n",
    "from tqdm import tqdm\n",
    "\n",
    "import pandas as pd\n",
    "import numpy as np\n",
    "import matplotlib as mpl\n",
    "import matplotlib.pyplot as plt\n",
    "import seaborn as sns\n",
    "from PIL import Image\n",
    "import os\n",
    "import glob\n",
    "from tqdm import tqdm"
   ]
  },
  {
   "cell_type": "code",
   "execution_count": 5,
   "metadata": {},
   "outputs": [],
   "source": [
    "def makeLabeling(pd,idx,name):\n",
    "    if name == 'mask':\n",
    "        if pd['gender'][idx] == 'male':\n",
    "            if pd['age'][idx] < 30: return 0\n",
    "            elif 30 <= pd['age'][idx] < 60: return 1\n",
    "            else: return 2\n",
    "        else:\n",
    "            if pd['age'][idx] < 30: return 3\n",
    "            elif 30 <= pd['age'][idx] < 60: return 4\n",
    "            else: return 5\n",
    "    elif name == 'incorrect':\n",
    "        if pd['gender'][idx] == 'male':\n",
    "            if pd['age'][idx] < 30: return 6\n",
    "            elif 30 <= pd['age'][idx] < 60: return 7\n",
    "            else: return 8\n",
    "        else:\n",
    "            if pd['age'][idx] < 30: return 9\n",
    "            elif 30 <= pd['age'][idx] < 60: return 10\n",
    "            else: return 11\n",
    "    else:\n",
    "        if pd['gender'][idx] == 'male':\n",
    "            if pd['age'][idx] < 30: return 12\n",
    "            elif 30 <= pd['age'][idx] < 60: return 13\n",
    "            else: return 14\n",
    "        else:\n",
    "            if pd['age'][idx] < 30: return 15\n",
    "            elif 30 <= pd['age'][idx] < 60: return 16\n",
    "            else: return 17"
   ]
  },
  {
   "cell_type": "code",
   "execution_count": 24,
   "metadata": {},
   "outputs": [
    {
     "name": "stdout",
     "output_type": "stream",
     "text": [
      "540\n",
      "2160\n"
     ]
    }
   ],
   "source": [
    "train_csv = pd.read_csv('/opt/ml/input/data/train/train.csv')\n",
    "\n",
    "\n",
    "# val train split 할 기준 세우기\n",
    "import random\n",
    "total = list(range(2700))\n",
    "validx = random.sample(total,int(2700*0.2))\n",
    "validx.sort()\n",
    "print(len(validx))\n",
    "trainidx = total\n",
    "for i in validx:\n",
    "    trainidx.remove(i)\n",
    "print(len(trainidx))"
   ]
  },
  {
   "cell_type": "code",
   "execution_count": 27,
   "metadata": {},
   "outputs": [
    {
     "name": "stdout",
     "output_type": "stream",
     "text": [
      "id: 9290\n",
      "path: 9290\n",
      "file_name: 9290\n",
      "absolute_path: 9290\n",
      "label: 9290\n"
     ]
    }
   ],
   "source": [
    "v_file_dict = {k:[] for k in ['id','path','file_name','absolute_path','label']}\n",
    "\n",
    "IMAGE_PATH = '/opt/ml/input/data/train/images'\n",
    "\n",
    "# val_img_label\n",
    "for i in validx:\n",
    "    total_path = os.path.join(IMAGE_PATH,str(train_csv['path'][i]))\n",
    "    for file_name in os.listdir(total_path):\n",
    "        # 확장자 제거, 이름만 가져오기\n",
    "        fn_split = file_name.split(\".\")\n",
    "        if len(fn_split[0]) == 0: \n",
    "            continue\n",
    "        name = re.findall(\"[a-z]+\",fn_split[0])[0]\n",
    "        \n",
    "        # labeling\n",
    "        label = makeLabeling(train_csv,i,name)\n",
    "        v_file_dict['id'].append(train_csv['id'][i])\n",
    "        v_file_dict['file_name'].append(file_name)\n",
    "        v_file_dict['path'].append(train_csv['path'][i])\n",
    "        v_file_dict['absolute_path'].append(os.path.join(total_path,file_name))\n",
    "        v_file_dict['label'].append(label)\n",
    "\n",
    "for k in v_file_dict:\n",
    "    print(f\"{k}: {len(v_file_dict[k])}\")\n"
   ]
  },
  {
   "cell_type": "code",
   "execution_count": 28,
   "metadata": {},
   "outputs": [],
   "source": [
    "image_label = pd.DataFrame(v_file_dict)\n",
    "np.unique(image_label['label'])\n",
    "image_label.to_csv('val_image_label.csv',index=False)"
   ]
  },
  {
   "cell_type": "code",
   "execution_count": 8,
   "metadata": {},
   "outputs": [],
   "source": [
    "#아래부터는 train csv 만드는 과정"
   ]
  },
  {
   "cell_type": "code",
   "execution_count": 29,
   "metadata": {},
   "outputs": [
    {
     "name": "stdout",
     "output_type": "stream",
     "text": [
      "id: 37236\n",
      "path: 37236\n",
      "file_name: 37236\n",
      "absolute_path: 37236\n",
      "label: 37236\n"
     ]
    }
   ],
   "source": [
    "t_file_dict = {k:[] for k in ['id','path','file_name','absolute_path','label']}\n",
    "\n",
    "IMAGE_PATH = '/opt/ml/input/data/train/images'\n",
    "\n",
    "# val_img_label\n",
    "for i in trainidx:\n",
    "    total_path = os.path.join(IMAGE_PATH,str(train_csv['path'][i]))\n",
    "    for file_name in os.listdir(total_path):\n",
    "        # 확장자 제거, 이름만 가져오기\n",
    "        fn_split = file_name.split(\".\")\n",
    "        if len(fn_split[0]) == 0: \n",
    "            continue\n",
    "        name = re.findall(\"[a-z]+\",fn_split[0])[0]\n",
    "        \n",
    "        # labeling\n",
    "        label = makeLabeling(train_csv,i,name)\n",
    "        t_file_dict['id'].append(train_csv['id'][i])\n",
    "        t_file_dict['file_name'].append(file_name)\n",
    "        t_file_dict['path'].append(train_csv['path'][i])\n",
    "        t_file_dict['absolute_path'].append(os.path.join(total_path,file_name))\n",
    "        t_file_dict['label'].append(label)\n",
    "\n",
    "for k in t_file_dict:\n",
    "    print(f\"{k}: {len(t_file_dict[k])}\")\n"
   ]
  },
  {
   "cell_type": "code",
   "execution_count": 30,
   "metadata": {},
   "outputs": [],
   "source": [
    "image_label = pd.DataFrame(t_file_dict)\n",
    "np.unique(image_label['label'])\n",
    "image_label.to_csv('train_image_label.csv',index=False)"
   ]
  },
  {
   "cell_type": "markdown",
   "metadata": {},
   "source": [
    "# 생성된 csv 라벨 개수 비교"
   ]
  },
  {
   "cell_type": "code",
   "execution_count": 31,
   "metadata": {},
   "outputs": [
    {
     "name": "stdout",
     "output_type": "stream",
     "text": [
      "val 개수, train 개수 =  9290 37236\n",
      "\n",
      "label 비율\n",
      "----------------------\n",
      "[0.11141011840688912, 0.08503767491926803, 0.045748116254036596, 0.15231431646932186, 0.17330462863293863, 0.06189451022604951, 0.03240043057050592, 0.025511302475780408, 0.012809472551130248, 0.04510226049515608, 0.051991388589881594, 0.017330462863293865, 0.03240043057050592, 0.025511302475780408, 0.012809472551130248, 0.04510226049515608, 0.051991388589881594, 0.017330462863293865]\n",
      "----------------------\n",
      "[0.11102159200773445, 0.08942958427328392, 0.04632613599742185, 0.15197658180255666, 0.17402513696422817, 0.056397035127296165, 0.03246857879471479, 0.026828875281985177, 0.012971318079278118, 0.04514448383284993, 0.05220754108926845, 0.015791169835642927, 0.03246857879471479, 0.026828875281985177, 0.012971318079278118, 0.04514448383284993, 0.05220754108926845, 0.015791169835642927]\n"
     ]
    }
   ],
   "source": [
    "read_val = pd.read_csv('/opt/ml/my_augmentation/val_image_label.csv')\n",
    "read_train = pd.read_csv('/opt/ml/my_augmentation/train_image_label.csv')\n",
    "\n",
    "val_label = list(read_val['label'])\n",
    "train_label = list(read_train['label'])\n",
    "\n",
    "v_lab_count = [0 for i in range(18)]\n",
    "t_lab_count = [0 for i in range(18)]\n",
    "# 퍼센트로 변경\n",
    "v_lab_per = [0 for i in range(18)]\n",
    "t_lab_per = [0 for i in range(18)]\n",
    "\n",
    "for i in val_label:\n",
    "    v_lab_count[int(i)] += 1\n",
    "\n",
    "for i, j in enumerate(v_lab_count):\n",
    "    v_lab_per[i] = j/len(val_label)\n",
    "    \n",
    "for i in train_label:\n",
    "    t_lab_count[int(i)] += 1\n",
    "\n",
    "for i, j in enumerate(t_lab_count):\n",
    "    t_lab_per[i] = j/len(train_label)\n",
    "\n",
    "print(\"val 개수, train 개수 = \",len(val_label), len(train_label))\n",
    "print(\"\")\n",
    "print(\"label 비율\")\n",
    "print(\"----------------------\")\n",
    "\n",
    "print(v_lab_per)\n",
    "print(\"----------------------\")\n",
    "print(t_lab_per)\n",
    "\n",
    "\n",
    "\n"
   ]
  },
  {
   "cell_type": "code",
   "execution_count": null,
   "metadata": {},
   "outputs": [],
   "source": []
  }
 ],
 "metadata": {
  "interpreter": {
   "hash": "d4d1e4263499bec80672ea0156c357c1ee493ec2b1c70f0acce89fc37c4a6abe"
  },
  "kernelspec": {
   "display_name": "Python 3.8.5 ('base')",
   "language": "python",
   "name": "python3"
  },
  "language_info": {
   "codemirror_mode": {
    "name": "ipython",
    "version": 3
   },
   "file_extension": ".py",
   "mimetype": "text/x-python",
   "name": "python",
   "nbconvert_exporter": "python",
   "pygments_lexer": "ipython3",
   "version": "3.8.5"
  },
  "orig_nbformat": 4
 },
 "nbformat": 4,
 "nbformat_minor": 2
}
