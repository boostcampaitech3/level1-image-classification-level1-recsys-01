{
 "cells": [
  {
   "cell_type": "code",
   "execution_count": 1,
   "id": "0d9ff7fa-5055-4a01-bc70-9f3ffb6e0a5d",
   "metadata": {},
   "outputs": [],
   "source": [
    "import os\n",
    "import pandas as pd\n",
    "from PIL import Image\n",
    "\n",
    "import torch\n",
    "import torch.nn as nn\n",
    "import torch.nn.functional as F\n",
    "from torch.utils.data import Dataset, DataLoader\n",
    "\n",
    "from torchvision import transforms\n",
    "from torchvision.transforms import Resize, ToTensor, Normalize\n",
    "\n",
    "from tqdm import tqdm"
   ]
  },
  {
   "cell_type": "code",
   "execution_count": 15,
   "id": "d70f0ce4-b05c-404c-bf4a-c5d1b3234993",
   "metadata": {},
   "outputs": [],
   "source": [
    "import os\n",
    "import sys\n",
    "import gzip\n",
    "import random\n",
    "import platform\n",
    "import warnings\n",
    "import collections\n",
    "from tqdm import tqdm, tqdm_notebook\n",
    "\n",
    "import re\n",
    "import requests\n",
    "import numpy as np\n",
    "import pandas as pd\n",
    "import matplotlib as mpl\n",
    "import matplotlib.pyplot as plt\n",
    "from PIL import Image\n",
    "from sklearn.datasets import load_iris\n",
    "\n",
    "import torch\n",
    "import torchvision\n",
    "import torch.nn as nn\n",
    "import torch.optim as optim\n",
    "import torch.nn.functional as F\n",
    "from torchvision import transforms, utils\n",
    "\n",
    "from torch.utils.data import Dataset, DataLoader, random_split, SubsetRandomSampler, WeightedRandomSampler\n",
    "from torchvision.transforms.functional import to_pil_image\n"
   ]
  },
  {
   "cell_type": "code",
   "execution_count": 36,
   "id": "8c8f0cba-9338-4c59-9871-4359f5d2611d",
   "metadata": {},
   "outputs": [],
   "source": [
    "transform = transforms.Compose([\n",
    "    Resize((256, 192), Image.BILINEAR),\n",
    "    ToTensor(),\n",
    "    Normalize(mean=(0.548, 0.504, 0.479), std=(0.237, 0.247, 0.246)),\n",
    "])\n"
   ]
  },
  {
   "cell_type": "code",
   "execution_count": null,
   "id": "461e48ef-6d80-4c95-984a-beb95ae92611",
   "metadata": {},
   "outputs": [],
   "source": [
    "labeled_csv = pd.read_csv('input/data/train/image_label.csv')"
   ]
  },
  {
   "cell_type": "code",
   "execution_count": null,
   "id": "ddf11e5c-8e31-445c-bf1a-27dfe1b523bd",
   "metadata": {},
   "outputs": [
    {
     "data": {
      "text/plain": [
       "18900"
      ]
     },
     "execution_count": 34,
     "metadata": {},
     "output_type": "execute_result"
    }
   ],
   "source": [
    "len(labeled_csv)"
   ]
  },
  {
   "cell_type": "code",
   "execution_count": 37,
   "id": "dde90b92-e8bf-441c-8593-c59fa207d2b0",
   "metadata": {},
   "outputs": [],
   "source": [
    "class TrainDataset(Dataset):\n",
    "    def __init__(self, table, transform):\n",
    "        self.table = table\n",
    "        self.transform = transform\n",
    "\n",
    "        self.X, self.y = self.read_data()\n",
    "        \n",
    "    def read_data(self):\n",
    "        X,y = [],[]\n",
    "        for i in tqdm(range(len(self.table))):\n",
    "            img = Image.open(self.table['absolute_path'][i])\n",
    "            if self.transform:\n",
    "                img = self.transform(img)\n",
    "            X.append(img)\n",
    "            y.append(torch.tensor(self.table['label'][i]))\n",
    "        return X,y\n",
    "\n",
    "    def __len__(self):\n",
    "        return len(self.y)\n",
    "    \n",
    "    def __getitem__(self, idx):\n",
    "        return self.X[idx], self.y[idx]\n",
    "        "
   ]
  },
  {
   "cell_type": "code",
   "execution_count": 38,
   "id": "803c7cec-b972-473e-95ec-160446583aa9",
   "metadata": {},
   "outputs": [
    {
     "name": "stderr",
     "output_type": "stream",
     "text": [
      "100%|██████████| 18900/18900 [01:41<00:00, 186.38it/s]\n"
     ]
    }
   ],
   "source": [
    "mask_dataset = TrainDataset(table=labeled_csv,\n",
    "                           transform = transform)"
   ]
  },
  {
   "cell_type": "code",
   "execution_count": 62,
   "id": "87f58243-f0ac-440a-85bf-e65e6e11a779",
   "metadata": {},
   "outputs": [
    {
     "data": {
      "text/plain": [
       "18900"
      ]
     },
     "execution_count": 62,
     "metadata": {},
     "output_type": "execute_result"
    }
   ],
   "source": [
    "len(mask_dataset)"
   ]
  },
  {
   "cell_type": "code",
   "execution_count": 53,
   "id": "938fbc32-0407-4d6b-8bc7-ba6587551299",
   "metadata": {},
   "outputs": [],
   "source": [
    "mask_loader = DataLoader(mask_dataset,\n",
    "                         batch_size = 4,\n",
    "                         shuffle=True\n",
    "                        )"
   ]
  },
  {
   "cell_type": "code",
   "execution_count": 55,
   "id": "b5ecc2d7-ab04-4bb0-9ad3-3e2c5b3901a2",
   "metadata": {},
   "outputs": [],
   "source": [
    "image, label = next(iter(mask_loader))\n",
    "# image, label"
   ]
  },
  {
   "cell_type": "code",
   "execution_count": 56,
   "id": "f4cfa2e5-8449-4eef-bc9a-552f7d3d1cca",
   "metadata": {},
   "outputs": [
    {
     "data": {
      "text/plain": [
       "torch.Size([4, 3, 256, 192])"
      ]
     },
     "execution_count": 56,
     "metadata": {},
     "output_type": "execute_result"
    }
   ],
   "source": [
    "image.shape"
   ]
  },
  {
   "cell_type": "code",
   "execution_count": 57,
   "id": "99d9cf37-b878-4e91-9e2c-f5dae4f3784b",
   "metadata": {},
   "outputs": [
    {
     "data": {
      "text/plain": [
       "tensor([16,  4,  9,  3])"
      ]
     },
     "execution_count": 57,
     "metadata": {},
     "output_type": "execute_result"
    }
   ],
   "source": [
    "label"
   ]
  },
  {
   "cell_type": "code",
   "execution_count": 31,
   "id": "086b5b61-ebec-42e0-aea3-921415941532",
   "metadata": {},
   "outputs": [
    {
     "ename": "TypeError",
     "evalue": "pic should be Tensor or ndarray. Got <class 'builtin_function_or_method'>.",
     "output_type": "error",
     "traceback": [
      "\u001b[0;31m---------------------------------------------------------------------------\u001b[0m",
      "\u001b[0;31mTypeError\u001b[0m                                 Traceback (most recent call last)",
      "\u001b[0;32m<ipython-input-31-6d7474e87122>\u001b[0m in \u001b[0;36m<module>\u001b[0;34m\u001b[0m\n\u001b[0;32m----> 1\u001b[0;31m \u001b[0mto_pil_image\u001b[0m\u001b[0;34m(\u001b[0m\u001b[0mimage\u001b[0m\u001b[0;34m.\u001b[0m\u001b[0mview\u001b[0m\u001b[0;34m)\u001b[0m\u001b[0;34m\u001b[0m\u001b[0;34m\u001b[0m\u001b[0m\n\u001b[0m",
      "\u001b[0;32m/opt/conda/lib/python3.8/site-packages/torchvision/transforms/functional.py\u001b[0m in \u001b[0;36mto_pil_image\u001b[0;34m(pic, mode)\u001b[0m\n\u001b[1;32m    174\u001b[0m     \"\"\"\n\u001b[1;32m    175\u001b[0m     \u001b[0;32mif\u001b[0m \u001b[0;32mnot\u001b[0m\u001b[0;34m(\u001b[0m\u001b[0misinstance\u001b[0m\u001b[0;34m(\u001b[0m\u001b[0mpic\u001b[0m\u001b[0;34m,\u001b[0m \u001b[0mtorch\u001b[0m\u001b[0;34m.\u001b[0m\u001b[0mTensor\u001b[0m\u001b[0;34m)\u001b[0m \u001b[0;32mor\u001b[0m \u001b[0misinstance\u001b[0m\u001b[0;34m(\u001b[0m\u001b[0mpic\u001b[0m\u001b[0;34m,\u001b[0m \u001b[0mnp\u001b[0m\u001b[0;34m.\u001b[0m\u001b[0mndarray\u001b[0m\u001b[0;34m)\u001b[0m\u001b[0;34m)\u001b[0m\u001b[0;34m:\u001b[0m\u001b[0;34m\u001b[0m\u001b[0;34m\u001b[0m\u001b[0m\n\u001b[0;32m--> 176\u001b[0;31m         \u001b[0;32mraise\u001b[0m \u001b[0mTypeError\u001b[0m\u001b[0;34m(\u001b[0m\u001b[0;34m'pic should be Tensor or ndarray. Got {}.'\u001b[0m\u001b[0;34m.\u001b[0m\u001b[0mformat\u001b[0m\u001b[0;34m(\u001b[0m\u001b[0mtype\u001b[0m\u001b[0;34m(\u001b[0m\u001b[0mpic\u001b[0m\u001b[0;34m)\u001b[0m\u001b[0;34m)\u001b[0m\u001b[0;34m)\u001b[0m\u001b[0;34m\u001b[0m\u001b[0;34m\u001b[0m\u001b[0m\n\u001b[0m\u001b[1;32m    177\u001b[0m \u001b[0;34m\u001b[0m\u001b[0m\n\u001b[1;32m    178\u001b[0m     \u001b[0;32melif\u001b[0m \u001b[0misinstance\u001b[0m\u001b[0;34m(\u001b[0m\u001b[0mpic\u001b[0m\u001b[0;34m,\u001b[0m \u001b[0mtorch\u001b[0m\u001b[0;34m.\u001b[0m\u001b[0mTensor\u001b[0m\u001b[0;34m)\u001b[0m\u001b[0;34m:\u001b[0m\u001b[0;34m\u001b[0m\u001b[0;34m\u001b[0m\u001b[0m\n",
      "\u001b[0;31mTypeError\u001b[0m: pic should be Tensor or ndarray. Got <class 'builtin_function_or_method'>."
     ]
    }
   ],
   "source": [
    "to_pil_image(image.view)"
   ]
  },
  {
   "cell_type": "code",
   "execution_count": 58,
   "id": "93747971-d52a-4a00-bcd0-83cda9f1855c",
   "metadata": {},
   "outputs": [],
   "source": [
    "def imshow(img):\n",
    "    img = img / 2 + 0.5\n",
    "    np_img = img.numpy()\n",
    "    plt.imshow(np.transpose(np_img,(1,2,0)))\n",
    "    \n",
    "    print(np_img.shape)\n",
    "    print((np.transpose(np_img,(1,2,0))).shape)"
   ]
  },
  {
   "cell_type": "code",
   "execution_count": 59,
   "id": "b412d325-6300-4b16-b4a1-00c63a2d7ee7",
   "metadata": {},
   "outputs": [
    {
     "name": "stderr",
     "output_type": "stream",
     "text": [
      "Clipping input data to the valid range for imshow with RGB data ([0..1] for floats or [0..255] for integers).\n"
     ]
    },
    {
     "name": "stdout",
     "output_type": "stream",
     "text": [
      "torch.Size([4, 3, 256, 192])\n",
      "(3, 260, 778)\n",
      "(260, 778, 3)\n",
      "torch.Size([4, 3, 256, 192])\n",
      "torch.Size([3, 260, 778])\n",
      "tensor(16) \n"
     ]
    },
    {
     "data": {
      "image/png": "[encoded data removed]",
      "text/plain": [
       "<Figure size 432x288 with 1 Axes>"
      ]
     },
     "metadata": {
      "needs_background": "light"
     },
     "output_type": "display_data"
    }
   ],
   "source": [
    "print(image.shape)\n",
    "imshow(torchvision.utils.make_grid(image, nrow=4))\n",
    "print(image.shape)\n",
    "print((torchvision.utils.make_grid(image)).shape)\n",
    "print(\"\".join(\"%5s \"%label[j] for j in range(1)))"
   ]
  },
  {
   "cell_type": "code",
   "execution_count": 61,
   "id": "4211c15c-2194-42e4-83ef-0c70e3d7a5be",
   "metadata": {},
   "outputs": [
    {
     "ename": "AttributeError",
     "evalue": "",
     "output_type": "error",
     "traceback": [
      "\u001b[0;31m---------------------------------------------------------------------------\u001b[0m",
      "\u001b[0;31mAttributeError\u001b[0m                            Traceback (most recent call last)",
      "\u001b[0;32m<ipython-input-61-0490344b27e0>\u001b[0m in \u001b[0;36m<module>\u001b[0;34m\u001b[0m\n\u001b[0;32m----> 1\u001b[0;31m \u001b[0mtrain_set\u001b[0m\u001b[0;34m,\u001b[0m \u001b[0mval_set\u001b[0m \u001b[0;34m=\u001b[0m \u001b[0mmask_dataset\u001b[0m\u001b[0;34m.\u001b[0m\u001b[0msplit_dataset\u001b[0m\u001b[0;34m(\u001b[0m\u001b[0;34m)\u001b[0m\u001b[0;34m\u001b[0m\u001b[0;34m\u001b[0m\u001b[0m\n\u001b[0m",
      "\u001b[0;32m/opt/conda/lib/python3.8/site-packages/torch/utils/data/dataset.py\u001b[0m in \u001b[0;36m__getattr__\u001b[0;34m(self, attribute_name)\u001b[0m\n\u001b[1;32m     81\u001b[0m         \u001b[0;34m[\u001b[0m\u001b[0;36m3\u001b[0m\u001b[0;34m,\u001b[0m \u001b[0;36m4\u001b[0m\u001b[0;34m,\u001b[0m \u001b[0;36m5\u001b[0m\u001b[0;34m,\u001b[0m \u001b[0;36m6\u001b[0m\u001b[0;34m]\u001b[0m\u001b[0;34m\u001b[0m\u001b[0;34m\u001b[0m\u001b[0m\n\u001b[1;32m     82\u001b[0m \u001b[0;34m\u001b[0m\u001b[0m\n\u001b[0;32m---> 83\u001b[0;31m         \u001b[0;34m>>\u001b[0m\u001b[0;34m>\u001b[0m \u001b[0;31m# Mult-process loading with two worker processes\u001b[0m\u001b[0;34m\u001b[0m\u001b[0;34m\u001b[0m\u001b[0m\n\u001b[0m\u001b[1;32m     84\u001b[0m         \u001b[0;34m>>\u001b[0m\u001b[0;34m>\u001b[0m \u001b[0;31m# Worker 0 fetched [3, 4].  Worker 1 fetched [5, 6].\u001b[0m\u001b[0;34m\u001b[0m\u001b[0;34m\u001b[0m\u001b[0m\n\u001b[1;32m     85\u001b[0m         \u001b[0;34m>>\u001b[0m\u001b[0;34m>\u001b[0m \u001b[0mprint\u001b[0m\u001b[0;34m(\u001b[0m\u001b[0mlist\u001b[0m\u001b[0;34m(\u001b[0m\u001b[0mtorch\u001b[0m\u001b[0;34m.\u001b[0m\u001b[0mutils\u001b[0m\u001b[0;34m.\u001b[0m\u001b[0mdata\u001b[0m\u001b[0;34m.\u001b[0m\u001b[0mDataLoader\u001b[0m\u001b[0;34m(\u001b[0m\u001b[0mds\u001b[0m\u001b[0;34m,\u001b[0m \u001b[0mnum_workers\u001b[0m\u001b[0;34m=\u001b[0m\u001b[0;36m2\u001b[0m\u001b[0;34m)\u001b[0m\u001b[0;34m)\u001b[0m\u001b[0;34m)\u001b[0m\u001b[0;34m\u001b[0m\u001b[0;34m\u001b[0m\u001b[0m\n",
      "\u001b[0;31mAttributeError\u001b[0m: "
     ]
    }
   ],
   "source": [
    "# train_set, val_set = mask_dataset.split_dataset()"
   ]
  },
  {
   "cell_type": "code",
   "execution_count": 52,
   "id": "00aaf473-6331-4486-835d-cae21ae88337",
   "metadata": {},
   "outputs": [],
   "source": [
    "class BaseModel(nn.Module):\n",
    "    def __init__(self, num_classes):\n",
    "        super().__init__()\n",
    "\n",
    "        self.conv1 = nn.Conv2d(3, 32, kernel_size=7, stride=1)\n",
    "        self.conv2 = nn.Conv2d(32, 64, kernel_size=3, stride=1)\n",
    "        self.conv3 = nn.Conv2d(64, 128, kernel_size=3, stride=1)\n",
    "        self.dropout1 = nn.Dropout(0.25)\n",
    "        self.dropout2 = nn.Dropout(0.25)\n",
    "        self.avgpool = nn.AdaptiveAvgPool2d((1, 1))\n",
    "        self.fc = nn.Linear(128, num_classes)\n",
    "\n",
    "    def forward(self, x):\n",
    "        x = self.conv1(x)\n",
    "        x = F.relu(x)\n",
    "\n",
    "        x = self.conv2(x)\n",
    "        x = F.relu(x)\n",
    "        x = F.max_pool2d(x, 2)\n",
    "        x = self.dropout1(x)\n",
    "\n",
    "        x = self.conv3(x)\n",
    "        x = F.relu(x)\n",
    "        x = F.max_pool2d(x, 2)\n",
    "        x = self.dropout2(x)\n",
    "\n",
    "        x = self.avgpool(x)\n",
    "        x = x.view(-1, 128)\n",
    "        return self.fc(x)\n",
    "\n"
   ]
  },
  {
   "cell_type": "code",
   "execution_count": 65,
   "id": "ea5dec87-53b9-4b96-a067-07054ea9477e",
   "metadata": {},
   "outputs": [],
   "source": [
    "device = torch.device('cuda')"
   ]
  },
  {
   "cell_type": "code",
   "execution_count": 66,
   "id": "0ea25136-a1a7-4981-a9ce-558df8f78af5",
   "metadata": {},
   "outputs": [],
   "source": [
    "model = BaseModel(num_classes=18).to(device)\n",
    "loss = nn.CrossEntropyLoss()\n",
    "optm = optim.Adam(model.parameters(),lr=1e-3)"
   ]
  },
  {
   "cell_type": "code",
   "execution_count": 67,
   "id": "53ec4591-6df6-45f3-bdef-d36a265a1c50",
   "metadata": {},
   "outputs": [
    {
     "data": {
      "text/plain": [
       "BaseModel(\n",
       "  (conv1): Conv2d(3, 32, kernel_size=(7, 7), stride=(1, 1))\n",
       "  (conv2): Conv2d(32, 64, kernel_size=(3, 3), stride=(1, 1))\n",
       "  (conv3): Conv2d(64, 128, kernel_size=(3, 3), stride=(1, 1))\n",
       "  (dropout1): Dropout(p=0.25, inplace=False)\n",
       "  (dropout2): Dropout(p=0.25, inplace=False)\n",
       "  (avgpool): AdaptiveAvgPool2d(output_size=(1, 1))\n",
       "  (fc): Linear(in_features=128, out_features=18, bias=True)\n",
       ")"
      ]
     },
     "execution_count": 67,
     "metadata": {},
     "output_type": "execute_result"
    }
   ],
   "source": [
    "model.eval()"
   ]
  },
  {
   "cell_type": "code",
   "execution_count": 74,
   "id": "a0daf15d-0fc1-4907-888b-5cfad0ec18ab",
   "metadata": {},
   "outputs": [],
   "source": [
    "seed = 42\n",
    "torch.manual_seed(seed)\n",
    "torch.cuda.manual_seed(seed)\n",
    "torch.cuda.manual_seed_all(seed)  # if use multi-GPU\n",
    "torch.backends.cudnn.deterministic = True\n",
    "torch.backends.cudnn.benchmark = False\n",
    "np.random.seed(seed)\n",
    "random.seed(seed)"
   ]
  },
  {
   "cell_type": "code",
   "execution_count": 85,
   "id": "44fe270a-1dfd-4552-996c-27dbfea24e4e",
   "metadata": {},
   "outputs": [
    {
     "name": "stdout",
     "output_type": "stream",
     "text": [
      "Done\n"
     ]
    }
   ],
   "source": [
    "def func_eval(model,data_iter,device):\n",
    "    with torch.no_grad():\n",
    "        n_total,n_correct = 0,0\n",
    "        model.eval() # evaluate (affects DropOut and BN)\n",
    "        for batch_in,batch_out in data_iter:\n",
    "            y_trgt = batch_out.to(device)\n",
    "            model_pred = model(batch_in.to(device))\n",
    "            _,y_pred = torch.max(model_pred.data,1)\n",
    "            n_correct += (y_pred==y_trgt).sum().item()\n",
    "            n_total += batch_in.size(0)\n",
    "        val_accr = (n_correct/n_total)\n",
    "        model.train() # back to train mode \n",
    "    return val_accr\n",
    "print (\"Done\")"
   ]
  },
  {
   "cell_type": "code",
   "execution_count": 86,
   "id": "afb51da3-00da-4cc7-9acc-67e9ab72a379",
   "metadata": {},
   "outputs": [
    {
     "name": "stdout",
     "output_type": "stream",
     "text": [
      "Start training.\n",
      "epoch:[0] loss:[1.204] train_accr:[0.681] .\n",
      "epoch:[1] loss:[1.017] train_accr:[0.709] .\n",
      "epoch:[2] loss:[0.905] train_accr:[0.690] .\n",
      "epoch:[3] loss:[0.833] train_accr:[0.733] .\n",
      "epoch:[4] loss:[0.758] train_accr:[0.777] .\n",
      "epoch:[5] loss:[0.702] train_accr:[0.784] .\n",
      "epoch:[6] loss:[0.669] train_accr:[0.776] .\n",
      "epoch:[7] loss:[0.622] train_accr:[0.818] .\n",
      "epoch:[8] loss:[0.585] train_accr:[0.775] .\n",
      "epoch:[9] loss:[0.557] train_accr:[0.805] .\n",
      "Done\n"
     ]
    }
   ],
   "source": [
    "print (\"Start training.\")\n",
    "EPOCHS,print_every = 10,1\n",
    "\n",
    "for epoch in range(EPOCHS):\n",
    "    model.train() # to train mode \n",
    "    loss_val_sum = 0\n",
    "    for batch_in,batch_out in mask_loader:\n",
    "        # Forward path\n",
    "        y_pred = model.forward(batch_in.to(device))\n",
    "        loss_out = loss(y_pred,batch_out.to(device))\n",
    "        # Update\n",
    "        # FILL IN HERE      # reset gradient \n",
    "        optm.zero_grad()\n",
    "        # FILL IN HERE      # backpropagate\n",
    "        loss_out.backward()\n",
    "        # FILL IN HERE      # optimizer update\n",
    "        optm.step()\n",
    "        loss_val_sum += loss_out\n",
    "    loss_val_avg = loss_val_sum/len(mask_loader)\n",
    "    # Print\n",
    "    if ((epoch%print_every)==0) or (epoch==(EPOCHS-1)):\n",
    "        train_accr = func_eval(model,mask_loader,device)\n",
    "        print (\"epoch:[%d] loss:[%.3f] train_accr:[%.3f] .\"%\n",
    "               (epoch,loss_val_avg,train_accr))\n",
    "print (\"Done\")"
   ]
  },
  {
   "cell_type": "code",
   "execution_count": 71,
   "id": "a8847b22-1603-4f94-98dc-3bf97051a735",
   "metadata": {},
   "outputs": [],
   "source": [
    "class TestDataset(Dataset):\n",
    "    def __init__(self, img_paths, transform):\n",
    "        self.img_paths = img_paths\n",
    "        self.transform = transform\n",
    "\n",
    "    def __getitem__(self, index):\n",
    "        image = Image.open(self.img_paths[index])\n",
    "\n",
    "        if self.transform:\n",
    "            image = self.transform(image)\n",
    "        return image\n",
    "\n",
    "    def __len__(self):\n",
    "        return len(self.img_paths)"
   ]
  },
  {
   "cell_type": "code",
   "execution_count": 72,
   "id": "b2dee295-60a3-4c22-badd-6e19d0682b5c",
   "metadata": {},
   "outputs": [],
   "source": [
    "# 테스트 데이터셋 폴더 경로를 지정해주세요.\n",
    "test_dir = '/opt/ml/input/data/eval'\n",
    "image_dir = os.path.join(test_dir, 'images')\n",
    "submission = pd.read_csv(os.path.join(test_dir, 'info.csv'))"
   ]
  },
  {
   "cell_type": "code",
   "execution_count": 88,
   "id": "ec368503-4b7c-4dac-91bd-a9d379c3df6f",
   "metadata": {},
   "outputs": [
    {
     "name": "stdout",
     "output_type": "stream",
     "text": [
      "test inference is done!\n"
     ]
    }
   ],
   "source": [
    "# Test Dataset 클래스 객체를 생성하고 DataLoader를 만듭니다.\n",
    "image_paths = [os.path.join(image_dir, img_id) for img_id in submission.ImageID]\n",
    "transform = transforms.Compose([\n",
    "    Resize((256, 192), Image.BILINEAR),\n",
    "    ToTensor(),\n",
    "    Normalize(mean=(0.548, 0.504, 0.479), std=(0.237, 0.247, 0.246)),\n",
    "])\n",
    "dataset = TestDataset(image_paths, transform)\n",
    "\n",
    "loader = DataLoader(\n",
    "    dataset,\n",
    "    shuffle=False\n",
    ")\n",
    "\n",
    "# 모델이 테스트 데이터셋을 예측하고 결과를 저장합니다.\n",
    "all_predictions = []\n",
    "for images in loader:\n",
    "    with torch.no_grad():\n",
    "        images = images.to(device)\n",
    "        pred = model(images)\n",
    "        pred = pred.argmax(dim=-1)\n",
    "        all_predictions.extend(pred.cpu().numpy())\n",
    "# accc = func_eval(model,loader,device)        \n",
    "# print (\"test_accr:[%.3f] .\"%\n",
    "#                (accc))\n",
    "submission['ans'] = all_predictions\n",
    "# 제출할 파일을 저장합니다.\n",
    "submission.to_csv(os.path.join(test_dir, 'submission.csv'), index=False)\n",
    "print('test inference is done!')\n"
   ]
  },
  {
   "cell_type": "code",
   "execution_count": null,
   "id": "6066f928-54e3-4b4f-ae15-4026018abc9a",
   "metadata": {},
   "outputs": [],
   "source": [
    "EPOCHS,print_every = 10,1\n",
    "\n",
    "for epoch in range(EPOCHS):\n",
    "    model.train() # to train mode \n",
    "    loss_val_sum = 0\n",
    "    for batch_in,batch_out in mask_loader:\n",
    "        # Forward path\n",
    "        y_pred = model.forward(batch_in.to(device))\n",
    "        loss_out = loss(y_pred,batch_out.to(device))\n",
    "        # Update\n",
    "        # FILL IN HERE      # reset gradient \n",
    "        optm.zero_grad()\n",
    "        # FILL IN HERE      # backpropagate\n",
    "        loss_out.backward()\n",
    "        # FILL IN HERE      # optimizer update\n",
    "        optm.step()\n",
    "        loss_val_sum += loss_out\n",
    "    loss_val_avg = loss_val_sum/len(mask_loader)\n",
    "    # Print\n",
    "    if ((epoch%print_every)==0) or (epoch==(EPOCHS-1)):\n",
    "        train_accr = func_eval(model,mask_loader,device)\n",
    "        print (\"epoch:[%d] loss:[%.3f] train_accr:[%.3f] .\"%\n",
    "               (epoch,loss_val_avg,train_accr))\n",
    "print (\"Done\")"
   ]
  }
 ],
 "metadata": {
  "kernelspec": {
   "display_name": "Python 3 (ipykernel)",
   "language": "python",
   "name": "python3"
  },
  "language_info": {
   "codemirror_mode": {
    "name": "ipython",
    "version": 3
   },
   "file_extension": ".py",
   "mimetype": "text/x-python",
   "name": "python",
   "nbconvert_exporter": "python",
   "pygments_lexer": "ipython3",
   "version": "3.8.5"
  }
 },
 "nbformat": 4,
 "nbformat_minor": 5
}
