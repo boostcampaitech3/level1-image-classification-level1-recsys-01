{
 "cells": [
  {
   "cell_type": "code",
   "execution_count": 1,
   "id": "c1f50943-4076-4d76-8783-cef78abfade6",
   "metadata": {},
   "outputs": [],
   "source": [
    "import json\n",
    "import argparse\n",
    "import os\n",
    "from importlib import import_module\n",
    "\n",
    "import numpy as np\n",
    "import pandas as pd\n",
    "from sklearn.metrics import classification_report\n"
   ]
  },
  {
   "cell_type": "code",
   "execution_count": 2,
   "id": "e27fdc27-7df0-4b78-814b-414b799ba06f",
   "metadata": {},
   "outputs": [],
   "source": [
    "\n",
    "def evaluation(gt_dir, pred_dir):\n",
    "    \"\"\"\n",
    "    Args:\n",
    "        gt_dir (string) : root directory of ground truth file\n",
    "        pred_dir (string) : root directory of prediction file (output of inference.py)\n",
    "    \"\"\"\n",
    "    num_classes = 18\n",
    "    results = {}\n",
    "\n",
    "    gt = pd.read_csv(os.path.join(gt_dir, 'gt.csv'))\n",
    "    pred = pd.read_csv(os.path.join(pred_dir, 'output.csv'))\n",
    "    cls_report = classification_report(gt.ans.values, pred.ans.values, labels=np.arange(num_classes), output_dict=True, zero_division=0)\n",
    "    acc = cls_report['accuracy'] * 100\n",
    "    f1 = np.mean([cls_report[str(i)]['f1-score'] for i in range(num_classes)])\n",
    "\n",
    "    results['accuracy'] = {\n",
    "        'value': f'{acc:.2f}%',\n",
    "        'rank': True,\n",
    "        'decs': True,\n",
    "    }\n",
    "    results['f1'] = {\n",
    "        'value': f'{f1:.2f}%',\n",
    "        'rank': False,\n",
    "        'decs': True,\n",
    "    }\n",
    "\n",
    "    return json.dumps(results)\n",
    "\n",
    "#if __name__ == '__main__':\n",
    "#    gt_dir = os.environ.get('SM_GROUND_TRUTH_DIR')\n",
    "#    pred_dir = os.environ.get('SM_OUTPUT_DATA_DIR')\n",
    "#\n",
    "#    from pprint import pprint\n",
    "#    results = evaluation(gt_dir, pred_dir)\n",
    "#    pprint(results)\n"
   ]
  }
 ],
 "metadata": {
  "kernelspec": {
   "display_name": "Python 3 (ipykernel)",
   "language": "python",
   "name": "python3"
  },
  "language_info": {
   "codemirror_mode": {
    "name": "ipython",
    "version": 3
   },
   "file_extension": ".py",
   "mimetype": "text/x-python",
   "name": "python",
   "nbconvert_exporter": "python",
   "pygments_lexer": "ipython3",
   "version": "3.8.5"
  }
 },
 "nbformat": 4,
 "nbformat_minor": 5
}
