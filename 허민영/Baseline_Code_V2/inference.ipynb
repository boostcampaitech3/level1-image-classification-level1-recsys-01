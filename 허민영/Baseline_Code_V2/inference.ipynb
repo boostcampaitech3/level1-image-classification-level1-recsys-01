{
 "cells": [
  {
   "cell_type": "code",
   "execution_count": 1,
   "id": "77689eb9-376d-4f7b-8ceb-41931afd7e16",
   "metadata": {},
   "outputs": [],
   "source": [
    "import argparse\n",
    "import os\n",
    "from importlib import import_module\n",
    "\n",
    "import pandas as pd\n",
    "import torch\n",
    "from torch.utils.data import DataLoader\n",
    "\n",
    "from dataset import TestDataset, MaskBaseDataset\n"
   ]
  },
  {
   "cell_type": "code",
   "execution_count": 2,
   "id": "66706f4f-42e9-4d15-979e-d267e3240fca",
   "metadata": {},
   "outputs": [],
   "source": [
    "\n",
    "def load_model(saved_model, num_classes, device):\n",
    "    model_cls = getattr(import_module(\"model\"), args.model)\n",
    "    model = model_cls(\n",
    "        num_classes=num_classes\n",
    "    )\n",
    "\n",
    "    # tarpath = os.path.join(saved_model, 'best.tar.gz')\n",
    "    # tar = tarfile.open(tarpath, 'r:gz')\n",
    "    # tar.extractall(path=saved_model)\n",
    "\n",
    "    model_path = os.path.join(saved_model, 'best.pth')\n",
    "    model.load_state_dict(torch.load(model_path, map_location=device))\n",
    "\n",
    "    return model\n",
    "\n",
    "\n",
    "@torch.no_grad()\n",
    "def inference(data_dir, model_dir, output_dir, args):\n",
    "    \"\"\"\n",
    "    \"\"\"\n",
    "    use_cuda = torch.cuda.is_available()\n",
    "    device = torch.device(\"cuda\" if use_cuda else \"cpu\")\n",
    "\n",
    "    num_classes = MaskBaseDataset.num_classes  # 18\n",
    "    model = load_model(model_dir, num_classes, device).to(device)\n",
    "    model.eval()\n",
    "\n",
    "    img_root = os.path.join(data_dir, 'images')\n",
    "    info_path = os.path.join(data_dir, 'info.csv')\n",
    "    info = pd.read_csv(info_path)\n",
    "\n",
    "    img_paths = [os.path.join(img_root, img_id) for img_id in info.ImageID]\n",
    "    dataset = TestDataset(img_paths, args.resize)\n",
    "    loader = torch.utils.data.DataLoader(\n",
    "        dataset,\n",
    "        batch_size=args.batch_size,\n",
    "        num_workers=8,\n",
    "        shuffle=False,\n",
    "        pin_memory=use_cuda,\n",
    "        drop_last=False,\n",
    "    )\n",
    "\n",
    "    print(\"Calculating inference results..\")\n",
    "    preds = []\n",
    "    with torch.no_grad():\n",
    "        for idx, images in enumerate(loader):\n",
    "            images = images.to(device)\n",
    "            pred = model(images)\n",
    "            pred = pred.argmax(dim=-1)\n",
    "            preds.extend(pred.cpu().numpy())\n",
    "\n",
    "    info['ans'] = preds\n",
    "    info.to_csv(os.path.join(output_dir, f'output.csv'), index=False)\n",
    "    print(f'Inference Done!')\n"
   ]
  },
  {
   "cell_type": "code",
   "execution_count": 7,
   "id": "e5edc8dd-c0bd-44ce-a006-74cbf677f454",
   "metadata": {},
   "outputs": [
    {
     "data": {
      "text/plain": [
       "\"\\nif __name__ == '__main__':\\n    parser = argparse.ArgumentParser()\\n\\n    # Data and model checkpoints directories\\n    parser.add_argument('--batch_size', type=int, default=1000, help='input batch size for validing (default: 1000)')\\n    parser.add_argument('--resize', type=tuple, default=(96, 128), help='resize size for image when you trained (default: (96, 128))')\\n    parser.add_argument('--model', type=str, default='BaseModel', help='model type (default: BaseModel)')\\n\\n    # Container environment\\n    parser.add_argument('--data_dir', type=str, default=os.environ.get('SM_CHANNEL_EVAL', '/opt/ml/input/data/eval'))\\n    parser.add_argument('--model_dir', type=str, default=os.environ.get('SM_CHANNEL_MODEL', './model'))\\n    parser.add_argument('--output_dir', type=str, default=os.environ.get('SM_OUTPUT_DATA_DIR', './output'))\\n\\n    args = parser.parse_args()\\n\\n    data_dir = args.data_dir\\n    model_dir = args.model_dir\\n    output_dir = args.output_dir\\n\\n    os.makedirs(output_dir, exist_ok=True)\\n\\n    inference(data_dir, model_dir, output_dir, args)\\n\""
      ]
     },
     "execution_count": 7,
     "metadata": {},
     "output_type": "execute_result"
    }
   ],
   "source": [
    "'''\n",
    "if __name__ == '__main__':\n",
    "    parser = argparse.ArgumentParser()\n",
    "\n",
    "    # Data and model checkpoints directories\n",
    "    parser.add_argument('--batch_size', type=int, default=1000, help='input batch size for validing (default: 1000)')\n",
    "    parser.add_argument('--resize', type=tuple, default=(96, 128), help='resize size for image when you trained (default: (96, 128))')\n",
    "    parser.add_argument('--model', type=str, default='BaseModel', help='model type (default: BaseModel)')\n",
    "\n",
    "    # Container environment\n",
    "    parser.add_argument('--data_dir', type=str, default=os.environ.get('SM_CHANNEL_EVAL', '/opt/ml/input/data/eval'))\n",
    "    parser.add_argument('--model_dir', type=str, default=os.environ.get('SM_CHANNEL_MODEL', './model'))\n",
    "    parser.add_argument('--output_dir', type=str, default=os.environ.get('SM_OUTPUT_DATA_DIR', './output'))\n",
    "\n",
    "    args = parser.parse_args()\n",
    "\n",
    "    data_dir = args.data_dir\n",
    "    model_dir = args.model_dir\n",
    "    output_dir = args.output_dir\n",
    "\n",
    "    os.makedirs(output_dir, exist_ok=True)\n",
    "\n",
    "    inference(data_dir, model_dir, output_dir, args)\n",
    "'''"
   ]
  },
  {
   "cell_type": "code",
   "execution_count": null,
   "id": "925fb676-0d9a-4f79-8d63-e56b71d18910",
   "metadata": {},
   "outputs": [],
   "source": []
  },
  {
   "cell_type": "code",
   "execution_count": null,
   "id": "10524366-861e-4074-87a2-501ee5bf8a8b",
   "metadata": {},
   "outputs": [],
   "source": []
  },
  {
   "cell_type": "code",
   "execution_count": null,
   "id": "1add16c9-2fda-4992-aa2e-28df99f26101",
   "metadata": {},
   "outputs": [],
   "source": []
  },
  {
   "cell_type": "code",
   "execution_count": null,
   "id": "8c0c8d6e-9b23-40cf-852b-9e0c71d8003e",
   "metadata": {},
   "outputs": [],
   "source": []
  },
  {
   "cell_type": "code",
   "execution_count": null,
   "id": "bb37b160-db0f-419d-950e-2ce7d81cbf1c",
   "metadata": {},
   "outputs": [],
   "source": []
  },
  {
   "cell_type": "code",
   "execution_count": null,
   "id": "7997aa53-30ea-4000-8170-569d5c4a03c6",
   "metadata": {},
   "outputs": [],
   "source": []
  }
 ],
 "metadata": {
  "kernelspec": {
   "display_name": "Python 3 (ipykernel)",
   "language": "python",
   "name": "python3"
  },
  "language_info": {
   "codemirror_mode": {
    "name": "ipython",
    "version": 3
   },
   "file_extension": ".py",
   "mimetype": "text/x-python",
   "name": "python",
   "nbconvert_exporter": "python",
   "pygments_lexer": "ipython3",
   "version": "3.8.5"
  }
 },
 "nbformat": 4,
 "nbformat_minor": 5
}
